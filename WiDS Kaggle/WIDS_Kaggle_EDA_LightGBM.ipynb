{
 "cells": [
  {
   "cell_type": "markdown",
   "metadata": {},
   "source": [
    "# Binary Classification of Survival Rates from Emergency Room Visits\n",
    "\n",
    "### 2020 WiDS Kaggle Competition\n",
    "\n",
    "### Exploratory Data Analysis and LightGBM\n",
    "\n",
    "#### Rebecca Stewart\n",
    "\n"
   ]
  },
  {
   "cell_type": "markdown",
   "metadata": {},
   "source": [
    "### Overview\n",
    "\n",
    "The challenge is to create a model that uses data from the first 24 hours of intensive care to predict patient survival. MIT's GOSSIS community initiative, with privacy certification from the Harvard Privacy Lab, has provided a dataset of more than 130,000 hospital Intensive Care Unit (ICU) visits from patients, spanning a one-year timeframe. This data is part of a growing global effort and consortium spanning Argentina, Australia, New Zealand, Sri Lanka, Brazil, and more than 200 hospitals in the United States.\n",
    "\n",
    "The following notebook focuses on pre-processing, exploratory data analysis and visualizations of important features. The model chosen to generate a decent AUC score is LightGBM. \n",
    "\n",
    "<b>Please Note: </b> There is a companion notebook to this one (called \"WiSD Kaggle Condensed Stacked\") - where I train many models and then attempt to stack or blend them to improve upon this score."
   ]
  },
  {
   "cell_type": "markdown",
   "metadata": {},
   "source": [
    "### Import Libraries "
   ]
  },
  {
   "cell_type": "code",
   "execution_count": 54,
   "metadata": {},
   "outputs": [],
   "source": [
    "# I turned off warnings for the fun of this notebook so that the output was cleaner and easier to read\n",
    "import warnings\n",
    "warnings.filterwarnings(\"ignore\")\n",
    "import datetime as dt\n",
    "import pandas as pd\n",
    "import numpy as np\n",
    "import matplotlib.pyplot as plt\n",
    "import re\n",
    "import gc\n",
    "import string\n",
    "import time\n",
    "import spacy\n",
    "from collections import Counter\n",
    "import scipy.stats as ss\n",
    "from scipy import stats\n",
    "import lightgbm as lgb \n",
    "from sklearn.utils import resample\n",
    "from sklearn.preprocessing import StandardScaler, OneHotEncoder\n",
    "from imblearn.over_sampling import SMOTE \n",
    "\n",
    "from sklearn import preprocessing\n",
    "from sklearn.impute import SimpleImputer\n",
    "from sklearn.model_selection import KFold\n",
    "from sklearn.model_selection import train_test_split\n",
    "\n",
    "import xgboost as xgb\n",
    "from sklearn.model_selection import GridSearchCV\n",
    "from sklearn.metrics import classification_report, confusion_matrix, accuracy_score, roc_curve, roc_auc_score\n",
    "from sklearn.metrics import mean_squared_error, r2_score\n",
    "import seaborn as sns\n",
    "sns.set()\n",
    "%matplotlib inline"
   ]
  },
  {
   "cell_type": "markdown",
   "metadata": {},
   "source": [
    "### Helper Functions \n",
    "The first one, reduce_mem_useage, was taken from Kaggle.  Memory saving function credit to https://www.kaggle.com/gemartin/load-data-reduce-memory-usage."
   ]
  },
  {
   "cell_type": "code",
   "execution_count": 2,
   "metadata": {},
   "outputs": [],
   "source": [
    "def reduce_mem_usage(df, verbose=True):\n",
    "    numerics = ['int16', 'int32', 'int64', 'float16', 'float32', 'float64']\n",
    "    start_mem = df.memory_usage().sum() / 1024**2    \n",
    "    for col in df.columns:\n",
    "        col_type = df[col].dtypes\n",
    "        if col_type in numerics:\n",
    "            c_min = df[col].min()\n",
    "            c_max = df[col].max()\n",
    "            if str(col_type)[:3] == 'int':\n",
    "                if c_min > np.iinfo(np.int8).min and c_max < np.iinfo(np.int8).max:\n",
    "                    df[col] = df[col].astype(np.int8)\n",
    "                elif c_min > np.iinfo(np.int16).min and c_max < np.iinfo(np.int16).max:\n",
    "                    df[col] = df[col].astype(np.int16)\n",
    "                elif c_min > np.iinfo(np.int32).min and c_max < np.iinfo(np.int32).max:\n",
    "                    df[col] = df[col].astype(np.int32)\n",
    "                elif c_min > np.iinfo(np.int64).min and c_max < np.iinfo(np.int64).max:\n",
    "                    df[col] = df[col].astype(np.int64)  \n",
    "            else:\n",
    "                if c_min > np.finfo(np.float16).min and c_max < np.finfo(np.float16).max:\n",
    "                    df[col] = df[col].astype(np.float16)\n",
    "                elif c_min > np.finfo(np.float32).min and c_max < np.finfo(np.float32).max:\n",
    "                    df[col] = df[col].astype(np.float32)\n",
    "                else:\n",
    "                    df[col] = df[col].astype(np.float64)    \n",
    "    end_mem = df.memory_usage().sum() / 1024**2\n",
    "    if verbose: \n",
    "        print('Mem. usage decreased to {:5.2f} Mb ({:.1f}% reduction)'.format(end_mem, 100 * (start_mem - end_mem) / start_mem))\n",
    "    return df\n",
    "\n",
    "def predict_evaluate(X_test, y_test, classifier):\n",
    "    y_pred = classifier.predict(X_test)\n",
    "    yhat = classifier.predict_proba(X_test)\n",
    "    pos_probs = yhat[:, 1]\n",
    "    print(\"Confusion Matrix\")\n",
    "    print(confusion_matrix(y_test,y_pred))\n",
    "    print(classification_report(y_test,y_pred))\n",
    "    acc_score=accuracy_score(y_test, y_pred)\n",
    "    print(\"Accuracy Score \" + str(acc_score))\n",
    "    fpr, tpr, thresholds = roc_curve(y_test, pos_probs)\n",
    "    \n",
    "    roc_auc = roc_auc_score(y_test, pos_probs)\n",
    "    plot_roc_curve(fpr, tpr, roc_auc)\n",
    "    print(\"AUC \" + str(roc_auc))\n",
    "    \n",
    "def plot_roc_curve(fpr, tpr, auc):\n",
    "    plt.figure(1)\n",
    "    plt.plot([0, 1], [0, 1], 'k--')\n",
    "    plt.plot(fpr, tpr, label='ROC curve (area = %.3f)'%auc)\n",
    "    plt.xlabel('False positive rate')\n",
    "    plt.ylabel('True positive rate')\n",
    "    plt.title('ROC curve')\n",
    "    plt.legend(loc='best')\n",
    "    plt.show()\n",
    "    \n",
    "def categorical_encode(df_train, df_test, categorical_features):\n",
    "    df_train = df_train[categorical_features].astype(str)\n",
    "    df_test = df_test[categorical_features].astype(str)\n",
    "     \n",
    "    ohe = OneHotEncoder(drop='first')\n",
    "    ohe.fit(pd.concat([df_train, df_test]))\n",
    "\n",
    "    df_train_values= ohe.transform(df_train).toarray()\n",
    "    df_train_names= ohe.get_feature_names(categorical_features)\n",
    "    df_train = pd.DataFrame(df_train_values, columns=df_train_names)\n",
    "\n",
    "    df_test_values= ohe.transform(df_test).toarray()\n",
    "    df_test_names= ohe.get_feature_names(categorical_features)\n",
    "    df_test = pd.DataFrame(df_test_values, columns=df_test_names)\n",
    "    return df_train, df_test \n"
   ]
  },
  {
   "cell_type": "markdown",
   "metadata": {},
   "source": [
    "### Set some options and thresholds"
   ]
  },
  {
   "cell_type": "code",
   "execution_count": 3,
   "metadata": {},
   "outputs": [],
   "source": [
    "#setting display options\n",
    "pd.set_option('display.max_rows', 5000)\n",
    "pd.set_option('display.max_columns', 500)\n",
    "pd.set_option('max_colwidth', 500)\n",
    "np.set_printoptions(linewidth =400)\n",
    "\n",
    "null_thresh=75 #There must be at least 75 non-null values in a row to not be dropped\n",
    "fraction_of_NaN_drop_columns = .75\n",
    "show_graphs=False\n",
    "\n",
    "\n",
    "limit_dataset_size = False\n",
    "max_records=5000"
   ]
  },
  {
   "cell_type": "markdown",
   "metadata": {},
   "source": [
    "### Load the Dataset\n",
    "\n",
    "\n",
    "Not only will we load the labeled and un-labeled datasets, but we will also load the data dictionary. The data in the dictionary not only includes feature names and descriptions, but datatypes as well. Can we use this information to help us pre-process the data and ensure that each feature is of the type that it should be? \n"
   ]
  },
  {
   "cell_type": "code",
   "execution_count": 4,
   "metadata": {},
   "outputs": [
    {
     "data": {
      "text/plain": [
       "22"
      ]
     },
     "execution_count": 4,
     "metadata": {},
     "output_type": "execute_result"
    }
   ],
   "source": [
    "# Load Dataset  -- location is as follows\n",
    "#https://www.kaggle.com/c/widsdatathon2020/download/RJVMMbUOhozhdYOtAUtz%2Fversions%2FwogAJBiaORb3PdRnSB0M%2Ffiles%2Fsamplesubmission.csv\n",
    "# downloaded on 1/13/2020 at 9:20 am\n",
    "\n",
    "\n",
    "## Read the .csv file with the pandas read_csv method an create a dataframe\n",
    "tr_data = pd.read_csv(\"training_v2.csv\")\n",
    "\n",
    "ul_data = pd.read_csv(\"unlabeled.csv\")\n",
    "\n",
    "info_df = pd.read_csv('WiDS Datathon 2020 Dictionary.csv')\n",
    "tr_data.head(5)\n",
    "\n",
    "# Use this for faster processing (during testing), set limit_dataset_size back to false after testing\n",
    "if limit_dataset_size: \n",
    "    tr_data = resample(tr_data, replace=False, n_samples=max_records, random_state=123) \n",
    "gc.collect()"
   ]
  },
  {
   "cell_type": "markdown",
   "metadata": {},
   "source": [
    "### Load list of Important Features\n",
    "\n",
    "The code in this notebook was run iteratively to figure out which features have higher importance than others. Near the end of this notebook, we built a LGBMClassifier and used its ability to estimate feature importance’s (averaged over 5 folds). The feature importance averages were saved as a csv file and then re-loaded on the next iteration to use in data analysis and to help decide which features can be dropped or not."
   ]
  },
  {
   "cell_type": "code",
   "execution_count": 5,
   "metadata": {},
   "outputs": [
    {
     "data": {
      "text/plain": [
       "80"
      ]
     },
     "execution_count": 5,
     "metadata": {},
     "output_type": "execute_result"
    }
   ],
   "source": [
    "# Load feture importances, which were created during the last run of this notebook\n",
    "feature_imp_df = pd.read_csv('feature_importances.csv')\n",
    "\n",
    "top_feature_imp_df=feature_imp_df[feature_imp_df.average > 40].sort_values('average', ascending=False)\n",
    "top_features = top_feature_imp_df['feature'].to_list()\n",
    "\n",
    "# Feature that were not one-hot-encoded\n",
    "regular_columns = [col for col in top_features if col  in tr_data.columns]\n",
    "\n",
    "# Feature that were one-hot-encoded - If we list these out, we will be able to figure out the feature before it was encoded\n",
    "encoded_columns = [col for col in top_features if col not in tr_data.columns]\n",
    "\n",
    "len(regular_columns)"
   ]
  },
  {
   "cell_type": "markdown",
   "metadata": {},
   "source": [
    "<h3>Examine the Dataset</h3>"
   ]
  },
  {
   "cell_type": "code",
   "execution_count": 6,
   "metadata": {},
   "outputs": [
    {
     "data": {
      "text/html": [
       "<div>\n",
       "<style scoped>\n",
       "    .dataframe tbody tr th:only-of-type {\n",
       "        vertical-align: middle;\n",
       "    }\n",
       "\n",
       "    .dataframe tbody tr th {\n",
       "        vertical-align: top;\n",
       "    }\n",
       "\n",
       "    .dataframe thead th {\n",
       "        text-align: right;\n",
       "    }\n",
       "</style>\n",
       "<table border=\"1\" class=\"dataframe\">\n",
       "  <thead>\n",
       "    <tr style=\"text-align: right;\">\n",
       "      <th></th>\n",
       "      <th>Category</th>\n",
       "      <th>Variable Name</th>\n",
       "      <th>Unit of Measure</th>\n",
       "      <th>Data Type</th>\n",
       "      <th>Description</th>\n",
       "      <th>Example</th>\n",
       "    </tr>\n",
       "  </thead>\n",
       "  <tbody>\n",
       "    <tr>\n",
       "      <th>0</th>\n",
       "      <td>identifier</td>\n",
       "      <td>encounter_id</td>\n",
       "      <td>None</td>\n",
       "      <td>integer</td>\n",
       "      <td>Unique identifier associated with a patient unit stay</td>\n",
       "      <td>None</td>\n",
       "    </tr>\n",
       "    <tr>\n",
       "      <th>1</th>\n",
       "      <td>identifier</td>\n",
       "      <td>hospital_id</td>\n",
       "      <td>None</td>\n",
       "      <td>integer</td>\n",
       "      <td>Unique identifier associated with a hospital</td>\n",
       "      <td>None</td>\n",
       "    </tr>\n",
       "    <tr>\n",
       "      <th>2</th>\n",
       "      <td>identifier</td>\n",
       "      <td>patient_id</td>\n",
       "      <td>None</td>\n",
       "      <td>integer</td>\n",
       "      <td>Unique identifier associated with a patient</td>\n",
       "      <td>None</td>\n",
       "    </tr>\n",
       "    <tr>\n",
       "      <th>3</th>\n",
       "      <td>demographic</td>\n",
       "      <td>hospital_death</td>\n",
       "      <td>None</td>\n",
       "      <td>binary</td>\n",
       "      <td>Whether the patient died during this hospitalization</td>\n",
       "      <td>0</td>\n",
       "    </tr>\n",
       "    <tr>\n",
       "      <th>4</th>\n",
       "      <td>demographic</td>\n",
       "      <td>age</td>\n",
       "      <td>Years</td>\n",
       "      <td>numeric</td>\n",
       "      <td>The age of the patient on unit admission</td>\n",
       "      <td>None</td>\n",
       "    </tr>\n",
       "  </tbody>\n",
       "</table>\n",
       "</div>"
      ],
      "text/plain": [
       "      Category   Variable Name Unit of Measure Data Type  \\\n",
       "0   identifier    encounter_id            None   integer   \n",
       "1   identifier     hospital_id            None   integer   \n",
       "2   identifier      patient_id            None   integer   \n",
       "3  demographic  hospital_death            None    binary   \n",
       "4  demographic             age           Years   numeric   \n",
       "\n",
       "                                             Description Example  \n",
       "0  Unique identifier associated with a patient unit stay    None  \n",
       "1           Unique identifier associated with a hospital    None  \n",
       "2            Unique identifier associated with a patient    None  \n",
       "3   Whether the patient died during this hospitalization       0  \n",
       "4               The age of the patient on unit admission    None  "
      ]
     },
     "execution_count": 6,
     "metadata": {},
     "output_type": "execute_result"
    }
   ],
   "source": [
    "info_df.head(5)"
   ]
  },
  {
   "cell_type": "markdown",
   "metadata": {},
   "source": [
    "### Prepare/Clean Data\n",
    "\n",
    "Since all encounter_id and patient_id are unique identifiers (no repeat) I can safely remove these. hospital_id, on the otherhand, is not unique, but indicates which hospital the patient was admitted to.\n",
    "\n",
    "#### Drop ID features where all values are unique\n",
    "\n",
    "Encounter Id and Patient Id can be dropped since they contain values that are all unique, but we will keep hostpital_id since it does not."
   ]
  },
  {
   "cell_type": "code",
   "execution_count": 7,
   "metadata": {},
   "outputs": [
    {
     "name": "stdout",
     "output_type": "stream",
     "text": [
      "2      1284\n",
      "3        16\n",
      "4         7\n",
      "5       414\n",
      "6       238\n",
      "8       388\n",
      "9        43\n",
      "10      740\n",
      "13     1029\n",
      "14      792\n",
      "15      160\n",
      "16      272\n",
      "17      293\n",
      "18     1442\n",
      "19     3925\n",
      "20      119\n",
      "21     2470\n",
      "23        7\n",
      "24      897\n",
      "26      736\n",
      "27      839\n",
      "29       50\n",
      "30      515\n",
      "31      187\n",
      "32      902\n",
      "33      323\n",
      "34       50\n",
      "35      942\n",
      "36       53\n",
      "37      734\n",
      "38       10\n",
      "39     1349\n",
      "40      308\n",
      "43      173\n",
      "44      193\n",
      "46      310\n",
      "47      894\n",
      "49      450\n",
      "50      221\n",
      "51      110\n",
      "53      143\n",
      "54      978\n",
      "55     1909\n",
      "57      174\n",
      "60      522\n",
      "62     1386\n",
      "63      172\n",
      "64      529\n",
      "66       22\n",
      "68       15\n",
      "69      150\n",
      "70     2754\n",
      "71      168\n",
      "72       15\n",
      "74       13\n",
      "76     1312\n",
      "77      611\n",
      "78       34\n",
      "79     1510\n",
      "80      274\n",
      "81      580\n",
      "83      820\n",
      "84       12\n",
      "85      133\n",
      "87      111\n",
      "88       61\n",
      "89     1042\n",
      "90      157\n",
      "91       46\n",
      "92      448\n",
      "93        6\n",
      "94      179\n",
      "95        6\n",
      "98      542\n",
      "99      412\n",
      "100    2141\n",
      "101     381\n",
      "102      34\n",
      "103     765\n",
      "104     109\n",
      "105     563\n",
      "107     127\n",
      "109     641\n",
      "111     200\n",
      "112    1322\n",
      "113     108\n",
      "116    1081\n",
      "117     236\n",
      "118    4333\n",
      "119     303\n",
      "121     121\n",
      "124       9\n",
      "125     474\n",
      "128    1045\n",
      "129      19\n",
      "130       2\n",
      "132     369\n",
      "133    1032\n",
      "134     151\n",
      "135     460\n",
      "136     645\n",
      "137     422\n",
      "138    1260\n",
      "139     673\n",
      "140     195\n",
      "142     176\n",
      "145     492\n",
      "146     729\n",
      "147     877\n",
      "149     311\n",
      "150      36\n",
      "151     213\n",
      "155      92\n",
      "157    1402\n",
      "158     438\n",
      "159     716\n",
      "160     284\n",
      "161    2792\n",
      "166     710\n",
      "167      10\n",
      "168     271\n",
      "169     280\n",
      "171     944\n",
      "174    2225\n",
      "176    2583\n",
      "177      81\n",
      "179     108\n",
      "180     129\n",
      "181     459\n",
      "182      77\n",
      "183      17\n",
      "184      84\n",
      "185    1744\n",
      "186     799\n",
      "187     220\n",
      "188    3095\n",
      "189     611\n",
      "192     516\n",
      "194    2258\n",
      "195     215\n",
      "196    2730\n",
      "197     127\n",
      "198      29\n",
      "199     546\n",
      "200     367\n",
      "202     307\n",
      "204    1261\n",
      "Name: hospital_id, dtype: int64\n"
     ]
    }
   ],
   "source": [
    "print(tr_data[\"hospital_id\"].value_counts().sort_index())"
   ]
  },
  {
   "cell_type": "code",
   "execution_count": 8,
   "metadata": {},
   "outputs": [],
   "source": [
    "tr_data.drop(['patient_id'], axis=1, inplace=True)\n",
    "ul_data.drop(['patient_id'], axis=1, inplace=True)"
   ]
  },
  {
   "cell_type": "markdown",
   "metadata": {},
   "source": [
    "#### Drop feature(s) with a constant value\n",
    "\n",
    "The values for readmission_status are all the same, so, we can drop this feature since it contains a constant value "
   ]
  },
  {
   "cell_type": "code",
   "execution_count": 9,
   "metadata": {},
   "outputs": [
    {
     "name": "stdout",
     "output_type": "stream",
     "text": [
      "0    91713\n",
      "Name: readmission_status, dtype: int64\n"
     ]
    }
   ],
   "source": [
    "print(tr_data[\"readmission_status\"].value_counts().sort_index())"
   ]
  },
  {
   "cell_type": "code",
   "execution_count": 10,
   "metadata": {},
   "outputs": [],
   "source": [
    "tr_data.drop(['readmission_status'], axis=1, inplace=True)\n",
    "ul_data.drop(['readmission_status'], axis=1, inplace=True)"
   ]
  },
  {
   "cell_type": "markdown",
   "metadata": {},
   "source": [
    "#### Are all features of the correct type?\n",
    "\n",
    "We can compare features in the dataframe that are of type int64 with those that are marked binary or integer in our info_df? In other words, can we use the data in the information file to figure out which features should be which data types? Let's give it a try."
   ]
  },
  {
   "cell_type": "code",
   "execution_count": 11,
   "metadata": {},
   "outputs": [],
   "source": [
    "# Create lists of column names that are currently of one of three types\n",
    "int_columns = [col for col in tr_data.columns if tr_data[col].dtypes == 'int64']\n",
    "float_columns = [col for col in tr_data.columns if tr_data[col].dtypes == 'float64']\n",
    "obj_columns= [col for col in tr_data.columns if tr_data[col].dtypes == 'object']\n",
    "bin_columns= [col for col in tr_data.columns if tr_data[col].dtypes == 'bool']\n"
   ]
  },
  {
   "cell_type": "markdown",
   "metadata": {},
   "source": [
    "### Integer / Binary Columns"
   ]
  },
  {
   "cell_type": "code",
   "execution_count": 12,
   "metadata": {},
   "outputs": [
    {
     "data": {
      "text/plain": [
       "['encounter_id',\n",
       " 'hospital_id',\n",
       " 'hospital_death',\n",
       " 'elective_surgery',\n",
       " 'icu_id',\n",
       " 'apache_post_operative',\n",
       " 'readmission_status',\n",
       " 'encounter_id',\n",
       " 'patient_id']"
      ]
     },
     "execution_count": 12,
     "metadata": {},
     "output_type": "execute_result"
    }
   ],
   "source": [
    "# To get a list of int columns that do not need to be converted, let's tack back on the ones we removed\n",
    "int_columns= int_columns + [\"readmission_status\", \"encounter_id\", \"patient_id\"]\n",
    "int_columns"
   ]
  },
  {
   "cell_type": "markdown",
   "metadata": {},
   "source": [
    "### List of columns that should be of type integer or binary\n",
    "\n",
    "Now we can pull a list of columns that need to be converted to type integer or binary."
   ]
  },
  {
   "cell_type": "code",
   "execution_count": 13,
   "metadata": {},
   "outputs": [
    {
     "data": {
      "text/plain": [
       "['arf_apache',\n",
       " 'gcs_eyes_apache',\n",
       " 'gcs_motor_apache',\n",
       " 'gcs_unable_apache',\n",
       " 'gcs_verbal_apache',\n",
       " 'intubated_apache',\n",
       " 'ventilated_apache',\n",
       " 'aids',\n",
       " 'cirrhosis',\n",
       " 'diabetes_mellitus',\n",
       " 'hepatic_failure',\n",
       " 'immunosuppression',\n",
       " 'leukemia',\n",
       " 'lymphoma',\n",
       " 'solid_tumor_with_metastasis']"
      ]
     },
     "execution_count": 13,
     "metadata": {},
     "output_type": "execute_result"
    }
   ],
   "source": [
    "# Pull column names from info dataframe that should be type int or binary\n",
    "int_data = info_df[(info_df['Data Type']==\"integer\") | (info_df['Data Type']==\"binary\")]\n",
    "int_cols_from_info = int_data[\"Variable Name\"].tolist()\n",
    "\n",
    "# Compare this list to those that are already of type integer, create a new list of types that need to be converted\n",
    "missing_int_cols_from_info = [col for col in int_cols_from_info if col not in int_columns ]\n",
    "missing_int_cols_from_info"
   ]
  },
  {
   "cell_type": "markdown",
   "metadata": {},
   "source": [
    "### Examine stats for those that should be of type integer or binary"
   ]
  },
  {
   "cell_type": "code",
   "execution_count": 14,
   "metadata": {},
   "outputs": [
    {
     "data": {
      "text/html": [
       "<div>\n",
       "<style scoped>\n",
       "    .dataframe tbody tr th:only-of-type {\n",
       "        vertical-align: middle;\n",
       "    }\n",
       "\n",
       "    .dataframe tbody tr th {\n",
       "        vertical-align: top;\n",
       "    }\n",
       "\n",
       "    .dataframe thead th {\n",
       "        text-align: right;\n",
       "    }\n",
       "</style>\n",
       "<table border=\"1\" class=\"dataframe\">\n",
       "  <thead>\n",
       "    <tr style=\"text-align: right;\">\n",
       "      <th></th>\n",
       "      <th>arf_apache</th>\n",
       "      <th>gcs_eyes_apache</th>\n",
       "      <th>gcs_motor_apache</th>\n",
       "      <th>gcs_unable_apache</th>\n",
       "      <th>gcs_verbal_apache</th>\n",
       "      <th>intubated_apache</th>\n",
       "      <th>ventilated_apache</th>\n",
       "      <th>aids</th>\n",
       "      <th>cirrhosis</th>\n",
       "      <th>diabetes_mellitus</th>\n",
       "      <th>hepatic_failure</th>\n",
       "      <th>immunosuppression</th>\n",
       "      <th>leukemia</th>\n",
       "      <th>lymphoma</th>\n",
       "      <th>solid_tumor_with_metastasis</th>\n",
       "    </tr>\n",
       "  </thead>\n",
       "  <tbody>\n",
       "    <tr>\n",
       "      <th>count</th>\n",
       "      <td>90998.000000</td>\n",
       "      <td>89812.000000</td>\n",
       "      <td>89812.000000</td>\n",
       "      <td>90676.000000</td>\n",
       "      <td>89812.000000</td>\n",
       "      <td>90998.000000</td>\n",
       "      <td>90998.000000</td>\n",
       "      <td>90998.000000</td>\n",
       "      <td>90998.000000</td>\n",
       "      <td>90998.000000</td>\n",
       "      <td>90998.000000</td>\n",
       "      <td>90998.000000</td>\n",
       "      <td>90998.000000</td>\n",
       "      <td>90998.000000</td>\n",
       "      <td>90998.000000</td>\n",
       "    </tr>\n",
       "    <tr>\n",
       "      <th>mean</th>\n",
       "      <td>0.027979</td>\n",
       "      <td>3.465049</td>\n",
       "      <td>5.471195</td>\n",
       "      <td>0.009528</td>\n",
       "      <td>3.994778</td>\n",
       "      <td>0.151223</td>\n",
       "      <td>0.325721</td>\n",
       "      <td>0.000857</td>\n",
       "      <td>0.015693</td>\n",
       "      <td>0.225192</td>\n",
       "      <td>0.012989</td>\n",
       "      <td>0.026165</td>\n",
       "      <td>0.007066</td>\n",
       "      <td>0.004132</td>\n",
       "      <td>0.020638</td>\n",
       "    </tr>\n",
       "    <tr>\n",
       "      <th>std</th>\n",
       "      <td>0.164912</td>\n",
       "      <td>0.951715</td>\n",
       "      <td>1.288376</td>\n",
       "      <td>0.097148</td>\n",
       "      <td>1.560166</td>\n",
       "      <td>0.358268</td>\n",
       "      <td>0.468646</td>\n",
       "      <td>0.029265</td>\n",
       "      <td>0.124284</td>\n",
       "      <td>0.417711</td>\n",
       "      <td>0.113229</td>\n",
       "      <td>0.159628</td>\n",
       "      <td>0.083763</td>\n",
       "      <td>0.064148</td>\n",
       "      <td>0.142169</td>\n",
       "    </tr>\n",
       "    <tr>\n",
       "      <th>min</th>\n",
       "      <td>0.000000</td>\n",
       "      <td>1.000000</td>\n",
       "      <td>1.000000</td>\n",
       "      <td>0.000000</td>\n",
       "      <td>1.000000</td>\n",
       "      <td>0.000000</td>\n",
       "      <td>0.000000</td>\n",
       "      <td>0.000000</td>\n",
       "      <td>0.000000</td>\n",
       "      <td>0.000000</td>\n",
       "      <td>0.000000</td>\n",
       "      <td>0.000000</td>\n",
       "      <td>0.000000</td>\n",
       "      <td>0.000000</td>\n",
       "      <td>0.000000</td>\n",
       "    </tr>\n",
       "    <tr>\n",
       "      <th>25%</th>\n",
       "      <td>0.000000</td>\n",
       "      <td>3.000000</td>\n",
       "      <td>6.000000</td>\n",
       "      <td>0.000000</td>\n",
       "      <td>4.000000</td>\n",
       "      <td>0.000000</td>\n",
       "      <td>0.000000</td>\n",
       "      <td>0.000000</td>\n",
       "      <td>0.000000</td>\n",
       "      <td>0.000000</td>\n",
       "      <td>0.000000</td>\n",
       "      <td>0.000000</td>\n",
       "      <td>0.000000</td>\n",
       "      <td>0.000000</td>\n",
       "      <td>0.000000</td>\n",
       "    </tr>\n",
       "    <tr>\n",
       "      <th>50%</th>\n",
       "      <td>0.000000</td>\n",
       "      <td>4.000000</td>\n",
       "      <td>6.000000</td>\n",
       "      <td>0.000000</td>\n",
       "      <td>5.000000</td>\n",
       "      <td>0.000000</td>\n",
       "      <td>0.000000</td>\n",
       "      <td>0.000000</td>\n",
       "      <td>0.000000</td>\n",
       "      <td>0.000000</td>\n",
       "      <td>0.000000</td>\n",
       "      <td>0.000000</td>\n",
       "      <td>0.000000</td>\n",
       "      <td>0.000000</td>\n",
       "      <td>0.000000</td>\n",
       "    </tr>\n",
       "    <tr>\n",
       "      <th>75%</th>\n",
       "      <td>0.000000</td>\n",
       "      <td>4.000000</td>\n",
       "      <td>6.000000</td>\n",
       "      <td>0.000000</td>\n",
       "      <td>5.000000</td>\n",
       "      <td>0.000000</td>\n",
       "      <td>1.000000</td>\n",
       "      <td>0.000000</td>\n",
       "      <td>0.000000</td>\n",
       "      <td>0.000000</td>\n",
       "      <td>0.000000</td>\n",
       "      <td>0.000000</td>\n",
       "      <td>0.000000</td>\n",
       "      <td>0.000000</td>\n",
       "      <td>0.000000</td>\n",
       "    </tr>\n",
       "    <tr>\n",
       "      <th>max</th>\n",
       "      <td>1.000000</td>\n",
       "      <td>4.000000</td>\n",
       "      <td>6.000000</td>\n",
       "      <td>1.000000</td>\n",
       "      <td>5.000000</td>\n",
       "      <td>1.000000</td>\n",
       "      <td>1.000000</td>\n",
       "      <td>1.000000</td>\n",
       "      <td>1.000000</td>\n",
       "      <td>1.000000</td>\n",
       "      <td>1.000000</td>\n",
       "      <td>1.000000</td>\n",
       "      <td>1.000000</td>\n",
       "      <td>1.000000</td>\n",
       "      <td>1.000000</td>\n",
       "    </tr>\n",
       "  </tbody>\n",
       "</table>\n",
       "</div>"
      ],
      "text/plain": [
       "         arf_apache  gcs_eyes_apache  gcs_motor_apache  gcs_unable_apache  \\\n",
       "count  90998.000000     89812.000000      89812.000000       90676.000000   \n",
       "mean       0.027979         3.465049          5.471195           0.009528   \n",
       "std        0.164912         0.951715          1.288376           0.097148   \n",
       "min        0.000000         1.000000          1.000000           0.000000   \n",
       "25%        0.000000         3.000000          6.000000           0.000000   \n",
       "50%        0.000000         4.000000          6.000000           0.000000   \n",
       "75%        0.000000         4.000000          6.000000           0.000000   \n",
       "max        1.000000         4.000000          6.000000           1.000000   \n",
       "\n",
       "       gcs_verbal_apache  intubated_apache  ventilated_apache          aids  \\\n",
       "count       89812.000000      90998.000000       90998.000000  90998.000000   \n",
       "mean            3.994778          0.151223           0.325721      0.000857   \n",
       "std             1.560166          0.358268           0.468646      0.029265   \n",
       "min             1.000000          0.000000           0.000000      0.000000   \n",
       "25%             4.000000          0.000000           0.000000      0.000000   \n",
       "50%             5.000000          0.000000           0.000000      0.000000   \n",
       "75%             5.000000          0.000000           1.000000      0.000000   \n",
       "max             5.000000          1.000000           1.000000      1.000000   \n",
       "\n",
       "          cirrhosis  diabetes_mellitus  hepatic_failure  immunosuppression  \\\n",
       "count  90998.000000       90998.000000     90998.000000       90998.000000   \n",
       "mean       0.015693           0.225192         0.012989           0.026165   \n",
       "std        0.124284           0.417711         0.113229           0.159628   \n",
       "min        0.000000           0.000000         0.000000           0.000000   \n",
       "25%        0.000000           0.000000         0.000000           0.000000   \n",
       "50%        0.000000           0.000000         0.000000           0.000000   \n",
       "75%        0.000000           0.000000         0.000000           0.000000   \n",
       "max        1.000000           1.000000         1.000000           1.000000   \n",
       "\n",
       "           leukemia      lymphoma  solid_tumor_with_metastasis  \n",
       "count  90998.000000  90998.000000                 90998.000000  \n",
       "mean       0.007066      0.004132                     0.020638  \n",
       "std        0.083763      0.064148                     0.142169  \n",
       "min        0.000000      0.000000                     0.000000  \n",
       "25%        0.000000      0.000000                     0.000000  \n",
       "50%        0.000000      0.000000                     0.000000  \n",
       "75%        0.000000      0.000000                     0.000000  \n",
       "max        1.000000      1.000000                     1.000000  "
      ]
     },
     "execution_count": 14,
     "metadata": {},
     "output_type": "execute_result"
    }
   ],
   "source": [
    "tr_data[missing_int_cols_from_info].describe()"
   ]
  },
  {
   "cell_type": "markdown",
   "metadata": {},
   "source": [
    "It looks like gcs_eyes_apache, gcs_motor_apache and gcs_verbal_apache should be converted to integer while the rest should be converted to just zeros and ones for binary."
   ]
  },
  {
   "cell_type": "code",
   "execution_count": 15,
   "metadata": {},
   "outputs": [
    {
     "name": "stdout",
     "output_type": "stream",
     "text": [
      "1.0     8274\n",
      "2.0     4680\n",
      "3.0    13863\n",
      "4.0    62995\n",
      "Name: gcs_eyes_apache, dtype: int64\n"
     ]
    }
   ],
   "source": [
    "print(tr_data[\"gcs_eyes_apache\"].value_counts().sort_index())"
   ]
  },
  {
   "cell_type": "code",
   "execution_count": 16,
   "metadata": {},
   "outputs": [
    {
     "name": "stdout",
     "output_type": "stream",
     "text": [
      "1.0     5543\n",
      "2.0      309\n",
      "3.0      524\n",
      "4.0     4494\n",
      "5.0     7982\n",
      "6.0    70960\n",
      "Name: gcs_motor_apache, dtype: int64\n"
     ]
    }
   ],
   "source": [
    "print(tr_data[\"gcs_motor_apache\"].value_counts().sort_index())"
   ]
  },
  {
   "cell_type": "code",
   "execution_count": 17,
   "metadata": {},
   "outputs": [
    {
     "name": "stdout",
     "output_type": "stream",
     "text": [
      "1.0    16741\n",
      "2.0     1940\n",
      "3.0     3275\n",
      "4.0    10947\n",
      "5.0    56909\n",
      "Name: gcs_verbal_apache, dtype: int64\n"
     ]
    }
   ],
   "source": [
    "print(tr_data[\"gcs_verbal_apache\"].value_counts().sort_index())"
   ]
  },
  {
   "cell_type": "markdown",
   "metadata": {},
   "source": [
    "Now that we know which columns should only contain zeros and ones, let's look at what they actually contain. This list can be pulled from items in missing_int_cols_from_info that are not in convert_to_int_cols."
   ]
  },
  {
   "cell_type": "code",
   "execution_count": 18,
   "metadata": {},
   "outputs": [
    {
     "name": "stdout",
     "output_type": "stream",
     "text": [
      "------------------\n",
      "arf_apache\n",
      "0.0    88452\n",
      "1.0     2546\n",
      "Name: arf_apache, dtype: int64\n",
      "------------------\n",
      "gcs_unable_apache\n",
      "0.0    89812\n",
      "1.0      864\n",
      "Name: gcs_unable_apache, dtype: int64\n",
      "------------------\n",
      "intubated_apache\n",
      "0.0    77237\n",
      "1.0    13761\n",
      "Name: intubated_apache, dtype: int64\n",
      "------------------\n",
      "ventilated_apache\n",
      "0.0    61358\n",
      "1.0    29640\n",
      "Name: ventilated_apache, dtype: int64\n",
      "------------------\n",
      "aids\n",
      "0.0    90920\n",
      "1.0       78\n",
      "Name: aids, dtype: int64\n",
      "------------------\n",
      "cirrhosis\n",
      "0.0    89570\n",
      "1.0     1428\n",
      "Name: cirrhosis, dtype: int64\n",
      "------------------\n",
      "diabetes_mellitus\n",
      "0.0    70506\n",
      "1.0    20492\n",
      "Name: diabetes_mellitus, dtype: int64\n",
      "------------------\n",
      "hepatic_failure\n",
      "0.0    89816\n",
      "1.0     1182\n",
      "Name: hepatic_failure, dtype: int64\n",
      "------------------\n",
      "immunosuppression\n",
      "0.0    88617\n",
      "1.0     2381\n",
      "Name: immunosuppression, dtype: int64\n",
      "------------------\n",
      "leukemia\n",
      "0.0    90355\n",
      "1.0      643\n",
      "Name: leukemia, dtype: int64\n",
      "------------------\n",
      "lymphoma\n",
      "0.0    90622\n",
      "1.0      376\n",
      "Name: lymphoma, dtype: int64\n",
      "------------------\n",
      "solid_tumor_with_metastasis\n",
      "0.0    89120\n",
      "1.0     1878\n",
      "Name: solid_tumor_with_metastasis, dtype: int64\n"
     ]
    }
   ],
   "source": [
    "convert_to_int_cols=[\"gcs_eyes_apache\", \"gcs_motor_apache\", \"gcs_verbal_apache\"]\n",
    "binary_columns = [col for col in missing_int_cols_from_info if col not in  convert_to_int_cols]\n",
    "for col in binary_columns:\n",
    "    print(\"------------------\")\n",
    "    print(col)\n",
    "    print(tr_data[col].value_counts().sort_index())\n"
   ]
  },
  {
   "cell_type": "markdown",
   "metadata": {},
   "source": [
    "Before converting to int or bool, we need to figure out what to do with missing values.\n",
    "\n",
    "### Drop Columns with high number of missing values unless they are important"
   ]
  },
  {
   "cell_type": "code",
   "execution_count": 19,
   "metadata": {},
   "outputs": [
    {
     "name": "stdout",
     "output_type": "stream",
     "text": [
      "Number of columns to drop: 44\n"
     ]
    }
   ],
   "source": [
    "# Create a dataframe of the columns that have more than a certain percentage missing values\n",
    "isna_counts = tr_data.isna().sum()\n",
    "isna_counts = pd.DataFrame({'col':isna_counts.index, 'cnt':isna_counts.values})\n",
    "isna_counts[\"pct\"] = isna_counts['cnt']/tr_data.shape[0]\n",
    "isna_counts = isna_counts[isna_counts.loc[:, \"pct\"] >  fraction_of_NaN_drop_columns] \n",
    "isna_counts.sort_values(by=['col']).head(100)\n",
    "drop_cols = list(isna_counts['col'])\n",
    "drop_cols = [col for col in drop_cols if col not in regular_columns]\n",
    "\n",
    "print(\"Number of columns to drop: \" + str(len(drop_cols)))\n",
    "tr_data.drop(drop_cols, axis=1, inplace=True)\n",
    "ul_data.drop(drop_cols, axis=1, inplace=True)"
   ]
  },
  {
   "cell_type": "markdown",
   "metadata": {},
   "source": [
    "### Remove features with zero importance"
   ]
  },
  {
   "cell_type": "code",
   "execution_count": 20,
   "metadata": {},
   "outputs": [
    {
     "name": "stdout",
     "output_type": "stream",
     "text": [
      "['aids', 'leukemia', 'lymphoma']\n"
     ]
    }
   ],
   "source": [
    "bottom_feature_imp_df=feature_imp_df[feature_imp_df.average == 0].sort_values('average', ascending=False)\n",
    "zero_imp_features = bottom_feature_imp_df['feature'].to_list()\n",
    "# Feature that were not one-hot-encoded\n",
    "drop_more_columns = [col for col in zero_imp_features if col  in tr_data.columns]\n",
    "# We will only drop those that were not created when we did one hot encodin, which are these\n",
    "drop_cols=drop_cols+drop_more_columns\n",
    "print(drop_more_columns)\n",
    "tr_data.drop(drop_more_columns, axis=1, inplace=True)\n",
    "ul_data.drop(drop_more_columns, axis=1, inplace=True)"
   ]
  },
  {
   "cell_type": "markdown",
   "metadata": {},
   "source": [
    "### Impute Integer Features\n",
    "\n",
    "For those features that should be of type integer or boolean, impute with most frequent before converting to type integer. After reviewing the value counts for numeric columns, it turns out that there are quite a few more columns that should really be of type int. Below is a hardcoded list of those that ultimately should be converted."
   ]
  },
  {
   "cell_type": "code",
   "execution_count": 21,
   "metadata": {},
   "outputs": [],
   "source": [
    "# Before imputing all missing values, let's deal with these by themselves\n",
    "# Before converting to integer, we will replace missing values with the mode\n",
    "\n",
    "int_cols=['age', 'gcs_eyes_apache', 'gcs_motor_apache', 'gcs_verbal_apache', 'heart_rate_apache', 'map_apache', 'resprate_apache']\n",
    "int_cols=int_cols + ['d1_diasbp_max', 'd1_diasbp_min', 'd1_heartrate_max', 'd1_heartrate_min', 'd1_mbp_max', 'd1_mbp_min', 'd1_resprate_max', 'd1_resprate_min', 'd1_spo2_max', 'd1_spo2_min', 'd1_sysbp_max', 'd1_sysbp_min', 'h1_diasbp_max']\n",
    "int_cols=int_cols + ['h1_diasbp_min', 'h1_heartrate_max', 'h1_heartrate_min', 'h1_mbp_max', 'h1_mbp_min', 'h1_resprate_max', 'h1_resprate_min', 'h1_spo2_max', 'h1_spo2_min', 'h1_sysbp_max', 'h1_sysbp_min', 'd1_glucose_max', 'd1_glucose_min']\n",
    "int_cols=int_cols +['arf_apache', 'gcs_unable_apache', 'intubated_apache', 'ventilated_apache',  'cirrhosis', 'diabetes_mellitus']\n",
    "int_cols=int_cols + ['hepatic_failure', 'immunosuppression', 'solid_tumor_with_metastasis']\n",
    "\n",
    "\n",
    "imputer = SimpleImputer(missing_values=np.nan, strategy='most_frequent')\n",
    "tr_data[int_cols]  = imputer.fit_transform(tr_data[int_cols])\n",
    "tr_data[int_cols] = tr_data[int_cols].astype(int)\n",
    "\n",
    "ul_data[int_cols]  = imputer.fit_transform(ul_data[int_cols])\n",
    "ul_data[int_cols] = ul_data[int_cols].astype(int)"
   ]
  },
  {
   "cell_type": "markdown",
   "metadata": {},
   "source": [
    "### String/Object Columns\n",
    "\n",
    "Next, we will take a look at string/categorical features. First we will make sure that those that should be strings are in fact strings."
   ]
  },
  {
   "cell_type": "code",
   "execution_count": 22,
   "metadata": {},
   "outputs": [],
   "source": [
    "str_cols=['ethnicity', 'gender', 'hospital_admit_source', 'icu_admit_source',  'icu_stay_type', 'icu_type', 'apache_2_diagnosis', 'apache_3j_diagnosis', 'apache_3j_bodysystem', 'apache_2_bodysystem', 'apache_2_diagnosis', 'apache_3j_diagnosis']\n",
    "tr_data[str_cols] = tr_data[str_cols].astype('str')\n",
    "ul_data[str_cols] = ul_data[str_cols].astype('str')\n"
   ]
  },
  {
   "cell_type": "markdown",
   "metadata": {},
   "source": [
    "### Clean Up the Data\n",
    "\n",
    "Which ones contain missing values or values that can be merged? We can answer this question if we examine the actual values along with their corresponding counts."
   ]
  },
  {
   "cell_type": "code",
   "execution_count": 23,
   "metadata": {},
   "outputs": [
    {
     "name": "stdout",
     "output_type": "stream",
     "text": [
      "['ethnicity', 'gender', 'hospital_admit_source', 'icu_admit_source', 'icu_stay_type', 'icu_type', 'apache_2_diagnosis', 'apache_3j_diagnosis', 'apache_3j_bodysystem', 'apache_2_bodysystem', 'apache_2_diagnosis', 'apache_3j_diagnosis']\n",
      "ethnicity\n",
      "African American     9547\n",
      "Asian                1129\n",
      "Caucasian           70684\n",
      "Hispanic             3796\n",
      "Native American       788\n",
      "Other/Unknown        4374\n",
      "nan                  1395\n",
      "Name: ethnicity, dtype: int64\n",
      "NaN: 0\n",
      "---\n",
      "gender\n",
      "F      42219\n",
      "M      49469\n",
      "nan       25\n",
      "Name: gender, dtype: int64\n",
      "NaN: 0\n",
      "---\n",
      "hospital_admit_source\n",
      "Acute Care/Floor         1910\n",
      "Chest Pain Center         134\n",
      "Direct Admit             6441\n",
      "Emergency Department    36962\n",
      "Floor                    8055\n",
      "ICU                        35\n",
      "ICU to SDU                 45\n",
      "Observation                10\n",
      "Operating Room           9787\n",
      "Other                       7\n",
      "Other Hospital           1641\n",
      "Other ICU                 233\n",
      "PACU                     1017\n",
      "Recovery Room            2896\n",
      "Step-Down Unit (SDU)     1131\n",
      "nan                     21409\n",
      "Name: hospital_admit_source, dtype: int64\n",
      "NaN: 0\n",
      "---\n",
      "icu_admit_source\n",
      "Accident & Emergency         54060\n",
      "Floor                        15611\n",
      "Operating Room / Recovery    18713\n",
      "Other Hospital                2358\n",
      "Other ICU                      859\n",
      "nan                            112\n",
      "Name: icu_admit_source, dtype: int64\n",
      "NaN: 0\n",
      "---\n",
      "icu_stay_type\n",
      "admit       86183\n",
      "readmit       560\n",
      "transfer     4970\n",
      "Name: icu_stay_type, dtype: int64\n",
      "NaN: 0\n",
      "---\n",
      "icu_type\n",
      "CCU-CTICU        7156\n",
      "CSICU            4613\n",
      "CTICU            4003\n",
      "Cardiac ICU      4776\n",
      "MICU             7695\n",
      "Med-Surg ICU    50586\n",
      "Neuro ICU        7675\n",
      "SICU             5209\n",
      "Name: icu_type, dtype: int64\n",
      "NaN: 0\n",
      "---\n",
      "apache_2_diagnosis\n",
      "101.0      376\n",
      "102.0     1883\n",
      "103.0      291\n",
      "104.0      363\n",
      "105.0     1037\n",
      "106.0     2476\n",
      "107.0      197\n",
      "108.0     1177\n",
      "109.0     1071\n",
      "110.0     3206\n",
      "112.0     4350\n",
      "113.0    11740\n",
      "114.0     2257\n",
      "115.0      251\n",
      "116.0      204\n",
      "117.0     3923\n",
      "118.0     1355\n",
      "119.0     1721\n",
      "120.0     1377\n",
      "121.0     2215\n",
      "122.0     3768\n",
      "123.0     2064\n",
      "124.0     3906\n",
      "202.0     2481\n",
      "203.0     2631\n",
      "207.0      643\n",
      "208.0      123\n",
      "209.0      480\n",
      "212.0       99\n",
      "213.0      750\n",
      "214.0     1167\n",
      "215.0      159\n",
      "216.0       26\n",
      "217.0      483\n",
      "218.0      553\n",
      "219.0      461\n",
      "301.0     6807\n",
      "302.0     6702\n",
      "303.0     3329\n",
      "304.0     3104\n",
      "305.0     2275\n",
      "306.0      638\n",
      "307.0     1818\n",
      "308.0     4114\n",
      "nan       1662\n",
      "Name: apache_2_diagnosis, dtype: int64\n",
      "NaN: 0\n",
      "---\n",
      "apache_3j_diagnosis\n",
      "0.01          1\n",
      "0.02          1\n",
      "0.03          1\n",
      "0.04          4\n",
      "0.06          1\n",
      "0.09          2\n",
      "0.11         15\n",
      "0.13          1\n",
      "0.14          5\n",
      "0.15          2\n",
      "0.18          3\n",
      "0.19         15\n",
      "0.2          15\n",
      "0.21          2\n",
      "0.22         40\n",
      "0.23         44\n",
      "0.24         22\n",
      "0.25        387\n",
      "101.01      249\n",
      "101.02        2\n",
      "102.01     2239\n",
      "102.02       18\n",
      "103.01      204\n",
      "104.01     2956\n",
      "105.01      123\n",
      "105.02      389\n",
      "106.01     3923\n",
      "107.01     4350\n",
      "108.01     1071\n",
      "109.01      254\n",
      "109.02      387\n",
      "109.03      335\n",
      "109.04      521\n",
      "109.05      111\n",
      "109.06       60\n",
      "109.07       52\n",
      "109.08      145\n",
      "109.09      633\n",
      "109.1       376\n",
      "109.11      129\n",
      "109.12       29\n",
      "109.13       45\n",
      "109.14      299\n",
      "109.15       28\n",
      "109.16      265\n",
      "110.01      250\n",
      "1101.01       3\n",
      "1101.02       3\n",
      "1101.03       2\n",
      "1101.04      32\n",
      "1101.05       1\n",
      "1101.07      58\n",
      "1101.09       2\n",
      "1102.01     245\n",
      "111.01     1449\n",
      "1202.01       1\n",
      "1202.02       2\n",
      "1202.03      58\n",
      "1202.04      12\n",
      "1202.05      88\n",
      "1202.06       3\n",
      "1202.07     114\n",
      "1202.08      19\n",
      "1203.01      14\n",
      "1203.02     204\n",
      "1204.01     450\n",
      "1204.02     139\n",
      "1205.01    1000\n",
      "1206.01      99\n",
      "1206.03    1848\n",
      "1207.01    2763\n",
      "1207.02      87\n",
      "1207.03      98\n",
      "1208.01     164\n",
      "1208.02       3\n",
      "1208.03      83\n",
      "1208.04      28\n",
      "1208.05      23\n",
      "1208.06     182\n",
      "1208.07      48\n",
      "1208.08      36\n",
      "1208.09      60\n",
      "1208.1      108\n",
      "1208.11      20\n",
      "1208.12      11\n",
      "1208.13     100\n",
      "1208.14      21\n",
      "1208.15      18\n",
      "1208.16     136\n",
      "1208.17       1\n",
      "1208.18       5\n",
      "1209.01      45\n",
      "1209.02      75\n",
      "1210.01      48\n",
      "1210.02       7\n",
      "1211.01     126\n",
      "1211.02      76\n",
      "1212.01     100\n",
      "1212.02      43\n",
      "1212.03     541\n",
      "1301.01      46\n",
      "1301.02     110\n",
      "1302.01      32\n",
      "1302.02     403\n",
      "1302.03      45\n",
      "1303.01     107\n",
      "1303.02      95\n",
      "1304.01      15\n",
      "1304.02      31\n",
      "1304.03       3\n",
      "1304.04      31\n",
      "1304.05     104\n",
      "1304.06       9\n",
      "1304.07      33\n",
      "1304.08      80\n",
      "1304.09     168\n",
      "1304.1       80\n",
      "1401.01     537\n",
      "1403.01      29\n",
      "1403.02      22\n",
      "1403.03      37\n",
      "1403.04      11\n",
      "1404.01     630\n",
      "1405.01      13\n",
      "1405.02     301\n",
      "1405.03      76\n",
      "1405.04     148\n",
      "1405.05      19\n",
      "1405.06      43\n",
      "1405.07     150\n",
      "1406.01     253\n",
      "1407.01      35\n",
      "1408.01      76\n",
      "1408.02       3\n",
      "1408.03     155\n",
      "1408.04      44\n",
      "1408.05      21\n",
      "1408.06     129\n",
      "1408.07      41\n",
      "1408.08     113\n",
      "1408.09      48\n",
      "1408.1        1\n",
      "1408.11       2\n",
      "1408.12       6\n",
      "1408.13      49\n",
      "1409.01      64\n",
      "1409.02      45\n",
      "1410.01     118\n",
      "1411.01      25\n",
      "1412.01      23\n",
      "1413.01      87\n",
      "1413.02      16\n",
      "1501.01     109\n",
      "1502.01      21\n",
      "1502.02     185\n",
      "1503.01      57\n",
      "1503.02     111\n",
      "1504.01      33\n",
      "1504.02      14\n",
      "1504.03     311\n",
      "1504.04      57\n",
      "1504.05      46\n",
      "1505.01     465\n",
      "1505.02      88\n",
      "1506.01      34\n",
      "1506.02       3\n",
      "1506.03      63\n",
      "1506.04      50\n",
      "1506.05      22\n",
      "1506.06      75\n",
      "1506.07     192\n",
      "1506.08      11\n",
      "1506.09      70\n",
      "1506.1       12\n",
      "1506.11      17\n",
      "1601.01      65\n",
      "1601.02       3\n",
      "1601.03       6\n",
      "1601.04      16\n",
      "1601.05       5\n",
      "1601.06      22\n",
      "1601.08       6\n",
      "1602.01      34\n",
      "1602.02      19\n",
      "1602.03       3\n",
      "1602.04      44\n",
      "1602.05       5\n",
      "1602.06      29\n",
      "1602.07      11\n",
      "1602.08       1\n",
      "1602.09      17\n",
      "1602.1        2\n",
      "1602.11      17\n",
      "1602.12     243\n",
      "1602.13      10\n",
      "1602.14      47\n",
      "1602.15      15\n",
      "1602.16       5\n",
      "1602.17      15\n",
      "1602.19      71\n",
      "1602.2        4\n",
      "1602.21       9\n",
      "1604.01       2\n",
      "1604.02       1\n",
      "1604.03      10\n",
      "1604.04       2\n",
      "1604.05      10\n",
      "1605.01      17\n",
      "1701.01      49\n",
      "1701.02      89\n",
      "1701.03      18\n",
      "1701.04       3\n",
      "1703.01      11\n",
      "1703.02      19\n",
      "1703.03      27\n",
      "1703.04      84\n",
      "1703.05      40\n",
      "1703.07       6\n",
      "1703.08       8\n",
      "1704.01      26\n",
      "1705.02      17\n",
      "1705.03     118\n",
      "1705.04       4\n",
      "1705.05       2\n",
      "1801.01      85\n",
      "1801.02      51\n",
      "1802.01     140\n",
      "1802.02      11\n",
      "1803.01       1\n",
      "1803.02      25\n",
      "1902.01      47\n",
      "1902.02      80\n",
      "1902.03     118\n",
      "1902.04      46\n",
      "1902.05     147\n",
      "1903.01      37\n",
      "1903.02      53\n",
      "1903.03      56\n",
      "1904.01     236\n",
      "201.01      363\n",
      "202.01      197\n",
      "203.01     1177\n",
      "204.01      291\n",
      "206.01     1883\n",
      "207.01     1037\n",
      "208.01      463\n",
      "209.01      376\n",
      "210.01        9\n",
      "210.02        6\n",
      "2101.01       6\n",
      "2101.03       3\n",
      "211.01       25\n",
      "211.02      145\n",
      "211.03      425\n",
      "211.04      146\n",
      "211.05       23\n",
      "211.06       30\n",
      "211.07        7\n",
      "211.08      155\n",
      "211.09      726\n",
      "211.1       149\n",
      "211.11       22\n",
      "211.12      101\n",
      "212.01     1997\n",
      "212.02      371\n",
      "213.01       93\n",
      "2201.01      12\n",
      "2201.02      10\n",
      "2201.03      12\n",
      "2201.04       5\n",
      "2201.05      61\n",
      "301.01      156\n",
      "301.02      195\n",
      "301.03       27\n",
      "301.04        1\n",
      "303.01       98\n",
      "305.01      945\n",
      "305.02     1609\n",
      "306.01     1254\n",
      "307.01      151\n",
      "307.02       91\n",
      "307.03        4\n",
      "307.04        5\n",
      "307.05       43\n",
      "308.01      129\n",
      "309.01      250\n",
      "310.01       56\n",
      "311.01      349\n",
      "312.01       22\n",
      "312.02       10\n",
      "312.03       21\n",
      "312.04        9\n",
      "312.05       28\n",
      "313.01       70\n",
      "313.02       30\n",
      "313.03       36\n",
      "313.04       43\n",
      "313.05       24\n",
      "401.01     1243\n",
      "402.01       75\n",
      "402.02      244\n",
      "403.01     3789\n",
      "404.01       42\n",
      "404.02       28\n",
      "404.03       97\n",
      "405.01      404\n",
      "406.01        5\n",
      "406.02       45\n",
      "406.03       47\n",
      "406.04       52\n",
      "407.01     1377\n",
      "408.01       70\n",
      "408.02      262\n",
      "408.03        2\n",
      "409.01       21\n",
      "409.02      632\n",
      "410.01     1415\n",
      "501.01      992\n",
      "501.02     1475\n",
      "501.03       40\n",
      "501.04      665\n",
      "501.05     4481\n",
      "501.06     1245\n",
      "502.01     2842\n",
      "601.01      896\n",
      "601.02       25\n",
      "601.03      104\n",
      "601.04      147\n",
      "601.05      172\n",
      "601.06      242\n",
      "601.07       22\n",
      "601.08      113\n",
      "602.01       50\n",
      "602.02       28\n",
      "602.03        4\n",
      "602.04       43\n",
      "602.05       11\n",
      "602.06       68\n",
      "602.07       56\n",
      "602.08       26\n",
      "602.09      117\n",
      "602.1        13\n",
      "602.11       99\n",
      "602.12      122\n",
      "602.13       25\n",
      "602.14       35\n",
      "602.15       52\n",
      "602.16       30\n",
      "602.17       21\n",
      "602.18        1\n",
      "602.19       38\n",
      "602.2        24\n",
      "602.21       42\n",
      "603.01      151\n",
      "604.01        9\n",
      "604.02       43\n",
      "604.03       11\n",
      "604.04       41\n",
      "604.05       28\n",
      "604.06       67\n",
      "605.01      100\n",
      "701.01      233\n",
      "701.02      280\n",
      "702.01     2064\n",
      "703.01      134\n",
      "703.02      528\n",
      "703.03     3106\n",
      "704.01      813\n",
      "704.02        8\n",
      "704.04       15\n",
      "704.05        5\n",
      "704.06       20\n",
      "704.07      208\n",
      "704.08       43\n",
      "704.09       14\n",
      "704.1        78\n",
      "704.11        1\n",
      "801.01       76\n",
      "801.02       25\n",
      "801.03       31\n",
      "801.04       48\n",
      "802.01      374\n",
      "802.02       10\n",
      "802.03       13\n",
      "802.04       13\n",
      "802.05        4\n",
      "802.06        3\n",
      "802.07        2\n",
      "802.08        9\n",
      "802.09       21\n",
      "901.01       65\n",
      "901.02       37\n",
      "901.03     1237\n",
      "901.04       92\n",
      "901.05       15\n",
      "901.06       48\n",
      "901.07        1\n",
      "902.01      131\n",
      "903.01       25\n",
      "nan        1101\n"
     ]
    },
    {
     "name": "stdout",
     "output_type": "stream",
     "text": [
      "Name: apache_3j_diagnosis, dtype: int64\n",
      "NaN: 0\n",
      "---\n",
      "apache_3j_bodysystem\n",
      "Cardiovascular          29999\n",
      "Gastrointestinal         9026\n",
      "Genitourinary            2172\n",
      "Gynecological             313\n",
      "Hematological             638\n",
      "Metabolic                7650\n",
      "Musculoskeletal/Skin     1166\n",
      "Neurological            11896\n",
      "Respiratory             11609\n",
      "Sepsis                  11740\n",
      "Trauma                   3842\n",
      "nan                      1662\n",
      "Name: apache_3j_bodysystem, dtype: int64\n",
      "NaN: 0\n",
      "---\n",
      "apache_2_bodysystem\n",
      "Cardiovascular         38816\n",
      "Gastrointestinal        9026\n",
      "Haematologic             638\n",
      "Metabolic               7650\n",
      "Neurologic             11896\n",
      "Renal/Genitourinary     2460\n",
      "Respiratory            11609\n",
      "Trauma                  3842\n",
      "Undefined Diagnoses      346\n",
      "Undefined diagnoses     3768\n",
      "nan                     1662\n",
      "Name: apache_2_bodysystem, dtype: int64\n",
      "NaN: 0\n",
      "---\n",
      "apache_2_diagnosis\n",
      "101.0      376\n",
      "102.0     1883\n",
      "103.0      291\n",
      "104.0      363\n",
      "105.0     1037\n",
      "106.0     2476\n",
      "107.0      197\n",
      "108.0     1177\n",
      "109.0     1071\n",
      "110.0     3206\n",
      "112.0     4350\n",
      "113.0    11740\n",
      "114.0     2257\n",
      "115.0      251\n",
      "116.0      204\n",
      "117.0     3923\n",
      "118.0     1355\n",
      "119.0     1721\n",
      "120.0     1377\n",
      "121.0     2215\n",
      "122.0     3768\n",
      "123.0     2064\n",
      "124.0     3906\n",
      "202.0     2481\n",
      "203.0     2631\n",
      "207.0      643\n",
      "208.0      123\n",
      "209.0      480\n",
      "212.0       99\n",
      "213.0      750\n",
      "214.0     1167\n",
      "215.0      159\n",
      "216.0       26\n",
      "217.0      483\n",
      "218.0      553\n",
      "219.0      461\n",
      "301.0     6807\n",
      "302.0     6702\n",
      "303.0     3329\n",
      "304.0     3104\n",
      "305.0     2275\n",
      "306.0      638\n",
      "307.0     1818\n",
      "308.0     4114\n",
      "nan       1662\n",
      "Name: apache_2_diagnosis, dtype: int64\n",
      "NaN: 0\n",
      "---\n",
      "apache_3j_diagnosis\n",
      "0.01          1\n",
      "0.02          1\n",
      "0.03          1\n",
      "0.04          4\n",
      "0.06          1\n",
      "0.09          2\n",
      "0.11         15\n",
      "0.13          1\n",
      "0.14          5\n",
      "0.15          2\n",
      "0.18          3\n",
      "0.19         15\n",
      "0.2          15\n",
      "0.21          2\n",
      "0.22         40\n",
      "0.23         44\n",
      "0.24         22\n",
      "0.25        387\n",
      "101.01      249\n",
      "101.02        2\n",
      "102.01     2239\n",
      "102.02       18\n",
      "103.01      204\n",
      "104.01     2956\n",
      "105.01      123\n",
      "105.02      389\n",
      "106.01     3923\n",
      "107.01     4350\n",
      "108.01     1071\n",
      "109.01      254\n",
      "109.02      387\n",
      "109.03      335\n",
      "109.04      521\n",
      "109.05      111\n",
      "109.06       60\n",
      "109.07       52\n",
      "109.08      145\n",
      "109.09      633\n",
      "109.1       376\n",
      "109.11      129\n",
      "109.12       29\n",
      "109.13       45\n",
      "109.14      299\n",
      "109.15       28\n",
      "109.16      265\n",
      "110.01      250\n",
      "1101.01       3\n",
      "1101.02       3\n",
      "1101.03       2\n",
      "1101.04      32\n",
      "1101.05       1\n",
      "1101.07      58\n",
      "1101.09       2\n",
      "1102.01     245\n",
      "111.01     1449\n",
      "1202.01       1\n",
      "1202.02       2\n",
      "1202.03      58\n",
      "1202.04      12\n",
      "1202.05      88\n",
      "1202.06       3\n",
      "1202.07     114\n",
      "1202.08      19\n",
      "1203.01      14\n",
      "1203.02     204\n",
      "1204.01     450\n",
      "1204.02     139\n",
      "1205.01    1000\n",
      "1206.01      99\n",
      "1206.03    1848\n",
      "1207.01    2763\n",
      "1207.02      87\n",
      "1207.03      98\n",
      "1208.01     164\n",
      "1208.02       3\n",
      "1208.03      83\n",
      "1208.04      28\n",
      "1208.05      23\n",
      "1208.06     182\n",
      "1208.07      48\n",
      "1208.08      36\n",
      "1208.09      60\n",
      "1208.1      108\n",
      "1208.11      20\n",
      "1208.12      11\n",
      "1208.13     100\n",
      "1208.14      21\n",
      "1208.15      18\n",
      "1208.16     136\n",
      "1208.17       1\n",
      "1208.18       5\n",
      "1209.01      45\n",
      "1209.02      75\n",
      "1210.01      48\n",
      "1210.02       7\n",
      "1211.01     126\n",
      "1211.02      76\n",
      "1212.01     100\n",
      "1212.02      43\n",
      "1212.03     541\n",
      "1301.01      46\n",
      "1301.02     110\n",
      "1302.01      32\n",
      "1302.02     403\n",
      "1302.03      45\n",
      "1303.01     107\n",
      "1303.02      95\n",
      "1304.01      15\n",
      "1304.02      31\n",
      "1304.03       3\n",
      "1304.04      31\n",
      "1304.05     104\n",
      "1304.06       9\n",
      "1304.07      33\n",
      "1304.08      80\n",
      "1304.09     168\n",
      "1304.1       80\n",
      "1401.01     537\n",
      "1403.01      29\n",
      "1403.02      22\n",
      "1403.03      37\n",
      "1403.04      11\n",
      "1404.01     630\n",
      "1405.01      13\n",
      "1405.02     301\n",
      "1405.03      76\n",
      "1405.04     148\n",
      "1405.05      19\n",
      "1405.06      43\n",
      "1405.07     150\n",
      "1406.01     253\n",
      "1407.01      35\n",
      "1408.01      76\n",
      "1408.02       3\n",
      "1408.03     155\n",
      "1408.04      44\n",
      "1408.05      21\n",
      "1408.06     129\n",
      "1408.07      41\n",
      "1408.08     113\n",
      "1408.09      48\n",
      "1408.1        1\n",
      "1408.11       2\n",
      "1408.12       6\n",
      "1408.13      49\n",
      "1409.01      64\n",
      "1409.02      45\n",
      "1410.01     118\n",
      "1411.01      25\n",
      "1412.01      23\n",
      "1413.01      87\n",
      "1413.02      16\n",
      "1501.01     109\n",
      "1502.01      21\n",
      "1502.02     185\n",
      "1503.01      57\n",
      "1503.02     111\n",
      "1504.01      33\n",
      "1504.02      14\n",
      "1504.03     311\n",
      "1504.04      57\n",
      "1504.05      46\n",
      "1505.01     465\n",
      "1505.02      88\n",
      "1506.01      34\n",
      "1506.02       3\n",
      "1506.03      63\n",
      "1506.04      50\n",
      "1506.05      22\n",
      "1506.06      75\n",
      "1506.07     192\n",
      "1506.08      11\n",
      "1506.09      70\n",
      "1506.1       12\n",
      "1506.11      17\n",
      "1601.01      65\n",
      "1601.02       3\n",
      "1601.03       6\n",
      "1601.04      16\n",
      "1601.05       5\n",
      "1601.06      22\n",
      "1601.08       6\n",
      "1602.01      34\n",
      "1602.02      19\n",
      "1602.03       3\n",
      "1602.04      44\n",
      "1602.05       5\n",
      "1602.06      29\n",
      "1602.07      11\n",
      "1602.08       1\n",
      "1602.09      17\n",
      "1602.1        2\n",
      "1602.11      17\n",
      "1602.12     243\n",
      "1602.13      10\n",
      "1602.14      47\n",
      "1602.15      15\n",
      "1602.16       5\n",
      "1602.17      15\n",
      "1602.19      71\n",
      "1602.2        4\n",
      "1602.21       9\n",
      "1604.01       2\n",
      "1604.02       1\n",
      "1604.03      10\n",
      "1604.04       2\n",
      "1604.05      10\n",
      "1605.01      17\n",
      "1701.01      49\n",
      "1701.02      89\n",
      "1701.03      18\n",
      "1701.04       3\n",
      "1703.01      11\n",
      "1703.02      19\n",
      "1703.03      27\n",
      "1703.04      84\n",
      "1703.05      40\n",
      "1703.07       6\n",
      "1703.08       8\n",
      "1704.01      26\n",
      "1705.02      17\n",
      "1705.03     118\n",
      "1705.04       4\n",
      "1705.05       2\n",
      "1801.01      85\n",
      "1801.02      51\n",
      "1802.01     140\n",
      "1802.02      11\n",
      "1803.01       1\n",
      "1803.02      25\n",
      "1902.01      47\n",
      "1902.02      80\n",
      "1902.03     118\n",
      "1902.04      46\n",
      "1902.05     147\n",
      "1903.01      37\n",
      "1903.02      53\n",
      "1903.03      56\n",
      "1904.01     236\n",
      "201.01      363\n",
      "202.01      197\n",
      "203.01     1177\n",
      "204.01      291\n",
      "206.01     1883\n",
      "207.01     1037\n",
      "208.01      463\n",
      "209.01      376\n",
      "210.01        9\n",
      "210.02        6\n",
      "2101.01       6\n",
      "2101.03       3\n",
      "211.01       25\n",
      "211.02      145\n",
      "211.03      425\n",
      "211.04      146\n",
      "211.05       23\n",
      "211.06       30\n",
      "211.07        7\n",
      "211.08      155\n",
      "211.09      726\n",
      "211.1       149\n",
      "211.11       22\n",
      "211.12      101\n",
      "212.01     1997\n",
      "212.02      371\n",
      "213.01       93\n",
      "2201.01      12\n",
      "2201.02      10\n",
      "2201.03      12\n",
      "2201.04       5\n",
      "2201.05      61\n",
      "301.01      156\n",
      "301.02      195\n",
      "301.03       27\n",
      "301.04        1\n",
      "303.01       98\n",
      "305.01      945\n",
      "305.02     1609\n",
      "306.01     1254\n",
      "307.01      151\n",
      "307.02       91\n",
      "307.03        4\n",
      "307.04        5\n",
      "307.05       43\n",
      "308.01      129\n",
      "309.01      250\n",
      "310.01       56\n",
      "311.01      349\n",
      "312.01       22\n",
      "312.02       10\n",
      "312.03       21\n",
      "312.04        9\n",
      "312.05       28\n",
      "313.01       70\n",
      "313.02       30\n",
      "313.03       36\n",
      "313.04       43\n",
      "313.05       24\n",
      "401.01     1243\n",
      "402.01       75\n",
      "402.02      244\n",
      "403.01     3789\n",
      "404.01       42\n",
      "404.02       28\n",
      "404.03       97\n",
      "405.01      404\n",
      "406.01        5\n",
      "406.02       45\n",
      "406.03       47\n",
      "406.04       52\n",
      "407.01     1377\n",
      "408.01       70\n",
      "408.02      262\n",
      "408.03        2\n",
      "409.01       21\n",
      "409.02      632\n",
      "410.01     1415\n",
      "501.01      992\n",
      "501.02     1475\n",
      "501.03       40\n",
      "501.04      665\n",
      "501.05     4481\n",
      "501.06     1245\n",
      "502.01     2842\n",
      "601.01      896\n",
      "601.02       25\n",
      "601.03      104\n",
      "601.04      147\n",
      "601.05      172\n",
      "601.06      242\n",
      "601.07       22\n",
      "601.08      113\n",
      "602.01       50\n",
      "602.02       28\n",
      "602.03        4\n",
      "602.04       43\n",
      "602.05       11\n",
      "602.06       68\n",
      "602.07       56\n",
      "602.08       26\n",
      "602.09      117\n",
      "602.1        13\n",
      "602.11       99\n",
      "602.12      122\n",
      "602.13       25\n",
      "602.14       35\n",
      "602.15       52\n",
      "602.16       30\n",
      "602.17       21\n",
      "602.18        1\n",
      "602.19       38\n",
      "602.2        24\n",
      "602.21       42\n",
      "603.01      151\n",
      "604.01        9\n",
      "604.02       43\n",
      "604.03       11\n",
      "604.04       41\n",
      "604.05       28\n",
      "604.06       67\n",
      "605.01      100\n",
      "701.01      233\n",
      "701.02      280\n",
      "702.01     2064\n",
      "703.01      134\n",
      "703.02      528\n",
      "703.03     3106\n",
      "704.01      813\n",
      "704.02        8\n",
      "704.04       15\n",
      "704.05        5\n",
      "704.06       20\n",
      "704.07      208\n",
      "704.08       43\n",
      "704.09       14\n",
      "704.1        78\n",
      "704.11        1\n",
      "801.01       76\n",
      "801.02       25\n",
      "801.03       31\n",
      "801.04       48\n",
      "802.01      374\n",
      "802.02       10\n",
      "802.03       13\n",
      "802.04       13\n",
      "802.05        4\n",
      "802.06        3\n",
      "802.07        2\n",
      "802.08        9\n",
      "802.09       21\n",
      "901.01       65\n",
      "901.02       37\n",
      "901.03     1237\n",
      "901.04       92\n",
      "901.05       15\n",
      "901.06       48\n",
      "901.07        1\n",
      "902.01      131\n",
      "903.01       25\n",
      "nan        1101\n",
      "Name: apache_3j_diagnosis, dtype: int64\n",
      "NaN: 0\n",
      "---\n"
     ]
    }
   ],
   "source": [
    "print(str_cols)\n",
    "for col in str_cols:\n",
    "    print(col)\n",
    "    print(tr_data[col].value_counts().sort_index())\n",
    "    print(\"NaN: \"  + str(tr_data[col].isna().sum()))\n",
    "    print(\"---\")"
   ]
  },
  {
   "cell_type": "markdown",
   "metadata": {},
   "source": [
    "### Back/Forward Fill for Select Categorical Columns\n",
    "\n",
    "The model performance was tested for each of the following fill options for each of the categorical features below:\n",
    "\n",
    "1. Back Fill\n",
    "2. Forward Fill\n",
    "3. No Fill\n",
    "\n",
    "Based on the AUC score of the model for each option, we ended up with the following."
   ]
  },
  {
   "cell_type": "code",
   "execution_count": 24,
   "metadata": {},
   "outputs": [],
   "source": [
    "# Forward fill some and backward fill others\n",
    "tr_data['gender'].fillna(method='bfill',inplace = True)\n",
    "ul_data['gender'].fillna(method='bfill',inplace = True)\n",
    "\n",
    "\n",
    "tr_data['ethnicity'].fillna(method='ffill',inplace = True)\n",
    "ul_data['ethnicity'].fillna(method='ffill',inplace = True)\n",
    "\n",
    "tr_data['hospital_admit_source'].fillna(method='ffill',inplace = True)\n",
    "ul_data['hospital_admit_source'].fillna(method='ffill',inplace = True)\n",
    "\n",
    "tr_data['icu_admit_source'].fillna(method='bfill',inplace = True)\n",
    "ul_data['icu_admit_source'].fillna(method='bfill',inplace = True)\n",
    "\n",
    "tr_data['apache_3j_bodysystem'].fillna(method='bfill',inplace = True)\n",
    "ul_data['apache_3j_bodysystem'].fillna(method='bfill',inplace = True)\n",
    "\n",
    "# We will not forward of back fill this feature\n",
    "# tr_data['apache_2_bodysystem'].fillna(method='bfill',inplace = True)\n",
    "# ul_data['apache_2_bodysystem'].fillna(method='bfill',inplace = True)\n",
    "\n",
    "\n",
    "# These should really be the same value\n",
    "tr_data.loc[tr_data.loc[:, \"apache_2_bodysystem\"] == \"Undefined diagnoses\", \"apache_2_bodysystem\"] = \"Undefined Diagnoses\"\n",
    "tr_data.loc[tr_data.loc[:, \"apache_2_diagnosis\"] == \"185.40173901455842\", \"apache_2_diagnosis\"] = \"185.0\"\n",
    "\n",
    "# These should really be the same value\n",
    "ul_data.loc[ul_data.loc[:, \"apache_2_bodysystem\"] == \"Undefined diagnoses\", \"apache_2_bodysystem\"] = \"Undefined Diagnoses\"\n",
    "ul_data.loc[ul_data.loc[:, \"apache_2_diagnosis\"] == \"185.40173901455842\", \"apache_2_diagnosis\"] = \"185.0\"\n"
   ]
  },
  {
   "cell_type": "markdown",
   "metadata": {},
   "source": [
    "### Feature Engineering\n",
    "\n",
    "Length of stay in ICU should not be negative, but, before we clean up the data, let's create a new column "
   ]
  },
  {
   "cell_type": "code",
   "execution_count": 25,
   "metadata": {},
   "outputs": [],
   "source": [
    "tr_data.loc[tr_data.loc[:, \"pre_icu_los_days\"] <0, \"readmitted_to_icu\"] = 1\n",
    "tr_data.loc[tr_data.loc[:, \"pre_icu_los_days\"] >=0, \"readmitted_to_icu\"] = 0\n",
    "tr_data.loc[tr_data.loc[:, \"pre_icu_los_days\"] <0, \"pre_icu_los_days\"] = 0\n",
    "\n",
    "\n",
    "ul_data.loc[ul_data.loc[:, \"pre_icu_los_days\"] <0, \"pre_icu_los_days\"] = 0\n",
    "ul_data.loc[ul_data.loc[:, \"pre_icu_los_days\"] <0, \"readmitted_to_icu\"] = 1\n",
    "ul_data.loc[ul_data.loc[:, \"pre_icu_los_days\"] >=0, \"readmitted_to_icu\"] = 0    "
   ]
  },
  {
   "cell_type": "markdown",
   "metadata": {},
   "source": [
    "### Impute Missing Values for Float Columns"
   ]
  },
  {
   "cell_type": "code",
   "execution_count": 26,
   "metadata": {},
   "outputs": [],
   "source": [
    "for col in tr_data.columns:\n",
    "    if tr_data[col].dtypes in ['float16', 'float32', 'float64']:\n",
    "        if tr_data[col].isna().sum()>0:\n",
    "            HasNan = np.isnan(tr_data[col])\n",
    "            tr_data.loc[HasNan, col] = np.mean(tr_data[col])\n",
    "        if ul_data[col].isna().sum()>0:\n",
    "            HasNan = np.isnan(ul_data[col])\n",
    "            ul_data.loc[HasNan, col] = np.mean(ul_data[col])\n",
    "    \n",
    "    "
   ]
  },
  {
   "cell_type": "markdown",
   "metadata": {},
   "source": [
    "### Replace Outliers for Float Datatypes\n",
    "\n",
    "We want to be able to toggle this on/off to see how it effects the model performance"
   ]
  },
  {
   "cell_type": "code",
   "execution_count": 27,
   "metadata": {},
   "outputs": [],
   "source": [
    "replace_outliers=False\n",
    "if replace_outliers:\n",
    "    for col in tr_data.columns:\n",
    "        if tr_data[col].dtypes in ['float64', 'float16']:\n",
    "            TooHighOrLow =  (tr_data.loc[:, col] >   tr_data[col].mean() + 3 * tr_data[col].std()) | (tr_data.loc[:, col] <   tr_data[col].mean() - 3 * tr_data[col].std())\n",
    "            tr_data.loc[TooHighOrLow, col] = np.median(tr_data.loc[~TooHighOrLow,col])\n",
    "        \n"
   ]
  },
  {
   "cell_type": "markdown",
   "metadata": {},
   "source": [
    "### Reduce memory usage and review counts of data types"
   ]
  },
  {
   "cell_type": "code",
   "execution_count": 28,
   "metadata": {},
   "outputs": [
    {
     "name": "stdout",
     "output_type": "stream",
     "text": [
      "Mem. usage decreased to 27.20 Mb (66.8% reduction)\n"
     ]
    },
    {
     "name": "stderr",
     "output_type": "stream",
     "text": [
      "C:\\Users\\rebec\\Anaconda3\\envs\\uwdatasci420\\lib\\site-packages\\ipykernel_launcher.py:19: RuntimeWarning: invalid value encountered in less\n",
      "C:\\Users\\rebec\\Anaconda3\\envs\\uwdatasci420\\lib\\site-packages\\ipykernel_launcher.py:21: RuntimeWarning: invalid value encountered in less\n"
     ]
    },
    {
     "name": "stdout",
     "output_type": "stream",
     "text": [
      "Mem. usage decreased to 11.88 Mb (66.1% reduction)\n"
     ]
    },
    {
     "data": {
      "text/plain": [
       "int8       27\n",
       "float16    80\n",
       "int16      20\n",
       "int32       1\n",
       "object     10\n",
       "dtype: int64"
      ]
     },
     "execution_count": 28,
     "metadata": {},
     "output_type": "execute_result"
    }
   ],
   "source": [
    "tr_data = reduce_mem_usage(tr_data)\n",
    "ul_data = reduce_mem_usage(ul_data)\n",
    "tr_data.dtypes.value_counts().sort_index()"
   ]
  },
  {
   "cell_type": "code",
   "execution_count": 29,
   "metadata": {},
   "outputs": [
    {
     "data": {
      "text/plain": [
       "(91713, 138)"
      ]
     },
     "execution_count": 29,
     "metadata": {},
     "output_type": "execute_result"
    }
   ],
   "source": [
    "tr_data.shape"
   ]
  },
  {
   "cell_type": "markdown",
   "metadata": {},
   "source": [
    "### Review Distributions of High Importance Features \n",
    "\n",
    "We will concentrait on those that were rated with \"High Feature Importance\" according to LGBM"
   ]
  },
  {
   "cell_type": "code",
   "execution_count": 30,
   "metadata": {},
   "outputs": [],
   "source": [
    "# Pull features from saved csv file from previous run of LightGBM\n",
    "feature_imp_df = pd.read_csv('feature_importances.csv')"
   ]
  },
  {
   "cell_type": "code",
   "execution_count": 31,
   "metadata": {},
   "outputs": [
    {
     "name": "stdout",
     "output_type": "stream",
     "text": [
      "['icu_admit_source_Floor', 'd1_bun_span', 'icu_type_Med-Surg ICU', 'apache_2_diagnosis_113.0', 'gender_M', 'hospital_admit_source_Emergency Department', 'apache_3j_bodysystem_Respiratory', 'ethnicity_Caucasian', 'd1_lactate_span', 'hospital_admit_source_Other', 'h1_spo2_span', 'apache_2_diagnosis_114.0', 'apache_3j_bodysystem_Neurological', 'd1_arterial_po2_span', 'hospital_admit_source_Floor', 'apache_3j_diagnosis_102.01', 'd1_spo2_span', 'apache_2_diagnosis_110.0', 'icu_type_MICU', 'apache_2_diagnosis_121.0']\n"
     ]
    }
   ],
   "source": [
    "# Pull those that have an importance score above 100\n",
    "top_feature_imp_df=feature_imp_df[feature_imp_df.average > 100].sort_values('average', ascending=False)\n",
    "\n",
    "# Create a list of feature columns names so we can iterate through them\n",
    "top_features = top_feature_imp_df['feature'].to_list()\n",
    "\n",
    "# These are are the features that were NOT one-hot-encoded:\n",
    "regular_columns = [col for col in top_features if col  in tr_data.columns]\n",
    "\n",
    "# These are the features that WERE one-hot-encoded:\n",
    "encoded_columns = [col for col in top_features if col not in tr_data.columns]\n",
    "\n",
    "# We can figure out what these columns were originally by looking at the values\n",
    "print(encoded_columns)"
   ]
  },
  {
   "cell_type": "code",
   "execution_count": 32,
   "metadata": {},
   "outputs": [],
   "source": [
    "# Now we can just add these original columns names to our list\n",
    "regular_columns.append('gender')\n",
    "regular_columns.append('hospital_admit_source')\n",
    "regular_columns.append('icu_type')\n",
    "regular_columns.append('icu_admit_source')\n",
    "regular_columns.append('ethnicity')\n"
   ]
  },
  {
   "cell_type": "code",
   "execution_count": 33,
   "metadata": {},
   "outputs": [
    {
     "data": {
      "text/plain": [
       "47"
      ]
     },
     "execution_count": 33,
     "metadata": {},
     "output_type": "execute_result"
    }
   ],
   "source": [
    "len(regular_columns)"
   ]
  },
  {
   "cell_type": "markdown",
   "metadata": {},
   "source": [
    "<b>We have 26 high importance features</b>. To aid in looking at thier distributions by our our lable (death = true/false), let's separate them out into three categoies, integer, float and object."
   ]
  },
  {
   "cell_type": "code",
   "execution_count": 34,
   "metadata": {},
   "outputs": [
    {
     "name": "stdout",
     "output_type": "stream",
     "text": [
      "There are 21 integer features with high importance, they are; \n",
      "['gcs_verbal_apache', 'ventilated_apache', 'd1_spo2_min', 'h1_spo2_max', 'gcs_motor_apache', 'd1_heartrate_min', 'd1_resprate_min', 'd1_spo2_max', 'resprate_apache', 'diabetes_mellitus', 'age', 'gcs_eyes_apache', 'd1_sysbp_min', 'icu_id', 'hospital_id', 'h1_resprate_min', 'intubated_apache', 'd1_mbp_min', 'd1_sysbp_max', 'd1_resprate_max', 'h1_spo2_min']\n",
      "---------------------------------------------------------------------------\n",
      "There are 21 numeric(float) features with high importance, they are; \n",
      "['apache_4a_icu_death_prob', 'apache_4a_hospital_death_prob', 'd1_lactate_min', 'd1_inr_max', 'd1_temp_min', 'h1_temp_min', 'd1_lactate_max', 'd1_inr_min', 'd1_temp_max', 'fio2_apache', 'd1_hco3_max', 'd1_bun_min', 'd1_arterial_ph_min', 'pre_icu_los_days', 'd1_bilirubin_min', 'd1_bilirubin_max', 'glucose_apache', 'bilirubin_apache', 'd1_bun_max', 'weight', 'd1_sysbp_noninvasive_min']\n",
      "---------------------------------------------------------------------------\n",
      "There are 5 string/category features with high importance, they are; \n",
      "['gender', 'hospital_admit_source', 'icu_type', 'icu_admit_source', 'ethnicity']\n"
     ]
    }
   ],
   "source": [
    "hi_int_columns = [col for col in regular_columns if tr_data[col].dtypes in ['int8', 'int16']]\n",
    "hi_float_columns = [col for col in regular_columns if tr_data[col].dtypes in ['float16','float32', 'float64']]\n",
    "hi_obj_columns= [col for col in regular_columns if tr_data[col].dtypes == 'object']\n",
    "\n",
    "print(\"There are \" +str(len(hi_int_columns)) + \" integer features with high importance, they are; \")\n",
    "print(hi_int_columns)\n",
    "print(\"-\"*75)\n",
    "print(\"There are \" +str(len(hi_float_columns)) + \" numeric(float) features with high importance, they are; \")\n",
    "print(hi_float_columns)\n",
    "print(\"-\"*75)\n",
    "print(\"There are \" +str(len(hi_obj_columns)) + \" string/category features with high importance, they are; \")\n",
    "print(hi_obj_columns)"
   ]
  },
  {
   "cell_type": "markdown",
   "metadata": {},
   "source": [
    "### Visualizations"
   ]
  },
  {
   "cell_type": "markdown",
   "metadata": {},
   "source": [
    "#### Glasgow Coma Scale/Score for Verbal, Motor and Eye Response\n",
    "\n",
    "The GCS score can be indicative of how critically ill a patient is. The GCS is commonly used in the pre-hospital and acute care setting as well as over a patient’s hospital course to evaluate for mental status assessment in both traumatic and non-traumatic presentations."
   ]
  },
  {
   "cell_type": "code",
   "execution_count": 35,
   "metadata": {},
   "outputs": [
    {
     "data": {
      "image/png": "[encoded data removed]",
      "text/plain": [
       "<Figure size 1080x360 with 3 Axes>"
      ]
     },
     "metadata": {
      "needs_background": "light"
     },
     "output_type": "display_data"
    }
   ],
   "source": [
    "fig, axes = plt.subplots(1,3, figsize=(15, 5))\n",
    "colors=[\"tan\", \"lightcoral\"]\n",
    "df_by_int_cat1 = tr_data.groupby(['hospital_death','gcs_verbal_apache']).size().reset_index(name='Count')\n",
    "df_by_int_cat_pivot1 = pd.pivot_table(df_by_int_cat1,  values='Count',  columns=['hospital_death'],  index = \"gcs_verbal_apache\",\n",
    "                         aggfunc=np.sum,  fill_value=0)\n",
    "df_by_int_cat_pivot1.plot(kind=\"bar\",  edgecolor='black',color=colors, ax = axes[0])\n",
    "x_verble_labels = ('No verbal response', 'Incomprehensible sounds', 'Inappropriate words', 'Confused', 'Oriented')\n",
    "axes[0].set_xticklabels(x_verble_labels)\n",
    "axes[0].set_xlabel('')\n",
    "axes[0].set_title(\"Verbal Response\")\n",
    "axes[0].legend(('Survived', 'Died'))\n",
    "df_by_int_cat2 = tr_data.groupby(['hospital_death','gcs_motor_apache']).size().reset_index(name='Count')\n",
    "df_by_int_cat_pivot2 = pd.pivot_table(df_by_int_cat2,  values='Count',  columns=['hospital_death'],  index = \"gcs_motor_apache\",\n",
    "                         aggfunc=np.sum,  fill_value=0)\n",
    "df_by_int_cat_pivot2.plot(kind=\"bar\",  edgecolor='black',color=colors, ax = axes[1])\n",
    "x_motor_labels = ('No motor response', 'Extension to pain', 'Flexion to pain ', 'Withdrawal from pain', 'Localizes pain', 'Obeys commands' )\n",
    "axes[1].set_xticklabels(x_motor_labels)\n",
    "axes[1].set_xlabel(\"\")\n",
    "axes[1].set_title(\"Motor Response\")\n",
    "axes[1].legend(('Survived', 'Died'))\n",
    "df_by_int_cat3 = tr_data.groupby(['hospital_death','gcs_eyes_apache']).size().reset_index(name='Count')\n",
    "df_by_int_cat_pivot3 = pd.pivot_table(df_by_int_cat3,  values='Count',  columns=['hospital_death'],  index = \"gcs_eyes_apache\",\n",
    "                         aggfunc=np.sum,  fill_value=0)\n",
    "df_by_int_cat_pivot3.plot(kind=\"bar\",  edgecolor='black',color=colors, ax = axes[2])\n",
    "x_eye_labels = ('No eye opening', 'To pain', 'To verbal command', 'Spontaneously')\n",
    "axes[2].set_xticklabels(x_eye_labels)\n",
    "axes[2].set_xlabel(\"\")\n",
    "axes[2].set_title(\"Eye Response\")\n",
    "axes[2].legend(('Survived', 'Died'))\n",
    "\n",
    "plt.show()"
   ]
  },
  {
   "cell_type": "code",
   "execution_count": 36,
   "metadata": {},
   "outputs": [
    {
     "data": {
      "text/plain": [
       "44"
      ]
     },
     "execution_count": 36,
     "metadata": {},
     "output_type": "execute_result"
    }
   ],
   "source": [
    "del df_by_int_cat1, df_by_int_cat_pivot1,df_by_int_cat2, df_by_int_cat_pivot2,df_by_int_cat3, df_by_int_cat_pivot3\n",
    "gc.collect()"
   ]
  },
  {
   "cell_type": "markdown",
   "metadata": {},
   "source": [
    "#### Apache  Death Probability for  ICU and Hospital\n",
    "\n",
    "The graphs below only show death probabilities for those greater than .05 so that we can compare the distributions between those that survived and those that died."
   ]
  },
  {
   "cell_type": "code",
   "execution_count": 37,
   "metadata": {},
   "outputs": [
    {
     "data": {
      "image/png": "[encoded data removed]",
      "text/plain": [
       "<Figure size 1080x216 with 2 Axes>"
      ]
     },
     "metadata": {
      "needs_background": "light"
     },
     "output_type": "display_data"
    }
   ],
   "source": [
    "apache_data=tr_data.loc[(tr_data[\"apache_4a_icu_death_prob\"]>.05)]\n",
    "apache_data2=tr_data.loc[(tr_data[\"apache_4a_hospital_death_prob\"]>.05)]\n",
    "\n",
    "fig, axes = plt.subplots(1,2, figsize=(15, 3))\n",
    "bins = np.linspace(.01, 1, 11)\n",
    "\n",
    "apache_data.loc[apache_data[\"hospital_death\"]==0, \"apache_4a_icu_death_prob\" ].plot.hist(bins = bins, rwidth=0.9, title='Apache ICU Death Probability', edgecolor='black', alpha=0.2, color=\"blue\", ax = axes[0])\n",
    "apache_data.loc[apache_data[\"hospital_death\"]!=0, \"apache_4a_icu_death_prob\" ].plot.hist(bins = bins, rwidth=0.9,  edgecolor='black', alpha=0.2, color=\"green\", ax = axes[0])\n",
    "axes[0].set_xlabel(\"Apache ICU Death Provability\")\n",
    "axes[0].legend(('Survived', 'Died'))\n",
    "\n",
    "apache_data2.loc[apache_data2[\"hospital_death\"]==0, \"apache_4a_hospital_death_prob\" ].plot.hist(bins = bins, rwidth=0.9, title='Apache Hospital Death Probability', edgecolor='black', alpha=0.2, color=\"blue\", ax = axes[1])\n",
    "apache_data2.loc[apache_data2[\"hospital_death\"]!=0, \"apache_4a_hospital_death_prob\" ].plot.hist(bins = bins, rwidth=0.9,  edgecolor='black', alpha=0.2, color=\"green\", ax = axes[1])\n",
    "axes[1].set_xlabel(\"Apache Hospital Death Provability\")\n",
    "axes[1].legend(('Survived', 'Died'))\n",
    "\n",
    "plt.show()\n"
   ]
  },
  {
   "cell_type": "code",
   "execution_count": 38,
   "metadata": {},
   "outputs": [
    {
     "data": {
      "text/plain": [
       "9092"
      ]
     },
     "execution_count": 38,
     "metadata": {},
     "output_type": "execute_result"
    }
   ],
   "source": [
    "del apache_data, apache_data2\n",
    "gc.collect()"
   ]
  },
  {
   "cell_type": "markdown",
   "metadata": {},
   "source": [
    "#### Age and Length of Stay in ICU\n",
    "\n",
    "Diabetes mellitus (DM) describes a group of metabolic diseases that are characterized by chronic hyperglycemia (elevated blood glucose levels). The two most common forms are type 1 and type 2 diabetes mellitus."
   ]
  },
  {
   "cell_type": "code",
   "execution_count": 39,
   "metadata": {},
   "outputs": [
    {
     "data": {
      "image/png": "[encoded data removed]",
      "text/plain": [
       "<Figure size 1080x216 with 2 Axes>"
      ]
     },
     "metadata": {
      "needs_background": "light"
     },
     "output_type": "display_data"
    }
   ],
   "source": [
    "pre_icu=tr_data.loc[(tr_data[\"pre_icu_los_days\"]>0)]\n",
    "#pre_icu=tr_data.loc[(tr_data[\"apache_4a_hospital_death_prob\"]>.05)]\n",
    "\n",
    "fig, axes = plt.subplots(1,2, figsize=(15, 3))\n",
    "bins = np.linspace(15, 100, 20)\n",
    "\n",
    "tr_data.loc[tr_data[\"hospital_death\"]==0, \"age\" ].plot.hist(bins = bins, rwidth=0.9, title='Age', edgecolor='black', alpha=0.2, color=\"blue\", ax = axes[0])\n",
    "tr_data.loc[tr_data[\"hospital_death\"]!=0, \"age\" ].plot.hist(bins = bins, rwidth=0.9,  edgecolor='black', alpha=0.2, color=\"green\", ax = axes[0])\n",
    "axes[0].set_xlabel(\"Age\")\n",
    "axes[0].legend(('Survived', 'Died'))\n",
    "\n",
    "bins = np.linspace(-10, 10, 20)\n",
    "pre_icu.loc[pre_icu[\"hospital_death\"]==0, \"pre_icu_los_days\" ].plot.hist(bins = bins, rwidth=0.9, title='Pre ICU LOS (length of stay)', edgecolor='black', alpha=0.2, color=\"blue\", ax = axes[1])\n",
    "pre_icu.loc[pre_icu[\"hospital_death\"]!=0, \"pre_icu_los_days\" ].plot.hist(bins = bins, rwidth=0.9,  edgecolor='black', alpha=0.2, color=\"green\", ax = axes[1])\n",
    "axes[1].set_xlabel(\"Pre ICU LOS (length of stay)\")\n",
    "axes[1].legend(('Survived', 'Died'))\n",
    "\n",
    "plt.show()\n"
   ]
  },
  {
   "cell_type": "markdown",
   "metadata": {},
   "source": [
    "#### APACHE scores for  Resprate\n",
    "\n",
    "The respiratory rate (Breaths per minute) measured during the first 24 hours which results in the highest APACHE III score"
   ]
  },
  {
   "cell_type": "code",
   "execution_count": 40,
   "metadata": {},
   "outputs": [
    {
     "data": {
      "image/png": "[encoded data removed]",
      "text/plain": [
       "<Figure size 720x216 with 1 Axes>"
      ]
     },
     "metadata": {
      "needs_background": "light"
     },
     "output_type": "display_data"
    }
   ],
   "source": [
    "fig, axes = plt.subplots(1,1, figsize=(10, 3))\n",
    "\n",
    "bins = np.linspace(0, 60, 20)\n",
    "tr_data.loc[tr_data[\"hospital_death\"]==0, \"resprate_apache\" ].plot.hist(bins = bins, rwidth=0.9, title='Resprate APACHE', edgecolor='black', alpha=0.2, color=\"blue\", ax = axes)\n",
    "tr_data.loc[tr_data[\"hospital_death\"]!=0, \"resprate_apache\" ].plot.hist(bins = bins, rwidth=0.9,  edgecolor='black', alpha=0.2, color=\"green\", ax = axes)\n",
    "axes.set_xlabel(\"Resprate\")\n",
    "axes.legend(('Survived', 'Died'))\n",
    "\n",
    "plt.show()"
   ]
  },
  {
   "cell_type": "markdown",
   "metadata": {},
   "source": [
    "#### Peripheral Oxygen Saturation - min and max for the first 24 hours\n",
    "\n",
    "SpO2 stands for peripheral capillary oxygen saturation, an estimate of the amount of oxygen in the blood."
   ]
  },
  {
   "cell_type": "code",
   "execution_count": 41,
   "metadata": {},
   "outputs": [
    {
     "data": {
      "image/png": "[encoded data removed]",
      "text/plain": [
       "<Figure size 1080x216 with 2 Axes>"
      ]
     },
     "metadata": {
      "needs_background": "light"
     },
     "output_type": "display_data"
    }
   ],
   "source": [
    "fig, axes = plt.subplots(1,2, figsize=(15, 3))\n",
    "bins = np.linspace(60, 100, 20)\n",
    "\n",
    "tr_data.loc[tr_data[\"hospital_death\"]==0, \"d1_spo2_min\" ].plot.hist(bins = bins, rwidth=0.9, title='Minimum Peripheral Oxygen Saturation', edgecolor='black', alpha=0.2, color=\"blue\", ax = axes[0])\n",
    "tr_data.loc[tr_data[\"hospital_death\"]!=0, \"d1_spo2_min\" ].plot.hist(bins = bins, rwidth=0.9,  edgecolor='black', alpha=0.2, color=\"green\", ax = axes[0])\n",
    "axes[0].set_xlabel(\"SPO2\")\n",
    "axes[0].legend(('Survived', 'Died'))\n",
    "\n",
    "bins = np.linspace(60, 100, 20)\n",
    "tr_data.loc[tr_data[\"hospital_death\"]==0, \"d1_spo2_max\" ].plot.hist(bins = bins, rwidth=0.9, title='Maximum Peripheral Oxygen Saturation', edgecolor='black', alpha=0.2, color=\"blue\", ax = axes[1])\n",
    "tr_data.loc[tr_data[\"hospital_death\"]!=0, \"d1_spo2_max\" ].plot.hist(bins = bins, rwidth=0.9,  edgecolor='black', alpha=0.2, color=\"green\", ax = axes[1])\n",
    "axes[1].set_xlabel(\"SPO2\")\n",
    "axes[1].legend(('Survived', 'Died'))\n",
    "\n",
    "plt.show()"
   ]
  },
  {
   "cell_type": "markdown",
   "metadata": {},
   "source": [
    "#### Peripheral Oxygen Saturation - min and max for the first  hour\n",
    "\n",
    "SpO2 stands for peripheral capillary oxygen saturation, an estimate of the amount of oxygen in the blood."
   ]
  },
  {
   "cell_type": "code",
   "execution_count": 42,
   "metadata": {},
   "outputs": [
    {
     "data": {
      "image/png": "[encoded data removed]",
      "text/plain": [
       "<Figure size 1080x216 with 2 Axes>"
      ]
     },
     "metadata": {
      "needs_background": "light"
     },
     "output_type": "display_data"
    }
   ],
   "source": [
    "fig, axes = plt.subplots(1,2, figsize=(15, 3))\n",
    "bins = np.linspace(60, 100, 20)\n",
    "\n",
    "tr_data.loc[tr_data[\"hospital_death\"]==0, \"h1_spo2_min\" ].plot.hist(bins = bins, rwidth=0.9, title='Minimum Peripheral Oxygen Saturation', edgecolor='black', alpha=0.2, color=\"blue\", ax = axes[0])\n",
    "tr_data.loc[tr_data[\"hospital_death\"]!=0, \"h1_spo2_min\" ].plot.hist(bins = bins, rwidth=0.9,  edgecolor='black', alpha=0.2, color=\"green\", ax = axes[0])\n",
    "axes[0].set_xlabel(\"SPO2\")\n",
    "axes[0].legend(('Survived', 'Died'))\n",
    "\n",
    "bins = np.linspace(60, 100, 20)\n",
    "tr_data.loc[tr_data[\"hospital_death\"]==0, \"h1_spo2_max\" ].plot.hist(bins = bins, rwidth=0.9, title='Maximum Peripheral Oxygen Saturation', edgecolor='black', alpha=0.2, color=\"blue\", ax = axes[1])\n",
    "tr_data.loc[tr_data[\"hospital_death\"]!=0, \"h1_spo2_max\" ].plot.hist(bins = bins, rwidth=0.9,  edgecolor='black', alpha=0.2, color=\"green\", ax = axes[1])\n",
    "axes[1].set_xlabel(\"SPO2\")\n",
    "axes[1].legend(('Survived', 'Died'))\n",
    "\n",
    "plt.show()"
   ]
  },
  {
   "cell_type": "markdown",
   "metadata": {},
   "source": [
    "#### Respiration Rate- min and max for the first hour\n",
    "\n",
    "The highest and lowest The patient's lowest respiratory rate during the first hour of their unit stay"
   ]
  },
  {
   "cell_type": "code",
   "execution_count": 43,
   "metadata": {},
   "outputs": [
    {
     "data": {
      "image/png": "[encoded data removed]",
      "text/plain": [
       "<Figure size 1080x216 with 2 Axes>"
      ]
     },
     "metadata": {
      "needs_background": "light"
     },
     "output_type": "display_data"
    }
   ],
   "source": [
    "fig, axes = plt.subplots(1,2, figsize=(15, 3))\n",
    "bins = np.linspace(0, 50, 20)\n",
    "\n",
    "tr_data.loc[tr_data[\"hospital_death\"]==0, \"h1_resprate_min\" ].plot.hist(bins = bins, rwidth=0.9, title='Minimum Respiration Rate', edgecolor='black', alpha=0.2, color=\"blue\", ax = axes[0])\n",
    "tr_data.loc[tr_data[\"hospital_death\"]!=0, \"h1_resprate_min\" ].plot.hist(bins = bins, rwidth=0.9,  edgecolor='black', alpha=0.2, color=\"green\", ax = axes[0])\n",
    "axes[0].set_xlabel(\"Respiration\")\n",
    "axes[0].legend(('Survived', 'Died'))\n",
    "\n",
    "bins = np.linspace(0, 50, 20)\n",
    "tr_data.loc[tr_data[\"hospital_death\"]==0, \"h1_resprate_max\" ].plot.hist(bins = bins, rwidth=0.9, title='Maximum Respiration Rate', edgecolor='black', alpha=0.2, color=\"blue\", ax = axes[1])\n",
    "tr_data.loc[tr_data[\"hospital_death\"]!=0, \"h1_resprate_max\" ].plot.hist(bins = bins, rwidth=0.9,  edgecolor='black', alpha=0.2, color=\"green\", ax = axes[1])\n",
    "axes[1].set_xlabel(\"Respiration\")\n",
    "axes[1].legend(('Survived', 'Died'))\n",
    "\n",
    "plt.show()"
   ]
  },
  {
   "cell_type": "markdown",
   "metadata": {},
   "source": [
    "#### Blood Urea Nitrogen Concentration- min and max for the first 24 hours\n",
    "\n",
    "The lowest and highest blood urea nitrogen concentration of the patient in their serum or plasma during the first 24 hours of their unit stay"
   ]
  },
  {
   "cell_type": "code",
   "execution_count": 44,
   "metadata": {},
   "outputs": [
    {
     "data": {
      "image/png": "[encoded data removed]",
      "text/plain": [
       "<Figure size 1080x216 with 2 Axes>"
      ]
     },
     "metadata": {
      "needs_background": "light"
     },
     "output_type": "display_data"
    }
   ],
   "source": [
    "fig, axes = plt.subplots(1,2, figsize=(15, 3))\n",
    "bins = np.linspace(0, 100, 20)\n",
    "\n",
    "tr_data.loc[tr_data[\"hospital_death\"]==0, \"d1_bun_min\" ].plot.hist(bins = bins, rwidth=0.9, title='Minimum Blood Urea Nitrogen Concentration', edgecolor='black', alpha=0.2, color=\"blue\", ax = axes[0])\n",
    "tr_data.loc[tr_data[\"hospital_death\"]!=0, \"d1_bun_min\" ].plot.hist(bins = bins, rwidth=0.9,  edgecolor='black', alpha=0.2, color=\"green\", ax = axes[0])\n",
    "axes[0].set_xlabel(\"Blood Urea Nitrogen Concentration\")\n",
    "axes[0].legend(('Survived', 'Died'))\n",
    "\n",
    "bins = np.linspace(0, 100, 20)\n",
    "tr_data.loc[tr_data[\"hospital_death\"]==0, \"d1_bun_max\" ].plot.hist(bins = bins, rwidth=0.9, title='Maximum Blood Urea Nitrogen Concentration', edgecolor='black', alpha=0.2, color=\"blue\", ax = axes[1])\n",
    "tr_data.loc[tr_data[\"hospital_death\"]!=0, \"d1_bun_max\" ].plot.hist(bins = bins, rwidth=0.9,  edgecolor='black', alpha=0.2, color=\"green\", ax = axes[1])\n",
    "axes[1].set_xlabel(\"Blood Urea Nitrogen Concentration\")\n",
    "axes[1].legend(('Survived', 'Died'))\n",
    "\n",
    "plt.show()"
   ]
  },
  {
   "cell_type": "markdown",
   "metadata": {},
   "source": [
    "#### Tempature- min and max for the first 24 hours\n",
    "\n",
    "The patient's lowest and highest core temperature during the first 24 hours of their unit stay"
   ]
  },
  {
   "cell_type": "code",
   "execution_count": 45,
   "metadata": {},
   "outputs": [
    {
     "data": {
      "image/png": "[encoded data removed]",
      "text/plain": [
       "<Figure size 1080x216 with 2 Axes>"
      ]
     },
     "metadata": {
      "needs_background": "light"
     },
     "output_type": "display_data"
    }
   ],
   "source": [
    "fig, axes = plt.subplots(1,2, figsize=(15, 3))\n",
    "bins = np.linspace(30, 40, 20)\n",
    "\n",
    "tr_data.loc[tr_data[\"hospital_death\"]==0, \"d1_temp_min\" ].plot.hist(bins = bins, rwidth=0.9, title='Minimum Core Tempature', edgecolor='black', alpha=0.2, color=\"blue\", ax = axes[0])\n",
    "tr_data.loc[tr_data[\"hospital_death\"]!=0, \"d1_temp_min\" ].plot.hist(bins = bins, rwidth=0.9,  edgecolor='black', alpha=0.2, color=\"green\", ax = axes[0])\n",
    "axes[0].set_xlabel(\"Tempature\")\n",
    "axes[0].legend(('Survived', 'Died'))\n",
    "\n",
    "bins = np.linspace(0, 100, 20)\n",
    "tr_data.loc[tr_data[\"hospital_death\"]==0, \"d1_temp_max\" ].plot.hist(bins = bins, rwidth=0.9, title='Maximum Core Tempature', edgecolor='black', alpha=0.2, color=\"blue\", ax = axes[1])\n",
    "tr_data.loc[tr_data[\"hospital_death\"]!=0, \"d1_temp_max\" ].plot.hist(bins = bins, rwidth=0.9,  edgecolor='black', alpha=0.2, color=\"green\", ax = axes[1])\n",
    "axes[1].set_xlabel(\"Tempature\")\n",
    "axes[1].legend(('Survived', 'Died'))\n",
    "\n",
    "plt.show()"
   ]
  },
  {
   "cell_type": "markdown",
   "metadata": {},
   "source": [
    "#### Respiratory Rate- min and max for the first 24  hours\n",
    "\n",
    "The patient's lowest respiratory rate during the first 24 hours of their unit stay"
   ]
  },
  {
   "cell_type": "code",
   "execution_count": 46,
   "metadata": {},
   "outputs": [
    {
     "data": {
      "image/png": "[encoded data removed]",
      "text/plain": [
       "<Figure size 1080x216 with 2 Axes>"
      ]
     },
     "metadata": {
      "needs_background": "light"
     },
     "output_type": "display_data"
    }
   ],
   "source": [
    "fig, axes = plt.subplots(1,2, figsize=(15, 3))\n",
    "bins = np.linspace(0, 70, 20)\n",
    "\n",
    "tr_data.loc[tr_data[\"hospital_death\"]==0, \"d1_resprate_min\" ].plot.hist(bins = bins, rwidth=0.9, title='Lowest Respiratory Rateen', edgecolor='black', alpha=0.2, color=\"blue\", ax = axes[0])\n",
    "tr_data.loc[tr_data[\"hospital_death\"]!=0, \"d1_resprate_min\" ].plot.hist(bins = bins, rwidth=0.9,  edgecolor='black', alpha=0.2, color=\"green\", ax = axes[0])\n",
    "axes[0].set_xlabel(\"Respiratory Rate\")\n",
    "axes[0].legend(('Survived', 'Died'))\n",
    "\n",
    "bins = np.linspace(0, 70, 20)\n",
    "tr_data.loc[tr_data[\"hospital_death\"]==0, \"d1_resprate_max\" ].plot.hist(bins = bins, rwidth=0.9, title='Highest Arterial Partial Pressure of Oxygen', edgecolor='black', alpha=0.2, color=\"blue\", ax = axes[1])\n",
    "tr_data.loc[tr_data[\"hospital_death\"]!=0, \"d1_resprate_max\" ].plot.hist(bins = bins, rwidth=0.9,  edgecolor='black', alpha=0.2, color=\"green\", ax = axes[1])\n",
    "axes[1].set_xlabel(\"Respiratory Rate\")\n",
    "axes[1].legend(('Survived', 'Died'))\n",
    "\n",
    "plt.show()"
   ]
  },
  {
   "cell_type": "markdown",
   "metadata": {},
   "source": [
    "#### Ventilated or Intubated\n",
    "\n",
    "Ventilated: Whether the patient was invasively ventilated  at the time of the highest scoring arterial blood gas using the oxygenation scoring algorithm, including any mode of positive pressure ventilation delivered through a circuit attached to an endo-tracheal tube or tracheostomy.\n",
    "\n",
    "Intubated: Whether the patient was intubated at the time of the highest scoring arterial blood gas used in the oxygenation score"
   ]
  },
  {
   "cell_type": "code",
   "execution_count": 47,
   "metadata": {},
   "outputs": [
    {
     "data": {
      "image/png": "[encoded data removed]",
      "text/plain": [
       "<Figure size 1080x360 with 2 Axes>"
      ]
     },
     "metadata": {
      "needs_background": "light"
     },
     "output_type": "display_data"
    }
   ],
   "source": [
    "fig, axes = plt.subplots(1,2, figsize=(15, 5))\n",
    "colors=[\"tan\", \"lightcoral\"]\n",
    "df_by_int_cat1 = tr_data.groupby(['hospital_death','ventilated_apache']).size().reset_index(name='Count')\n",
    "df_by_int_cat_pivot1 = pd.pivot_table(df_by_int_cat1,  values='Count',  columns=['hospital_death'],  index = \"ventilated_apache\",\n",
    "                         aggfunc=np.sum,  fill_value=0)\n",
    "df_by_int_cat_pivot1.plot(kind=\"bar\",  edgecolor='black',color=colors, ax = axes[0])\n",
    "x_verble_labels = ('No', 'Yes')\n",
    "axes[0].set_xticklabels(x_verble_labels)\n",
    "axes[0].set_xlabel('')\n",
    "axes[0].set_title(\"Ventilated\")\n",
    "axes[0].legend(('Survived', 'Died'))\n",
    "df_by_int_cat2 = tr_data.groupby(['hospital_death','intubated_apache']).size().reset_index(name='Count')\n",
    "df_by_int_cat_pivot2 = pd.pivot_table(df_by_int_cat2,  values='Count',  columns=['hospital_death'],  index = \"intubated_apache\",\n",
    "                         aggfunc=np.sum,  fill_value=0)\n",
    "df_by_int_cat_pivot2.plot(kind=\"bar\",  edgecolor='black',color=colors, ax = axes[1])\n",
    "x_motor_labels =('No', 'Yes')\n",
    "axes[1].set_xticklabels(x_motor_labels)\n",
    "axes[1].set_xlabel(\"\")\n",
    "axes[1].set_title(\"Intubated\")\n",
    "axes[1].legend(('Survived', 'Died'))\n",
    "\n",
    "plt.show()"
   ]
  },
  {
   "cell_type": "markdown",
   "metadata": {},
   "source": [
    "#### Diabetes\n",
    "\n",
    "Whether the patient has been diagnosed with diabetes, either juvenile or adult onset, which requires medication."
   ]
  },
  {
   "cell_type": "code",
   "execution_count": 48,
   "metadata": {},
   "outputs": [
    {
     "data": {
      "image/png": "[encoded data removed]",
      "text/plain": [
       "<Figure size 1080x360 with 2 Axes>"
      ]
     },
     "metadata": {
      "needs_background": "light"
     },
     "output_type": "display_data"
    }
   ],
   "source": [
    "fig, axes = plt.subplots(1,2, figsize=(15, 5))\n",
    "colors=[\"tan\", \"lightcoral\"]\n",
    "df_by_int_cat1 = tr_data.groupby(['hospital_death','diabetes_mellitus']).size().reset_index(name='Count')\n",
    "df_by_int_cat_pivot1 = pd.pivot_table(df_by_int_cat1,  values='Count',  columns=['hospital_death'],  index = \"diabetes_mellitus\",\n",
    "                         aggfunc=np.sum,  fill_value=0)\n",
    "df_by_int_cat_pivot1.plot(kind=\"bar\",  edgecolor='black',color=colors, ax = axes[0])\n",
    "x_verble_labels = ('No', 'Yes')\n",
    "axes[0].set_xticklabels(x_verble_labels)\n",
    "axes[0].set_xlabel('')\n",
    "axes[0].set_title(\"Diabetes\")\n",
    "axes[0].legend(('Survived', 'Died'))\n",
    "\n",
    "\n",
    "plt.show()"
   ]
  },
  {
   "cell_type": "markdown",
   "metadata": {},
   "source": [
    "#### Gender\n",
    "\n",
    "The genotypical sex of the patient."
   ]
  },
  {
   "cell_type": "code",
   "execution_count": 49,
   "metadata": {},
   "outputs": [
    {
     "data": {
      "image/png": "[encoded data removed]",
      "text/plain": [
       "<Figure size 1080x360 with 2 Axes>"
      ]
     },
     "metadata": {
      "needs_background": "light"
     },
     "output_type": "display_data"
    }
   ],
   "source": [
    "fig, axes = plt.subplots(1,2, figsize=(15, 5))\n",
    "colors=[\"tan\", \"lightcoral\"]\n",
    "df_by_int_cat1 = tr_data.groupby(['hospital_death','gender']).size().reset_index(name='Count')\n",
    "df_by_int_cat_pivot1 = pd.pivot_table(df_by_int_cat1,  values='Count',  columns=['hospital_death'],  index = \"gender\",\n",
    "                         aggfunc=np.sum,  fill_value=0)\n",
    "df_by_int_cat_pivot1.plot(kind=\"bar\",  edgecolor='black',color=colors, ax = axes[0])\n",
    "x_verble_labels = ('Female','Male' )\n",
    "axes[0].set_xticklabels(x_verble_labels)\n",
    "axes[0].set_xlabel('')\n",
    "axes[0].set_title(\"Gender\")\n",
    "axes[0].legend(('Survived', 'Died', 'NA'))\n",
    "\n",
    "\n",
    "plt.show()"
   ]
  },
  {
   "cell_type": "markdown",
   "metadata": {},
   "source": [
    "#### Hospital and ICU Admit Source\n",
    "\n",
    "The location of the patient prior to being admitted to the hospital or ICU."
   ]
  },
  {
   "cell_type": "code",
   "execution_count": 50,
   "metadata": {},
   "outputs": [
    {
     "data": {
      "image/png": "[encoded data removed]",
      "text/plain": [
       "<Figure size 1080x360 with 2 Axes>"
      ]
     },
     "metadata": {
      "needs_background": "light"
     },
     "output_type": "display_data"
    }
   ],
   "source": [
    "fig, axes = plt.subplots(1,2, figsize=(15, 5))\n",
    "colors=[\"tan\", \"lightcoral\"]\n",
    "df_by_int_cat1 = tr_data.groupby(['hospital_death','hospital_admit_source']).size().reset_index(name='Count')\n",
    "df_by_int_cat_pivot1 = pd.pivot_table(df_by_int_cat1,  values='Count',  columns=['hospital_death'],  index = \"hospital_admit_source\",\n",
    "                         aggfunc=np.sum,  fill_value=0)\n",
    "df_by_int_cat_pivot1.plot(kind=\"bar\",  edgecolor='black',color=colors, ax = axes[0])\n",
    "axes[0].set_xlabel('')\n",
    "axes[0].set_title(\"Hospital Admit Source\")\n",
    "axes[0].legend(('Survived', 'Died'))\n",
    "\n",
    "df_by_int_cat1 = tr_data.groupby(['hospital_death','icu_admit_source']).size().reset_index(name='Count')\n",
    "df_by_int_cat_pivot1 = pd.pivot_table(df_by_int_cat1,  values='Count',  columns=['hospital_death'],  index = \"icu_admit_source\",\n",
    "                         aggfunc=np.sum,  fill_value=0)\n",
    "df_by_int_cat_pivot1.plot(kind=\"bar\",  edgecolor='black',color=colors, ax = axes[1])\n",
    "axes[1].set_xlabel('')\n",
    "axes[1].set_title(\"ICU Admit Source\")\n",
    "axes[1].legend(('Survived', 'Died'))\n",
    "\n",
    "\n",
    "plt.show()"
   ]
  },
  {
   "cell_type": "markdown",
   "metadata": {},
   "source": [
    "#### ICU Type and Ethnicity\n",
    "\n",
    "ICU Type: A classification which indicates the type of care the unit is capable of providing\n"
   ]
  },
  {
   "cell_type": "code",
   "execution_count": 51,
   "metadata": {},
   "outputs": [
    {
     "data": {
      "image/png": "[encoded data removed]",
      "text/plain": [
       "<Figure size 1080x360 with 2 Axes>"
      ]
     },
     "metadata": {
      "needs_background": "light"
     },
     "output_type": "display_data"
    }
   ],
   "source": [
    "fig, axes = plt.subplots(1,2, figsize=(15, 5))\n",
    "colors=[\"tan\", \"lightcoral\"]\n",
    "df_by_int_cat1 = tr_data.groupby(['hospital_death','icu_type']).size().reset_index(name='Count')\n",
    "df_by_int_cat_pivot1 = pd.pivot_table(df_by_int_cat1,  values='Count',  columns=['hospital_death'],  index = \"icu_type\",\n",
    "                         aggfunc=np.sum,  fill_value=0)\n",
    "df_by_int_cat_pivot1.plot(kind=\"bar\",  edgecolor='black',color=colors, ax = axes[0])\n",
    "axes[0].set_xlabel('')\n",
    "axes[0].set_title(\"ICU Type\")\n",
    "axes[0].legend(('Survived', 'Died'))\n",
    "\n",
    "df_by_int_cat1 = tr_data.groupby(['hospital_death','ethnicity']).size().reset_index(name='Count')\n",
    "df_by_int_cat_pivot1 = pd.pivot_table(df_by_int_cat1,  values='Count',  columns=['hospital_death'],  index = \"ethnicity\",\n",
    "                         aggfunc=np.sum,  fill_value=0)\n",
    "df_by_int_cat_pivot1.plot(kind=\"bar\",  edgecolor='black',color=colors, ax = axes[1])\n",
    "axes[1].set_xlabel('')\n",
    "axes[1].set_title(\"Ethnicity\")\n",
    "axes[1].legend(('Survived', 'Died'))\n",
    "\n",
    "\n",
    "plt.show()"
   ]
  },
  {
   "cell_type": "markdown",
   "metadata": {},
   "source": [
    "### Distribution our target variable\n",
    "\n",
    " Whether the patient died during this hospitalization"
   ]
  },
  {
   "cell_type": "code",
   "execution_count": 52,
   "metadata": {},
   "outputs": [
    {
     "data": {
      "image/png": "[encoded data removed]",
      "text/plain": [
       "<Figure size 432x288 with 1 Axes>"
      ]
     },
     "metadata": {
      "needs_background": "light"
     },
     "output_type": "display_data"
    }
   ],
   "source": [
    "\n",
    "tr_data.groupby(['hospital_death']).size().plot.bar()\n",
    "plt.show()"
   ]
  },
  {
   "cell_type": "code",
   "execution_count": 53,
   "metadata": {},
   "outputs": [
    {
     "data": {
      "text/plain": [
       "(91713, 138)"
      ]
     },
     "execution_count": 53,
     "metadata": {},
     "output_type": "execute_result"
    }
   ],
   "source": [
    "tr_data.shape"
   ]
  },
  {
   "cell_type": "markdown",
   "metadata": {},
   "source": [
    "### Prepare Data for Modeling\n",
    "\n",
    "#### Separate Target Variable"
   ]
  },
  {
   "cell_type": "code",
   "execution_count": 55,
   "metadata": {},
   "outputs": [
    {
     "data": {
      "text/plain": [
       "46145"
      ]
     },
     "execution_count": 55,
     "metadata": {},
     "output_type": "execute_result"
    }
   ],
   "source": [
    "target_label='hospital_death'\n",
    "X = tr_data.drop([target_label], axis=1)\n",
    "y = tr_data[target_label]\n",
    "\n",
    "X_ul = ul_data.drop([target_label], axis=1)\n",
    "    \n",
    "del tr_data, ul_data\n",
    "gc.collect()    "
   ]
  },
  {
   "cell_type": "markdown",
   "metadata": {},
   "source": [
    "#### Split Columns into two Lists\n",
    "\n",
    "String/category columns will be encoded and numeric columns will be scaled."
   ]
  },
  {
   "cell_type": "code",
   "execution_count": 56,
   "metadata": {},
   "outputs": [],
   "source": [
    "\n",
    "columns_to_encode = [col for col in X.columns if X[col].dtypes == 'object']\n",
    "columns_to_scale  = [col for col in X.columns if X[col].dtypes != 'object']"
   ]
  },
  {
   "cell_type": "markdown",
   "metadata": {},
   "source": [
    "#### Convert appropriate features to type object"
   ]
  },
  {
   "cell_type": "code",
   "execution_count": 57,
   "metadata": {},
   "outputs": [],
   "source": [
    "\n",
    "train_columns = [x for x in X.columns if x not in ['encounter_id','patient_id','hospital_death','readmission_status']]\n",
    "\n",
    "categorical_features = []\n",
    "for m in train_columns:\n",
    "    if(X[m].dtypes=='object'):\n",
    "        categorical_features.append(m)\n",
    "\n",
    "        \n",
    "categorical_index = [train_columns.index(x) for x in categorical_features]\n"
   ]
  },
  {
   "cell_type": "markdown",
   "metadata": {},
   "source": [
    "#### One Hot Encode or Label Encode the Data"
   ]
  },
  {
   "cell_type": "code",
   "execution_count": 58,
   "metadata": {},
   "outputs": [],
   "source": [
    "\n",
    "X_encoded_columns,X_ul_encoded_columns = categorical_encode (X, X_ul,  columns_to_encode)\n",
    "\n",
    "# Label Encoding\n",
    "# lbl = LabelEncoder()\n",
    "# for f in columns_to_encode:\n",
    "#     if X[f].dtype == 'object': \n",
    "#         lbl.fit(list(X[f].values) + list(X_ul[f].values))\n",
    "#         X[f] = lbl.transform(list(X[f].values))\n",
    "#         X_ul[f] = lbl.transform(list(X_ul[f].values))   "
   ]
  },
  {
   "cell_type": "markdown",
   "metadata": {},
   "source": [
    "#### Scale the Data\n",
    "\n",
    "The following will standardize the dataset (center to the mean and component wise scale to unit variance.) The alternative method would be to use a min max scaler."
   ]
  },
  {
   "cell_type": "code",
   "execution_count": 59,
   "metadata": {},
   "outputs": [],
   "source": [
    "# Fit to the training data only, not to the unlabled dataset\n",
    "scaler = StandardScaler()\n",
    "scaler.fit(X[columns_to_scale] )\n",
    "\n",
    "# Apply the scaler.\n",
    "X_scaled_columns   = pd.DataFrame(scaler.transform(X[columns_to_scale] ), columns = X[columns_to_scale].columns)\n",
    "X_ul_scaled_columns = pd.DataFrame(scaler.transform(X_ul[columns_to_scale] ),columns = X_ul[columns_to_scale].columns )"
   ]
  },
  {
   "cell_type": "code",
   "execution_count": 60,
   "metadata": {},
   "outputs": [],
   "source": [
    "#from sklearn.preprocessing import Normalizer\n",
    "#transformer = Normalizer().fit(X[columns_to_scale])\n",
    "\n",
    "#X_scaled_columns   = pd.DataFrame(transformer.transform(X[columns_to_scale] ), columns = X[columns_to_scale].columns)\n",
    "#X_ul_scaled_columns = pd.DataFrame(transformer.transform(X_ul[columns_to_scale] ),columns = X_ul[columns_to_scale].columns )"
   ]
  },
  {
   "cell_type": "markdown",
   "metadata": {},
   "source": [
    "#### Join Encoded Data with Scaled Data\n"
   ]
  },
  {
   "cell_type": "code",
   "execution_count": 61,
   "metadata": {},
   "outputs": [],
   "source": [
    "X= pd.concat([X_scaled_columns, X_encoded_columns], axis=1)\n",
    "X_ul= pd.concat([X_ul_scaled_columns, X_ul_encoded_columns], axis=1)\n",
    "columns= X.columns"
   ]
  },
  {
   "cell_type": "markdown",
   "metadata": {},
   "source": [
    "#### Split the Data into Train/Test\n",
    "\n",
    "We will split our newly vectorized data into 80% train and 20% test. Our random state value will ensure that the data is split the same way each time so that we can replicate results. "
   ]
  },
  {
   "cell_type": "code",
   "execution_count": 62,
   "metadata": {},
   "outputs": [],
   "source": [
    "x_train, x_test, y_train, y_test = train_test_split(X, y, test_size=0.20, random_state=22)"
   ]
  },
  {
   "cell_type": "markdown",
   "metadata": {},
   "source": [
    "### Train the LightGBM Model\n",
    "\n",
    "The parameters below were tweaked quie a bit before setteling on what is included below. "
   ]
  },
  {
   "cell_type": "code",
   "execution_count": 63,
   "metadata": {},
   "outputs": [
    {
     "name": "stdout",
     "output_type": "stream",
     "text": [
      "Training on fold 1\n",
      "Training until validation scores don't improve for 100 rounds\n",
      "[100]\ttraining's auc: 0.889254\tvalid_1's auc: 0.869568\n",
      "[200]\ttraining's auc: 0.89629\tvalid_1's auc: 0.876029\n",
      "[300]\ttraining's auc: 0.901362\tvalid_1's auc: 0.880332\n",
      "[400]\ttraining's auc: 0.905369\tvalid_1's auc: 0.883104\n",
      "[500]\ttraining's auc: 0.908903\tvalid_1's auc: 0.885631\n",
      "[600]\ttraining's auc: 0.911946\tvalid_1's auc: 0.88728\n",
      "[700]\ttraining's auc: 0.91477\tvalid_1's auc: 0.888689\n",
      "[800]\ttraining's auc: 0.917336\tvalid_1's auc: 0.889769\n",
      "[900]\ttraining's auc: 0.919645\tvalid_1's auc: 0.890665\n",
      "[1000]\ttraining's auc: 0.921829\tvalid_1's auc: 0.891484\n",
      "[1100]\ttraining's auc: 0.923804\tvalid_1's auc: 0.892084\n",
      "[1200]\ttraining's auc: 0.92573\tvalid_1's auc: 0.892644\n",
      "[1300]\ttraining's auc: 0.927502\tvalid_1's auc: 0.893189\n",
      "[1400]\ttraining's auc: 0.929104\tvalid_1's auc: 0.893618\n",
      "[1500]\ttraining's auc: 0.930735\tvalid_1's auc: 0.893886\n",
      "[1600]\ttraining's auc: 0.932291\tvalid_1's auc: 0.894223\n",
      "[1700]\ttraining's auc: 0.933715\tvalid_1's auc: 0.89447\n",
      "[1800]\ttraining's auc: 0.93514\tvalid_1's auc: 0.894683\n",
      "[1900]\ttraining's auc: 0.936498\tvalid_1's auc: 0.894987\n",
      "[2000]\ttraining's auc: 0.937812\tvalid_1's auc: 0.895199\n",
      "[2100]\ttraining's auc: 0.93904\tvalid_1's auc: 0.895458\n",
      "[2200]\ttraining's auc: 0.940288\tvalid_1's auc: 0.895555\n",
      "[2300]\ttraining's auc: 0.9415\tvalid_1's auc: 0.895764\n",
      "[2400]\ttraining's auc: 0.942721\tvalid_1's auc: 0.895908\n",
      "[2500]\ttraining's auc: 0.943887\tvalid_1's auc: 0.896094\n",
      "[2600]\ttraining's auc: 0.945026\tvalid_1's auc: 0.896263\n",
      "[2700]\ttraining's auc: 0.946152\tvalid_1's auc: 0.896375\n",
      "[2800]\ttraining's auc: 0.947212\tvalid_1's auc: 0.896569\n",
      "[2900]\ttraining's auc: 0.948271\tvalid_1's auc: 0.896733\n",
      "[3000]\ttraining's auc: 0.949223\tvalid_1's auc: 0.896942\n",
      "[3100]\ttraining's auc: 0.950287\tvalid_1's auc: 0.896966\n",
      "[3200]\ttraining's auc: 0.951291\tvalid_1's auc: 0.897132\n",
      "[3300]\ttraining's auc: 0.952265\tvalid_1's auc: 0.897135\n",
      "Early stopping, best iteration is:\n",
      "[3256]\ttraining's auc: 0.951823\tvalid_1's auc: 0.897176\n",
      "Training on fold 2\n",
      "Training until validation scores don't improve for 100 rounds\n",
      "[100]\ttraining's auc: 0.884845\tvalid_1's auc: 0.882622\n",
      "[200]\ttraining's auc: 0.892423\tvalid_1's auc: 0.888771\n",
      "[300]\ttraining's auc: 0.897765\tvalid_1's auc: 0.892335\n",
      "[400]\ttraining's auc: 0.90239\tvalid_1's auc: 0.895651\n",
      "[500]\ttraining's auc: 0.906221\tvalid_1's auc: 0.898077\n",
      "[600]\ttraining's auc: 0.90947\tvalid_1's auc: 0.900023\n",
      "[700]\ttraining's auc: 0.912223\tvalid_1's auc: 0.901305\n",
      "[800]\ttraining's auc: 0.914777\tvalid_1's auc: 0.902486\n",
      "[900]\ttraining's auc: 0.917148\tvalid_1's auc: 0.903411\n",
      "[1000]\ttraining's auc: 0.919377\tvalid_1's auc: 0.904289\n",
      "[1100]\ttraining's auc: 0.921388\tvalid_1's auc: 0.905063\n",
      "[1200]\ttraining's auc: 0.923348\tvalid_1's auc: 0.905516\n",
      "[1300]\ttraining's auc: 0.925186\tvalid_1's auc: 0.906028\n",
      "[1400]\ttraining's auc: 0.926853\tvalid_1's auc: 0.906555\n",
      "[1500]\ttraining's auc: 0.928514\tvalid_1's auc: 0.906986\n",
      "[1600]\ttraining's auc: 0.930001\tvalid_1's auc: 0.90737\n",
      "[1700]\ttraining's auc: 0.931541\tvalid_1's auc: 0.907674\n",
      "[1800]\ttraining's auc: 0.932979\tvalid_1's auc: 0.907959\n",
      "[1900]\ttraining's auc: 0.934402\tvalid_1's auc: 0.908215\n",
      "[2000]\ttraining's auc: 0.935756\tvalid_1's auc: 0.908446\n",
      "[2100]\ttraining's auc: 0.937177\tvalid_1's auc: 0.908762\n",
      "[2200]\ttraining's auc: 0.938516\tvalid_1's auc: 0.908893\n",
      "[2300]\ttraining's auc: 0.939762\tvalid_1's auc: 0.909075\n",
      "[2400]\ttraining's auc: 0.941035\tvalid_1's auc: 0.909296\n",
      "[2500]\ttraining's auc: 0.942199\tvalid_1's auc: 0.909378\n",
      "[2600]\ttraining's auc: 0.943393\tvalid_1's auc: 0.909429\n",
      "[2700]\ttraining's auc: 0.944579\tvalid_1's auc: 0.909558\n",
      "[2800]\ttraining's auc: 0.94565\tvalid_1's auc: 0.909626\n",
      "[2900]\ttraining's auc: 0.946777\tvalid_1's auc: 0.909715\n",
      "[3000]\ttraining's auc: 0.947899\tvalid_1's auc: 0.9098\n",
      "[3100]\ttraining's auc: 0.948919\tvalid_1's auc: 0.909849\n",
      "[3200]\ttraining's auc: 0.949975\tvalid_1's auc: 0.909892\n",
      "[3300]\ttraining's auc: 0.95098\tvalid_1's auc: 0.90995\n",
      "[3400]\ttraining's auc: 0.951994\tvalid_1's auc: 0.910031\n",
      "[3500]\ttraining's auc: 0.953026\tvalid_1's auc: 0.91016\n",
      "[3600]\ttraining's auc: 0.954031\tvalid_1's auc: 0.910102\n",
      "Early stopping, best iteration is:\n",
      "[3507]\ttraining's auc: 0.953103\tvalid_1's auc: 0.910184\n",
      "Training on fold 3\n",
      "Training until validation scores don't improve for 100 rounds\n",
      "[100]\ttraining's auc: 0.886525\tvalid_1's auc: 0.881123\n",
      "[200]\ttraining's auc: 0.893653\tvalid_1's auc: 0.888534\n",
      "[300]\ttraining's auc: 0.899232\tvalid_1's auc: 0.892777\n",
      "[400]\ttraining's auc: 0.903389\tvalid_1's auc: 0.895596\n",
      "[500]\ttraining's auc: 0.907048\tvalid_1's auc: 0.897896\n",
      "[600]\ttraining's auc: 0.910295\tvalid_1's auc: 0.89969\n",
      "[700]\ttraining's auc: 0.913149\tvalid_1's auc: 0.901064\n",
      "[800]\ttraining's auc: 0.915631\tvalid_1's auc: 0.902081\n",
      "[900]\ttraining's auc: 0.917846\tvalid_1's auc: 0.902951\n",
      "[1000]\ttraining's auc: 0.919941\tvalid_1's auc: 0.903584\n",
      "[1100]\ttraining's auc: 0.921986\tvalid_1's auc: 0.904163\n",
      "[1200]\ttraining's auc: 0.923808\tvalid_1's auc: 0.904718\n",
      "[1300]\ttraining's auc: 0.925568\tvalid_1's auc: 0.90526\n",
      "[1400]\ttraining's auc: 0.927262\tvalid_1's auc: 0.90571\n",
      "[1500]\ttraining's auc: 0.928886\tvalid_1's auc: 0.906118\n",
      "[1600]\ttraining's auc: 0.930454\tvalid_1's auc: 0.906507\n",
      "[1700]\ttraining's auc: 0.931939\tvalid_1's auc: 0.906736\n",
      "[1800]\ttraining's auc: 0.933355\tvalid_1's auc: 0.906946\n",
      "[1900]\ttraining's auc: 0.934766\tvalid_1's auc: 0.907107\n",
      "[2000]\ttraining's auc: 0.936056\tvalid_1's auc: 0.907261\n",
      "[2100]\ttraining's auc: 0.937269\tvalid_1's auc: 0.907365\n",
      "[2200]\ttraining's auc: 0.938593\tvalid_1's auc: 0.907543\n",
      "[2300]\ttraining's auc: 0.939786\tvalid_1's auc: 0.907697\n",
      "[2400]\ttraining's auc: 0.940976\tvalid_1's auc: 0.907853\n",
      "[2500]\ttraining's auc: 0.94213\tvalid_1's auc: 0.907939\n",
      "[2600]\ttraining's auc: 0.943274\tvalid_1's auc: 0.908054\n",
      "[2700]\ttraining's auc: 0.944415\tvalid_1's auc: 0.908204\n",
      "[2800]\ttraining's auc: 0.945552\tvalid_1's auc: 0.908397\n",
      "[2900]\ttraining's auc: 0.946577\tvalid_1's auc: 0.908497\n",
      "[3000]\ttraining's auc: 0.947622\tvalid_1's auc: 0.908566\n",
      "Early stopping, best iteration is:\n",
      "[2973]\ttraining's auc: 0.947358\tvalid_1's auc: 0.908591\n",
      "Training on fold 4\n",
      "Training until validation scores don't improve for 100 rounds\n",
      "[100]\ttraining's auc: 0.887204\tvalid_1's auc: 0.879292\n",
      "[200]\ttraining's auc: 0.894199\tvalid_1's auc: 0.884083\n",
      "[300]\ttraining's auc: 0.89984\tvalid_1's auc: 0.887772\n",
      "[400]\ttraining's auc: 0.903894\tvalid_1's auc: 0.890223\n",
      "[500]\ttraining's auc: 0.907466\tvalid_1's auc: 0.892292\n",
      "[600]\ttraining's auc: 0.910701\tvalid_1's auc: 0.893765\n",
      "[700]\ttraining's auc: 0.913444\tvalid_1's auc: 0.894826\n",
      "[800]\ttraining's auc: 0.915998\tvalid_1's auc: 0.895659\n",
      "[900]\ttraining's auc: 0.918496\tvalid_1's auc: 0.896472\n",
      "[1000]\ttraining's auc: 0.920638\tvalid_1's auc: 0.897157\n",
      "[1100]\ttraining's auc: 0.922787\tvalid_1's auc: 0.897841\n",
      "[1200]\ttraining's auc: 0.924703\tvalid_1's auc: 0.898361\n",
      "[1300]\ttraining's auc: 0.926458\tvalid_1's auc: 0.898873\n",
      "[1400]\ttraining's auc: 0.928197\tvalid_1's auc: 0.899226\n",
      "[1500]\ttraining's auc: 0.929796\tvalid_1's auc: 0.899495\n",
      "[1600]\ttraining's auc: 0.931319\tvalid_1's auc: 0.899867\n",
      "[1700]\ttraining's auc: 0.932814\tvalid_1's auc: 0.900206\n",
      "[1800]\ttraining's auc: 0.934285\tvalid_1's auc: 0.900421\n",
      "[1900]\ttraining's auc: 0.935647\tvalid_1's auc: 0.900632\n",
      "[2000]\ttraining's auc: 0.937033\tvalid_1's auc: 0.900767\n",
      "[2100]\ttraining's auc: 0.938368\tvalid_1's auc: 0.900954\n",
      "[2200]\ttraining's auc: 0.939653\tvalid_1's auc: 0.901131\n",
      "[2300]\ttraining's auc: 0.940804\tvalid_1's auc: 0.901266\n",
      "[2400]\ttraining's auc: 0.942066\tvalid_1's auc: 0.901397\n",
      "[2500]\ttraining's auc: 0.943227\tvalid_1's auc: 0.901484\n",
      "[2600]\ttraining's auc: 0.944438\tvalid_1's auc: 0.901579\n",
      "[2700]\ttraining's auc: 0.945609\tvalid_1's auc: 0.901711\n",
      "[2800]\ttraining's auc: 0.946716\tvalid_1's auc: 0.901853\n",
      "[2900]\ttraining's auc: 0.94776\tvalid_1's auc: 0.901973\n",
      "[3000]\ttraining's auc: 0.948754\tvalid_1's auc: 0.901994\n",
      "[3100]\ttraining's auc: 0.949797\tvalid_1's auc: 0.902056\n",
      "[3200]\ttraining's auc: 0.950779\tvalid_1's auc: 0.90208\n",
      "Early stopping, best iteration is:\n",
      "[3144]\ttraining's auc: 0.950216\tvalid_1's auc: 0.902098\n",
      "Training on fold 5\n",
      "Training until validation scores don't improve for 100 rounds\n",
      "[100]\ttraining's auc: 0.884846\tvalid_1's auc: 0.885057\n",
      "[200]\ttraining's auc: 0.891865\tvalid_1's auc: 0.890544\n",
      "[300]\ttraining's auc: 0.897442\tvalid_1's auc: 0.89482\n",
      "[400]\ttraining's auc: 0.902543\tvalid_1's auc: 0.898184\n",
      "[500]\ttraining's auc: 0.906305\tvalid_1's auc: 0.90022\n",
      "[600]\ttraining's auc: 0.909574\tvalid_1's auc: 0.901528\n",
      "[700]\ttraining's auc: 0.912609\tvalid_1's auc: 0.902831\n",
      "[800]\ttraining's auc: 0.915328\tvalid_1's auc: 0.903715\n",
      "[900]\ttraining's auc: 0.917664\tvalid_1's auc: 0.904393\n",
      "[1000]\ttraining's auc: 0.91994\tvalid_1's auc: 0.904949\n",
      "[1100]\ttraining's auc: 0.921987\tvalid_1's auc: 0.905493\n",
      "[1200]\ttraining's auc: 0.923849\tvalid_1's auc: 0.905924\n",
      "[1300]\ttraining's auc: 0.925555\tvalid_1's auc: 0.906374\n",
      "[1400]\ttraining's auc: 0.927343\tvalid_1's auc: 0.906749\n",
      "[1500]\ttraining's auc: 0.92901\tvalid_1's auc: 0.907013\n",
      "[1600]\ttraining's auc: 0.930564\tvalid_1's auc: 0.907365\n",
      "[1700]\ttraining's auc: 0.932049\tvalid_1's auc: 0.907627\n",
      "[1800]\ttraining's auc: 0.933532\tvalid_1's auc: 0.907846\n",
      "[1900]\ttraining's auc: 0.934976\tvalid_1's auc: 0.9081\n",
      "[2000]\ttraining's auc: 0.93641\tvalid_1's auc: 0.908287\n",
      "[2100]\ttraining's auc: 0.937754\tvalid_1's auc: 0.908444\n",
      "[2200]\ttraining's auc: 0.939009\tvalid_1's auc: 0.908557\n",
      "[2300]\ttraining's auc: 0.94029\tvalid_1's auc: 0.908712\n",
      "[2400]\ttraining's auc: 0.941449\tvalid_1's auc: 0.908885\n",
      "[2500]\ttraining's auc: 0.942633\tvalid_1's auc: 0.908848\n",
      "[2600]\ttraining's auc: 0.943873\tvalid_1's auc: 0.908949\n",
      "[2700]\ttraining's auc: 0.945053\tvalid_1's auc: 0.909033\n",
      "[2800]\ttraining's auc: 0.946175\tvalid_1's auc: 0.909126\n",
      "[2900]\ttraining's auc: 0.947274\tvalid_1's auc: 0.909182\n",
      "Early stopping, best iteration is:\n",
      "[2891]\ttraining's auc: 0.947178\tvalid_1's auc: 0.909196\n",
      "\n",
      "Mean AUC = 0.9054489242917706\n"
     ]
    }
   ],
   "source": [
    "Perform_LGBM=True\n",
    "if Perform_LGBM:\n",
    "    params_new = {'task': 'train',\n",
    "         'boosting': 'gbdt',\n",
    "         'objective':'binary',\n",
    "         'metric': 'auc',\n",
    "         'num_leaves': 15,\n",
    "         'min_data_in_leaf': 90,\n",
    "         'learning_rate': 0.01,\n",
    "         'max_depth': 5,\n",
    "         'feature_fraction': 0.1,\n",
    "         'bagging_freq': 1,\n",
    "         'bagging_fraction': 0.75,\n",
    "         'use_missing': True,\n",
    "         'nthread': 4\n",
    "        }\n",
    "    \n",
    "    NFOLDS = 5\n",
    "    folds = KFold(n_splits=NFOLDS)\n",
    "\n",
    "    X=  pd.DataFrame(x_train, columns=columns)\n",
    "    y=  pd.Series(y_train)\n",
    "\n",
    "    x_test=  pd.DataFrame(x_test, columns=columns)\n",
    "    y_test=  pd.Series(y_test)\n",
    "\n",
    "    splits = folds.split(X, y)\n",
    "    #y_preds = np.zeros(X_test.shape[0])\n",
    "    y_oof = np.zeros(X.shape[0])\n",
    "    score = 0\n",
    "    aucs = list()\n",
    "    feature_importances = pd.DataFrame()\n",
    "    feature_importances['feature'] = columns\n",
    "\n",
    "    sm = SMOTE(random_state=42)\n",
    "    \n",
    "    #Using Cross Validation, Build LGBM Classifiers:\n",
    "    for fold_n, (train_index, valid_index) in enumerate(splits):\n",
    "        print('Training on fold {}'.format(fold_n + 1))\n",
    "    \n",
    "        X_train, X_valid = X[columns].iloc[train_index], X[columns].iloc[valid_index]\n",
    "        Y_train, Y_valid = y.iloc[train_index], y.iloc[valid_index]\n",
    "    \n",
    "    \n",
    "        #X_bal_train, Y_bal_train = sm.fit_sample(X_train, Y_train)\n",
    "        X_bal_train=X_train\n",
    "        Y_bal_train=Y_train\n",
    "        \n",
    "        dtrain = lgb.Dataset(X_bal_train, label=Y_bal_train)\n",
    "        dvalid = lgb.Dataset(X_valid, label=Y_valid)\n",
    "\n",
    "        clf = lgb.train(params_new, dtrain, num_boost_round=7000, valid_sets = [dtrain, dvalid], verbose_eval=100, early_stopping_rounds=100)\n",
    "        \n",
    "        \n",
    "        # feature_importances[f'fold_{fold_n + 1}'] = clf.feature_importance()\n",
    "        aucs.append(clf.best_score['valid_1']['auc'])\n",
    "    \n",
    "        del X_train,X_bal_train, X_valid, Y_train,Y_bal_train, Y_valid\n",
    "        gc.collect()\n",
    "        \n",
    "    # clf right now is the last model, trained with 80% of data and validated with 20%\n",
    "    print(f\"\\nMean AUC = {np.mean(aucs)}\")\n",
    "    best_iter = clf.best_iteration\n",
    "    #X_bal, Y_bal = sm.fit_sample(X, y)\n",
    "    X_bal_train=X\n",
    "    Y_bal_train=y\n",
    "    "
   ]
  },
  {
   "cell_type": "code",
   "execution_count": 64,
   "metadata": {},
   "outputs": [
    {
     "name": "stdout",
     "output_type": "stream",
     "text": [
      "Confusion Matrix\n",
      "[[16584   182]\n",
      " [ 1020   557]]\n",
      "              precision    recall  f1-score   support\n",
      "\n",
      "           0       0.94      0.99      0.97     16766\n",
      "           1       0.75      0.35      0.48      1577\n",
      "\n",
      "    accuracy                           0.93     18343\n",
      "   macro avg       0.85      0.67      0.72     18343\n",
      "weighted avg       0.93      0.93      0.92     18343\n",
      "\n",
      "Accuracy Score 0.9344709153355504\n"
     ]
    },
    {
     "data": {
      "image/png": "[encoded data removed]",
      "text/plain": [
       "<Figure size 432x288 with 1 Axes>"
      ]
     },
     "metadata": {
      "needs_background": "light"
     },
     "output_type": "display_data"
    },
    {
     "name": "stdout",
     "output_type": "stream",
     "text": [
      "AUC 0.9125334502875231\n"
     ]
    }
   ],
   "source": [
    "    lgb_clf = lgb.LGBMClassifier(**params_new, num_boost_round=best_iter)\n",
    "    lgb_clf.fit(X_bal_train, Y_bal_train)\n",
    "    predict_evaluate(x_test, y_test, lgb_clf) "
   ]
  },
  {
   "cell_type": "markdown",
   "metadata": {},
   "source": [
    "### Create file for submission"
   ]
  },
  {
   "cell_type": "code",
   "execution_count": 69,
   "metadata": {},
   "outputs": [],
   "source": [
    "yhat_ul = lgb_clf.predict_proba(X_ul)\n",
    "submit_data = pd.read_csv(\"solution_template.csv\")\n",
    "submit_data['hospital_death']=yhat_ul[:, 1]\n",
    "submit_data[[\"encounter_id\", \"hospital_death\"]].to_csv(\"submission.csv\",index=False)\n"
   ]
  },
  {
   "cell_type": "markdown",
   "metadata": {},
   "source": [
    "### Score and Summary"
   ]
  },
  {
   "cell_type": "markdown",
   "metadata": {},
   "source": [
    "#### Kaggle generated AUC Score \n",
    "\n",
    "When I upload probability predictions for the unlabeled data (the most recently created submission.csv file to Kaggle), the AUC scores come back as the follows;\n",
    "\n",
    "Private: 0.90487 | Public: 0.90828\n",
    "\n",
    "This score would have put us at the 168 position (out of 951) on the public leaderboard.\n",
    "Unfortunately, the competition closed a week ago and the best scores I was able to generate before the closing was the following, (which put us at 244 out of 951).\n",
    "\n",
    "Private: 0.90443 |Public: 0.90628\n",
    "\n",
    "<b>Summary:</b>\n",
    "As can be seen from the other companion notebook to this one (called \"WiSD Kaggle Condensed Stacked\" (Coming Soon) - where I train many models and then attempt to stack or blend them to improve upon this score), I was (surprisingly) not able to improve upon the lone LightGBM model. Ultimately I did achieve an AUC on my test data that was an improvement on this model, but, because of some overfitting that I could not find, the resulting AUC scores on the unlabeled data (according to Kaggle) was not as high as the one from this model.\n",
    "\n",
    "My plan is to compare other examples of model stacking and/or blending to see if there is an error in my code that led to overfitting. If I do find this, I will modify my code and add notes to the notebook named \"WiSD Kaggle Condensed Stacked\"."
   ]
  }
 ],
 "metadata": {
  "anaconda-cloud": {},
  "kernelspec": {
   "display_name": "Python 3",
   "language": "python",
   "name": "python3"
  },
  "language_info": {
   "codemirror_mode": {
    "name": "ipython",
    "version": 3
   },
   "file_extension": ".py",
   "mimetype": "text/x-python",
   "name": "python",
   "nbconvert_exporter": "python",
   "pygments_lexer": "ipython3",
   "version": "3.6.8"
  }
 },
 "nbformat": 4,
 "nbformat_minor": 1
}
