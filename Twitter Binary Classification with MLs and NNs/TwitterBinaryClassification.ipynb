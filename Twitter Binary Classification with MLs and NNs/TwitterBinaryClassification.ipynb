{
 "cells": [
  {
   "cell_type": "markdown",
   "metadata": {},
   "source": [
    "# Binary Classification of User's Political Affiliation Based on Tweets\n",
    "\n",
    "## Rebecca Stewart\n",
    "\n"
   ]
  },
  {
   "cell_type": "markdown",
   "metadata": {},
   "source": [
    "### Overview\n",
    "\n",
    "In this project, I will explore different NLP techniques and ML models to see what kind of success I can have classifying the political affiliation (Democrat or Republican) of twitter users based on their tweets from the 2019 \"Gang of Eight\". This group of 8 lawmakers, who are considered the leaders of the US congress, consist of 4 democrats and 4 republicans. I chose to analyze the tweets from this group of politicians since it is perfectly clear which political party each is affiliated with, making it easy to label my target variable.\n",
    "\n",
    "### Objective\n",
    "1.\tGain experience with the Twitter API, Tweepy, where I will pull various tweets based on username.\n",
    "2.\tLearn the ins and outs of text preprocessing.\n",
    "3.\tExplore various vectorization techniques, like Bag-of-words, TFIDF, GloVe and Word2Vec.\n",
    "4.\tExperiment with other NLP techniques like N-Grams, POS (Part-Of-Speech) tagging and polarity scores for sentiment.\n",
    "5.\tBuild various machine learning classification models, along with at least one neural network and compare performance metrics.\n"
   ]
  },
  {
   "cell_type": "markdown",
   "metadata": {},
   "source": [
    "### Import Libraries "
   ]
  },
  {
   "cell_type": "code",
   "execution_count": 48,
   "metadata": {},
   "outputs": [],
   "source": [
    "import datetime as dt\n",
    "import pandas as pd\n",
    "import numpy as np\n",
    "import matplotlib as mp\n",
    "import matplotlib.pyplot as plt\n",
    "import re\n",
    "import twitter_credentials\n",
    "import string\n",
    "import demoji\n",
    "\n",
    "import tweepy\n",
    "from tweepy import OAuthHandler\n",
    "from tweepy import API\n",
    "from tweepy import Cursor\n",
    "\n",
    "import nltk\n",
    "from nltk.corpus import words\n",
    "from nltk.corpus import stopwords\n",
    "from nltk import bigrams \n",
    "from nltk import pos_tag\n",
    "from nltk.corpus import wordnet\n",
    "from nltk.sentiment.vader import SentimentIntensityAnalyzer\n",
    "\n",
    "from tqdm import tqdm_notebook as tqdm\n",
    "import spacy\n",
    "\n",
    "from tensorflow import keras\n",
    "from tensorflow.keras.preprocessing.text import Tokenizer\n",
    "from tensorflow.keras.preprocessing.text import text_to_word_sequence\n",
    "from tensorflow.keras.models import Sequential\n",
    "from tensorflow.keras.layers import Dense, Dropout, Activation, Embedding, LSTM, Conv1D, MaxPooling1D, Flatten\n",
    "from tensorflow.keras import layers\n",
    "from tensorflow.keras.preprocessing.sequence import pad_sequences\n",
    "\n",
    "from sklearn.feature_extraction.text import TfidfVectorizer\n",
    "from sklearn.feature_extraction.text import CountVectorizer\n",
    "from sklearn.model_selection import train_test_split\n",
    "from sklearn.ensemble import RandomForestClassifier\n",
    "from sklearn.metrics import classification_report, confusion_matrix, accuracy_score\n",
    "from sklearn.metrics import roc_curve, roc_auc_score"
   ]
  },
  {
   "cell_type": "markdown",
   "metadata": {},
   "source": [
    "### Initiate lists/objects"
   ]
  },
  {
   "cell_type": "code",
   "execution_count": 18,
   "metadata": {},
   "outputs": [],
   "source": [
    "lemmatizer = nltk.stem.wordnet.WordNetLemmatizer()\n",
    "punctuation = string.punctuation+ \"’\"+ \"‘\" + \"•\" + \"–\"+ \"“\" + \"”\"\n",
    "word_tokenizer = nltk.tokenize.regexp.WordPunctTokenizer()\n",
    "# demoji.download_codes()\n",
    "sid = SentimentIntensityAnalyzer()\n",
    "stop_words = set(stopwords.words(\"english\"))"
   ]
  },
  {
   "cell_type": "markdown",
   "metadata": {},
   "source": [
    "### Build the TwitterClient object \n",
    "\n",
    "The following python object is used to pull tweets from twitter. The last four functions use tweepy's Cursor method to pull tweets based on user, search word, friend list and/or number of tweets. These functions use a progress bar to show progress \n",
    "\n",
    "Although I only plan to use the <b>get_user_tweets</b> method for this project (since I will only be pulling tweets based on specific users) - I do plan to use the other methods in future projects, so I will leave these methods in the following class definition for completeness, and so that I can re-use this code in the future."
   ]
  },
  {
   "cell_type": "code",
   "execution_count": 19,
   "metadata": {},
   "outputs": [],
   "source": [
    "#### TWITTER CLIENT #####\n",
    "\n",
    "class TwitterClient():\n",
    "    \"\"\" The initialization of this TwitterClient object will use TwitterAccess to authenticate with the Twitter API\n",
    "    The remaining methods use Tweepy's Cursor method to pull tweets from Twitter  \n",
    "    \"\"\"\n",
    "    def __init__(self, twitter_user=None):\n",
    "        \"\"\" Creating an instance of this object allows one to optionally specify a specific twitter_user, but will default to None)\n",
    "        After authentication, the twitter_client and twitter_user attributes are set  \n",
    "        \"\"\"\n",
    "        self.auth = TwitterAccess().authenticate()\n",
    "        self.twitter_client=API(self.auth)\n",
    "        self.twitter_user=twitter_user\n",
    "    \n",
    "    def get_twitter_client(self):\n",
    "        \"\"\" Returns twitter_client (API object) \n",
    "        \"\"\"\n",
    "        return self.twitter_client\n",
    "    \n",
    "    def get_topic_tweets(self,search_words, num_tweets):\n",
    "        \"\"\" Returns tweets based on search words and number of tweets \n",
    "        \"\"\"\n",
    "        tweets=[]\n",
    "        try:\n",
    "            \n",
    "            tweetsObj = Cursor(self.twitter_client.search,  q=search_words+\"  -filter:retweets  -filter:replies\", tweet_mode='extended').items(num_tweets)\n",
    "            pBar = tqdm(tweetsObj, ascii=True, total=num_tweets, desc=\"Getting Tweets!\")\n",
    "            for cnt, tweet in enumerate(pBar):\n",
    "                pBar.update(1)\n",
    "                tweets.append(tweet)\n",
    "        except tweepy.error.TweepError as et:\n",
    "            print(et)\n",
    "        except Exception as e:\n",
    "            print(e)        \n",
    "        return tweets\n",
    "    \n",
    "    def get_user_tweets(self,num_tweets):\n",
    "        \"\"\" Returns tweets based on specific user and number of tweets \n",
    "        \"\"\"\n",
    "        tweets=[]\n",
    "        try:\n",
    "            tweetsObj = Cursor(self.twitter_client.user_timeline, q=\" -filter:retweets\", id=self.twitter_user, tweet_mode='extended').items(num_tweets)\n",
    "            #for tweet in Cursor(self.twitter_client.user_timeline, id=self.twitter_user).items(num_tweets):\n",
    "            pBar = tqdm(tweetsObj, ascii=True, total=num_tweets, desc=\"Getting Tweets!\")\n",
    "            for cnt, tweet in enumerate(pBar):\n",
    "                pBar.update(1)\n",
    "                tweets.append(tweet)\n",
    "        \n",
    "        except tweepy.error.TweepError as et:\n",
    "            print(et)\n",
    "        except Exception as e:\n",
    "            print(e) \n",
    "        return tweets\n",
    "    \n",
    "    def get_friend_list(self, num_friends):\n",
    "        \"\"\" Returns friend list of specific user, limited by number of friends \n",
    "        \"\"\"\n",
    "        friend_list=[]\n",
    "        try:\n",
    "            tweetsObj = Cursor(self.twitter_client.friends, id=self.twitter_user, tweet_mode='extended').items(num_friends)\n",
    "            \n",
    "            pBar = tqdm(tweetsObj, ascii=True, total=num_friends, desc=\"Getting Friends!\")\n",
    "            for cnt, friend in enumerate(pBar):\n",
    "                pBar.update(1)\n",
    "                friend_list.append(friend)\n",
    "            \n",
    "        except tweepy.error.TweepError as et:\n",
    "            print(et)\n",
    "        except Exception as e:\n",
    "            print(e)         \n",
    "        return friend_list\n",
    "    \n",
    "    def get_home_timeline_tweets(self, num_tweets):\n",
    "        \"\"\" Returns home timeline tweets, limited by number of tweets \n",
    "        \"\"\"\n",
    "        home_timeline_tweets=[]\n",
    "        try:\n",
    "            tweetsObj= Cursor(self.twitter_client.home_timeline, id=self.twitter_user, tweet_mode='extended').items(num_tweets)\n",
    "            pBar = tqdm(tweetsObj, ascii=True, total=num_tweets, desc=\"Getting Tweets!\")\n",
    "            for cnt, tweet in enumerate(pBar):\n",
    "                pBar.update(1)\n",
    "                home_timeline_tweets.append(tweet)\n",
    "                \n",
    "        except tweepy.error.TweepError as et:\n",
    "            print(et)\n",
    "        except Exception as e:\n",
    "            print(e) \n",
    "        return home_timeline_tweets\n",
    "            "
   ]
  },
  {
   "cell_type": "markdown",
   "metadata": {},
   "source": [
    "### Build the TwitterAccess object \n",
    "\n",
    "This python object only has one objective, and that is to get an authorization from Tweepy using identifying and secret API information. Make sure that a text document, titled \"twitter_credentials.py\" is saved in the same location as this project and specifies information for these four variables: ACCESS_TOKEN, ACCESS_TOKEN_SECRET, CONSUMER_KEY, and CONSUMER_SECRET.\n",
    "\n",
    "Information about how to obtain twitter credentials can be found on <a href=\"https://developer.twitter.com/en/docs/basics/authentication/guides/access-tokens\">developer.twitter.com</a>\n"
   ]
  },
  {
   "cell_type": "code",
   "execution_count": 20,
   "metadata": {},
   "outputs": [],
   "source": [
    "#### TWITTER AUTHENTICATER ####\n",
    "\n",
    "class TwitterAccess():\n",
    "    \"\"\" The initialization of this TwitterAccess object will use OAuthHandler to authenticate with the Twitter API\n",
    "    Make sure the four twitter credentials are stored locally in a file called twitter_credentials.py\n",
    "    \"\"\"\n",
    "    def authenticate(self):\n",
    "        try: \n",
    "            auth = OAuthHandler(twitter_credentials.CONSUMER_KEY, twitter_credentials.CONSUMER_SECRET)\n",
    "            auth.set_access_token(twitter_credentials.ACCESS_TOKEN, twitter_credentials.ACCESS_TOKEN_SECRET)\n",
    "        except tweepy.error.TweepError as e:\n",
    "            print(f\"Error: Twitter Authentication Failed - \\n{str(e)}\") \n",
    "        return auth"
   ]
  },
  {
   "cell_type": "markdown",
   "metadata": {},
   "source": [
    "### Build the TweetStorage object \n",
    "\n",
    "This python object deals with converting tweet data into a dataframe, either from tweet data recently pulled from the Twitter API or from a local text file.\n"
   ]
  },
  {
   "cell_type": "code",
   "execution_count": 21,
   "metadata": {},
   "outputs": [],
   "source": [
    "class TweetStorage():\n",
    "    \"\"\" This TweetStorage object has three methods, one to convert raw tweet data (recently pulled from the Twitter) into a\n",
    "    dataframe, one to pull previously saved tweeter data from a local csv file, convert it to a dataframe. Both of these \n",
    "    methods return this dataframe. The final method saves a dataframe to a local csv file.\n",
    "    \"\"\"\n",
    "   \n",
    "    def tweets_to_data_frame(self, tweets):\n",
    "        \n",
    "        try: \n",
    "            df = pd.DataFrame(data=[tweet.full_text for tweet in tweets], columns=['tweets'])\n",
    "            df['id']=np.array([tweet.id for tweet in tweets])\n",
    "            df['len']=np.array([len(tweet.full_text) for tweet in tweets])\n",
    "            df['full_text']=np.array([tweet.full_text for tweet in tweets])\n",
    "            df['date']=np.array([tweet.created_at for tweet in tweets])\n",
    "            df['author_name']=np.array([tweet.user.screen_name for tweet in tweets])\n",
    "            df['likes']=np.array([tweet.favorite_count for tweet in tweets])\n",
    "            df['retweets']=np.array([tweet.retweet_count for tweet in tweets])\n",
    "            df['in_reply_to_status_id']=np.array([tweet.in_reply_to_user_id for tweet in tweets])\n",
    "            \n",
    "            return df\n",
    "        except tweepy.TweepError as e:\n",
    "            print(f\"Error: Saving tweets to dataframe failed - \\n{str(e)}\") \n",
    "            \n",
    "      \n",
    "    def tweets_from_csv_to_data_frame(self, file_name):\n",
    "        \n",
    "        try: \n",
    "            tdf = pd.read_csv(file_name, index=False, sep = ',', header=0)\n",
    "        except error as e:\n",
    "            print(f\"Error: Loading tweets from file failed - \\n{str(e)}\") \n",
    "        return tdf\n",
    "    \n",
    "    def tweets_from_data_frame_to_csv(self, df, file_name):\n",
    "        \n",
    "        try: \n",
    "            df.to_csv(file_name, index=False, encoding='utf-8')    \n",
    "            \n",
    "        except error as e:\n",
    "            print(f\"Error: Saveing tweets to file failed - \\n{str(e)}\") \n",
    "        "
   ]
  },
  {
   "cell_type": "markdown",
   "metadata": {},
   "source": [
    "\n",
    "### Helper Functions\n"
   ]
  },
  {
   "cell_type": "code",
   "execution_count": 52,
   "metadata": {},
   "outputs": [],
   "source": [
    "def plot_history(history):\n",
    "    acc = history.history['acc']\n",
    "    val_acc = history.history['val_acc']\n",
    "    loss = history.history['loss']\n",
    "    val_loss = history.history['val_loss']\n",
    "    x = range(1, len(acc) + 1)\n",
    "\n",
    "    plt.figure(figsize=(12, 5))\n",
    "    plt.subplot(1, 2, 1)\n",
    "    plt.plot(x, acc, 'b', label='Training acc')\n",
    "    plt.plot(x, val_acc, 'r', label='Validation acc')\n",
    "    plt.title('Training and validation accuracy')\n",
    "    plt.legend()\n",
    "    plt.subplot(1, 2, 2)\n",
    "    plt.plot(x, loss, 'b', label='Training loss')\n",
    "    plt.plot(x, val_loss, 'r', label='Validation loss')\n",
    "    plt.title('Training and validation loss')\n",
    "    plt.legend()\n",
    "\n",
    "def fit_predict_evaluate(X_train, X_test, y_train, y_test, classifier):\n",
    "    \n",
    "    classifier.fit(X_train, y_train) \n",
    "    y_pred = classifier.predict(X_test)\n",
    "    yhat = classifier.predict_proba(X_test)\n",
    "    pos_probs = yhat[:, 1]\n",
    "    print(\"Confusion Matrix\")\n",
    "    print(confusion_matrix(y_test,y_pred))\n",
    "    print(classification_report(y_test,y_pred))\n",
    "    fpr, tpr, thresholds = roc_curve(y_test, pos_probs)\n",
    "    roc_auc = roc_auc_score(y_test, pos_probs)\n",
    "    print(\"AUC Score\")\n",
    "    print(roc_auc)\n",
    "    \n",
    "    print(\"Accuracy Score\")\n",
    "    acc_score=accuracy_score(y_test, y_pred)\n",
    "    print(acc_score)\n",
    "    return acc_score\n",
    "\n",
    "    \n",
    "# Function to return one of 5 possible types for the POS tag \n",
    "def get_tag_type(tag):\n",
    "    if tag.startswith('J'):\n",
    "        return wordnet.ADJ\n",
    "    elif tag.startswith('V'):\n",
    "        return wordnet.VERB\n",
    "    elif tag.startswith('N'):\n",
    "        return wordnet.NOUN\n",
    "    elif tag.startswith('R'):\n",
    "        return wordnet.ADV\n",
    "    else:\n",
    "        return wordnet.NOUN\n",
    "    \n",
    "# Function to remove stop words as defined by nltk - I am keeping this separate from the CleanTweets\n",
    "# function because I may not always want to remove stopwords, depending on the type of model I am creating\n",
    "def remove_stop_words(text):\n",
    "    tokenized_text =word_tokenizer.tokenize(text)  \n",
    "    tokenized_text = [w for w in tokenized_text if not w in stop_words and len(w) >= 3]\n",
    "    return \" \".join(tokenized_text)\n",
    "\n",
    "def create_emb_matrix(file, word_index, emb_dim):\n",
    "    vocab_size = len(word_index) + 1  # Adding again 1 because of reserved 0 index\n",
    "    emb_matrix = np.zeros((vocab_size, emb_dim))\n",
    "\n",
    "    with open(file, encoding=\"utf8\") as f:\n",
    "        for line in f:\n",
    "            word, *vector = line.split()\n",
    "            if word in word_index:\n",
    "                idx = word_index[word] \n",
    "                emb_matrix[idx] = np.array(\n",
    "                    vector, dtype=np.float32)[:emb_dim]\n",
    "\n",
    "    return emb_matrix\n",
    "\n",
    "def is_democrat(user):\n",
    "    democrats = [\"RepAdamSchiff\",\"MarkWarner\",\"SpeakerPelosi\",\"SenSchumer\"]\n",
    "    return user in democrats"
   ]
  },
  {
   "cell_type": "markdown",
   "metadata": {},
   "source": [
    "### Function to Clean/Pre-process Tweets\n",
    "\n",
    "Although much of what the following function does can also be done with various python NLP libraries in one clean swoop, I chose to perform much of this pre-processing manually so that I could inspect the text at each stage of the cleaning process. I used the print_tweet_text variable to control if the text would be displayed or not. "
   ]
  },
  {
   "cell_type": "code",
   "execution_count": 23,
   "metadata": {},
   "outputs": [],
   "source": [
    "#Function to preprocess a single tweet\n",
    "def CleanTweets(tweet_dirty):\n",
    "    \"\"\"\n",
    "    This function cleans/pre-processes tweets by doing several things\n",
    "    Remove the following: Screen Names, URL's Emojis, Hashtags, Punctuation, Numbers\n",
    "    Convert from a string to a list of lowercase tokens that have been lemmatized\n",
    "    \"\"\"\n",
    "    print_tweet_text = False\n",
    "\n",
    "    # SCREEN NAMES - Use regular expression to remove user screen names, which start with @ symbol\n",
    "    tweet_in_process = re.sub(\"@\\w+\",\"\",tweet_dirty).strip()\n",
    "    if print_tweet_text: print(tweet_in_process)\n",
    "    \n",
    "    \n",
    "    # URLs - Use regular expression to remove URLs\n",
    "    tweet_in_process = re.sub(\"http\\S+\",\"\",tweet_in_process).strip()\n",
    "    if print_tweet_text: print(tweet_in_process)\n",
    "    \n",
    "    # EMOJIS - Use the demoji ovject to replace emojis with empty strings\n",
    "    tweet_in_process=demoji.replace(tweet_in_process)\n",
    "    if print_tweet_text: print(tweet_in_process)\n",
    "        \n",
    "    \n",
    "    # CHANGE CASE - Change the case of all text to lower case \n",
    "    tweet_in_process = tweet_in_process.lower()\n",
    "    if print_tweet_text: print(tweet_in_process)\n",
    "    \n",
    "    # REMOVE HASHTAGS - Use regular expression to remove hashtags \n",
    "    tweet_in_process = re.sub(\"#\\w+\",\"\",tweet_in_process).strip() \n",
    "    if print_tweet_text: print(tweet_in_process)\n",
    "        \n",
    "    # PUNCTUATION AND  - remove punctuation \n",
    "    tweet_in_process  = \"\".join([char for char in tweet_in_process if char not in punctuation])\n",
    "    if print_tweet_text: print(tweet_in_process)\n",
    "        \n",
    "        \n",
    "    # NUMBERS- remove  numbers\n",
    "    tweet_in_process = re.sub('[0-9]+', '', tweet_in_process)\n",
    "    if print_tweet_text: print(tweet_in_process)\n",
    "        \n",
    "    # TOKENIZE INTO WORDS - Tokenize  the tweet into words\n",
    "    tokenized_tweet =word_tokenizer.tokenize(tweet_in_process)   \n",
    "    if print_tweet_text: print(tokenized_tweet)\n",
    "    \n",
    "    # FIND PART-OF-SPEACH(POS) - This POS tag will be used during the lemetization process\n",
    "    pos_tags_tweet = pos_tag(tokenized_tweet)\n",
    "    if print_tweet_text: print(pos_tags_tweet)\n",
    "        \n",
    "    # LEMMATIZE WORDS with POS type - this one should perform better\n",
    "    tokenized_tweet = [lemmatizer.lemmatize(tag[0], get_tag_type(tag[1])) for tag in pos_tags_tweet]\n",
    "    if print_tweet_text: print(tokenized_tweet)\n",
    "        \n",
    "    #  After all this work, I still have some strange special characters in my strings, so, let's only keep those that are alpha\n",
    "    alpha_words = [i for i in tokenized_tweet if i.isalpha()]\n",
    "   \n",
    "    return \" \".join(alpha_words)"
   ]
  },
  {
   "cell_type": "markdown",
   "metadata": {},
   "source": [
    "### Main Code  - Time to build our twitter dataset!\n",
    "\n",
    "<b>Now that we have built all our objects and functions for interacting with the Twitter API and processing the data, we can specify exactly what we what we want and where we want to pull it from.</b>\n",
    "\n",
    "The first time running this code, we set \"get_new_tweets\" to true, which allows us to pull new tweets using our twitter objects. Depending on how many we pull, this could take some time. Luckily, our process bars will give us something to pay attention to while we wait. \n",
    "\n",
    "But, we don't need to pull new tweets every time we run the code in this project. Since we are saving this data to a local csv file, we can choose to use this data to populate our dataframe.  This allows subsequent runs of this project's code to run faster.\n",
    "\n",
    "Either way, we will now do the following four things:\n",
    "\n",
    "1. Specify number of Tweets \n",
    "2. Build list of users we will pull tweets for. \n",
    "3. Populate our tweet dataframe - either pull from our Twitter Client object or from a local csv file\n",
    "4. Call the CleanTweets function and pass the full_text of each tweet. The returned cleaned tweet text is added to our dataframe as a new feature. \n",
    "\n",
    "Without paying for an upgraded Twitter API account, I am limited in how I can pull tweets. If I pull tweets via a user's timeline, I am able to pull up to 3200 tweets, but I can't restrict re-tweets or replies. If I pull tweets via a search query, I can specify the user using \"from:username\" in the search query, and I can add indicators to block re-tweets or replies, but only those tweets from the last week will be returned. And for the politicians in question, that amounts to only a small number of tweets. So I have opted to use the user_timeline and filter out retweets and replies manually. This means we may not end up with the same number of tweets for each class of political affiliation.\n",
    "\n",
    "Because I know in advance that almost half of Devin Nunes tweets are re-tweets almost none of Adam Schiff's are, I can specify some weights for our number_tweets variable - so that the call pulls more/less. Being able to control the number of tweets means we can make adjustments to ensure we don't end up with class imbalance."
   ]
  },
  {
   "cell_type": "code",
   "execution_count": 26,
   "metadata": {},
   "outputs": [],
   "source": [
    "get_new_tweets=True\n",
    "number_tweets=1200\n",
    "tweet_store= TweetStorage()\n",
    "user_name_list = [\"RepAdamSchiff\", \"DevinNunes\", \"SenatorBurr\", \"MarkWarner\", \"SpeakerPelosi\", \"GOPLeader\", \"senatemajldr\", \"SenSchumer\"]\n",
    "user_name_RT_weight = [1, 1.6, 1.1, 1.5,1.2, 2.1, 1, 1]\n",
    "name_and_weight =zip(user_name_list, user_name_RT_weight)"
   ]
  },
  {
   "cell_type": "code",
   "execution_count": 27,
   "metadata": {},
   "outputs": [
    {
     "data": {
      "application/vnd.jupyter.widget-view+json": {
       "model_id": "b005df879835437c960a3917eadbe1dd",
       "version_major": 2,
       "version_minor": 0
      },
      "text/plain": [
       "HBox(children=(IntProgress(value=0, description='Getting Tweets!', max=1200, style=ProgressStyle(description_w…"
      ]
     },
     "metadata": {},
     "output_type": "display_data"
    },
    {
     "name": "stdout",
     "output_type": "stream",
     "text": [
      "\n",
      "Non-Retweet Tweets: 1185 out of 1200\n"
     ]
    },
    {
     "data": {
      "application/vnd.jupyter.widget-view+json": {
       "model_id": "918cf705b800491d90d7bf62bf3efd02",
       "version_major": 2,
       "version_minor": 0
      },
      "text/plain": [
       "HBox(children=(IntProgress(value=0, description='Getting Tweets!', max=1920, style=ProgressStyle(description_w…"
      ]
     },
     "metadata": {},
     "output_type": "display_data"
    },
    {
     "name": "stdout",
     "output_type": "stream",
     "text": [
      "\n",
      "Non-Retweet Tweets: 1069 out of 1920.0\n"
     ]
    },
    {
     "data": {
      "application/vnd.jupyter.widget-view+json": {
       "model_id": "bb0979bd48114ea8b78743fdec5c8caa",
       "version_major": 2,
       "version_minor": 0
      },
      "text/plain": [
       "HBox(children=(IntProgress(value=0, description='Getting Tweets!', max=1320, style=ProgressStyle(description_w…"
      ]
     },
     "metadata": {},
     "output_type": "display_data"
    },
    {
     "name": "stdout",
     "output_type": "stream",
     "text": [
      "\n",
      "Non-Retweet Tweets: 1167 out of 1320.0\n"
     ]
    },
    {
     "data": {
      "application/vnd.jupyter.widget-view+json": {
       "model_id": "574d82441a094ee3b1fd0c6b5ee701d5",
       "version_major": 2,
       "version_minor": 0
      },
      "text/plain": [
       "HBox(children=(IntProgress(value=0, description='Getting Tweets!', max=1800, style=ProgressStyle(description_w…"
      ]
     },
     "metadata": {},
     "output_type": "display_data"
    },
    {
     "name": "stdout",
     "output_type": "stream",
     "text": [
      "\n",
      "Non-Retweet Tweets: 1223 out of 1800.0\n"
     ]
    },
    {
     "data": {
      "application/vnd.jupyter.widget-view+json": {
       "model_id": "94c700e57d0c445a8af4f0a126c01cc5",
       "version_major": 2,
       "version_minor": 0
      },
      "text/plain": [
       "HBox(children=(IntProgress(value=0, description='Getting Tweets!', max=1440, style=ProgressStyle(description_w…"
      ]
     },
     "metadata": {},
     "output_type": "display_data"
    },
    {
     "name": "stdout",
     "output_type": "stream",
     "text": [
      "\n",
      "Non-Retweet Tweets: 1148 out of 1440.0\n"
     ]
    },
    {
     "data": {
      "application/vnd.jupyter.widget-view+json": {
       "model_id": "19a396098ff842c097fd8262c314a7bf",
       "version_major": 2,
       "version_minor": 0
      },
      "text/plain": [
       "HBox(children=(IntProgress(value=0, description='Getting Tweets!', max=2520, style=ProgressStyle(description_w…"
      ]
     },
     "metadata": {},
     "output_type": "display_data"
    },
    {
     "name": "stdout",
     "output_type": "stream",
     "text": [
      "\n",
      "Non-Retweet Tweets: 1216 out of 2520.0\n"
     ]
    },
    {
     "data": {
      "application/vnd.jupyter.widget-view+json": {
       "model_id": "e3d3aab4f3e74192a4d5cd81e730fe49",
       "version_major": 2,
       "version_minor": 0
      },
      "text/plain": [
       "HBox(children=(IntProgress(value=0, description='Getting Tweets!', max=1200, style=ProgressStyle(description_w…"
      ]
     },
     "metadata": {},
     "output_type": "display_data"
    },
    {
     "name": "stdout",
     "output_type": "stream",
     "text": [
      "\n",
      "Non-Retweet Tweets: 1155 out of 1200\n"
     ]
    },
    {
     "data": {
      "application/vnd.jupyter.widget-view+json": {
       "model_id": "154976cf54504dd287f5cfaee2771307",
       "version_major": 2,
       "version_minor": 0
      },
      "text/plain": [
       "HBox(children=(IntProgress(value=0, description='Getting Tweets!', max=1200, style=ProgressStyle(description_w…"
      ]
     },
     "metadata": {},
     "output_type": "display_data"
    },
    {
     "name": "stdout",
     "output_type": "stream",
     "text": [
      "\n",
      "Non-Retweet Tweets: 1136 out of 1200\n"
     ]
    }
   ],
   "source": [
    "\n",
    "# For each user, pull specified number of tweets and append data to our data frame.\n",
    "if get_new_tweets:\n",
    "    df=None\n",
    "    for user, weight in name_and_weight:  \n",
    "        twitter_client=TwitterClient(user)\n",
    "        tweets = twitter_client.get_user_tweets(number_tweets*weight)\n",
    "       \n",
    "        user_df=tweet_store.tweets_to_data_frame(tweets)\n",
    "        # Manually Remove Retweets\n",
    "        try:  \n",
    "            user_df=user_df[~user_df[\"full_text\"].str.startswith(\"RT @\")]\n",
    "        except:\n",
    "            print(\"Error: Empty Dataframe\") \n",
    "        print(\"Non-Retweet Tweets: \" + str(user_df.shape[0]) + \" out of \" + str(number_tweets*weight))\n",
    "        \n",
    "        try:\n",
    "            df=df.append(user_df, ignore_index = True)    \n",
    "        except:\n",
    "            df=user_df  \n",
    "       \n",
    "    # Clean tweets\n",
    "    df[\"clean_tweet\"] = df[\"full_text\"].apply(CleanTweets)\n",
    "    # Make sure the text isn't just these two words\n",
    "    df = df[df['full_text'] != \"Not Available\"]\n",
    "    # Make sure there are no NaN valuse\n",
    "    df = df[pd.notnull(df['clean_tweet'])]    \n",
    "    # Save the tweets to a data file \n",
    "    tweet_store.tweets_from_data_frame_to_csv(df, 'tweets.csv')\n",
    "   \n",
    "  "
   ]
  },
  {
   "cell_type": "code",
   "execution_count": null,
   "metadata": {},
   "outputs": [],
   "source": [
    "if get_new_tweets==False:\n",
    "    df = tweet_store.tweets_from_csv_to_data_frame(\"tweets.csv\")"
   ]
  },
  {
   "cell_type": "markdown",
   "metadata": {},
   "source": [
    "Now that we have our tweets in a dataset, let's check the distribution to make sure we do not have a class imbalance problem. First we will look at number of tweets per user just to get a sense of overall distribution, then, we will create our target variable and look at the distribution between the two classes."
   ]
  },
  {
   "cell_type": "code",
   "execution_count": 29,
   "metadata": {},
   "outputs": [
    {
     "data": {
      "text/plain": [
       "<matplotlib.axes._subplots.AxesSubplot at 0x1dcef23ea58>"
      ]
     },
     "execution_count": 29,
     "metadata": {},
     "output_type": "execute_result"
    },
    {
     "data": {
      "image/png": "[encoded data removed]",
      "text/plain": [
       "<Figure size 432x288 with 1 Axes>"
      ]
     },
     "metadata": {
      "needs_background": "light"
     },
     "output_type": "display_data"
    }
   ],
   "source": [
    "df.groupby(['author_name']).size().plot.bar()"
   ]
  },
  {
   "cell_type": "markdown",
   "metadata": {},
   "source": [
    "### Constructing our target variable\n",
    "\n",
    "Since we can determine the political affiliation of each of our 8 politicians, it's a simple thing to construct the target variable \"Democrat\" - which will hold one of two values, True or False.  We can also see, by the bar plot below, that we have balanced classes, so, there is no need to resample our data."
   ]
  },
  {
   "cell_type": "code",
   "execution_count": 30,
   "metadata": {},
   "outputs": [
    {
     "data": {
      "text/plain": [
       "<matplotlib.axes._subplots.AxesSubplot at 0x1dcfbcfe080>"
      ]
     },
     "execution_count": 30,
     "metadata": {},
     "output_type": "execute_result"
    },
    {
     "data": {
      "image/png": "[encoded data removed]",
      "text/plain": [
       "<Figure size 432x288 with 1 Axes>"
      ]
     },
     "metadata": {
      "needs_background": "light"
     },
     "output_type": "display_data"
    }
   ],
   "source": [
    "df[\"Democrat\"] = df[\"author_name\"].apply(is_democrat)\n",
    "df.groupby(['Democrat']).size().plot.bar()"
   ]
  },
  {
   "cell_type": "markdown",
   "metadata": {},
   "source": [
    "### Vectorize our Clean Tweets using Bag-Of-Words Model\n",
    "\n",
    "Before we will train our first ML model using a RandomForestClassifier, we will vectorize our clean_tweets using sklearn's CountVectorizer, which will convert a collection of text documents into a matrix of token counts, where each single word is a token. This 'Bag-of-words' representation of our tweets will be used as the feature set for our first ML model. \n",
    "\n",
    "A brief explanation of the selected parameters and corresponding values that we will use to create the vectorizer, is as follows;\n",
    "1. <b>max_features</b>: This specifies the number of top (in terms of overall term frequency) features used. After initially setting this to None so that we can determine how many features we actually have in our Corpus, we can then adjust this to a value that makes sense. For 16000 tweets, this number is around 4264. We will try a couple different values to see which gives us the best model performance.\n",
    "\n",
    "\n",
    "2. <b>min_df</b> and <b>max_df</b>: These allow us to tell the vectorizer to ignore terms with frequencies that are lower or higher than specified cut-off values. A min_df of 5 instructs the vectorizer to ignore particularly rare terms, those that appear in less than 5 documents (tweets). A max_df of .7 instructs the vectorizer to ignore common terms, those that appear in more than 70% of documents (tweets).\n",
    "\n",
    "\n",
    "3. <b>ngram_range</b>: This parameter allows us to specify the kind of n-gram that should be used in the vectorization process. This tuple specifies the lower and upper boundary of the n-gram range. A value of (1,1) just means that each token is a single word, or unigram. A value of (1,2) or (1,3) indicates that bigrams or trigrams should be used instead.\n",
    "\n",
    "\n",
    "4. <b>stop_words</b>: This allows one to specify if stop_words should be removed from the text during the vectorization process, and if so, what language to use. Instead of removing stop_words in our CleanTweets function (which is common to do during pre-processing) I am opting to perform this during the vectorization process so that I can compare the difference between removing these stop words or not. For unigrams, it always makes sense to remove stop words, but for bigrams and trigrams, it's not as clear cut. It will be interesting to see the effect this has on overall model performance. "
   ]
  },
  {
   "cell_type": "code",
   "execution_count": 49,
   "metadata": {},
   "outputs": [],
   "source": [
    "# Create a BOW Vectorizer, transform the data and specify what our target variable is\n",
    "df = df[pd.notnull(df['clean_tweet'])] \n",
    "vectorizer = CountVectorizer(max_features=2000, min_df=5, max_df=0.7,ngram_range=(1,1), stop_words=stopwords.words('english'))\n",
    "X = vectorizer.fit_transform(df.clean_tweet).toarray()\n",
    "y = df.Democrat"
   ]
  },
  {
   "cell_type": "markdown",
   "metadata": {},
   "source": [
    "### Split the Data and Train the Model \n",
    "\n",
    "We will split our newly vectorized data into 80% train and 20% test. Our random state value will ensure that the data is split the same way each time so that we can replicate results. "
   ]
  },
  {
   "cell_type": "code",
   "execution_count": 53,
   "metadata": {},
   "outputs": [],
   "source": [
    "X_train, X_test, y_train, y_test = train_test_split(X, y, test_size=0.2, random_state=22)"
   ]
  },
  {
   "cell_type": "code",
   "execution_count": 54,
   "metadata": {
    "scrolled": true
   },
   "outputs": [
    {
     "name": "stdout",
     "output_type": "stream",
     "text": [
      "Confusion Matrix\n",
      "[[731 195]\n",
      " [133 801]]\n",
      "              precision    recall  f1-score   support\n",
      "\n",
      "       False       0.85      0.79      0.82       926\n",
      "        True       0.80      0.86      0.83       934\n",
      "\n",
      "   micro avg       0.82      0.82      0.82      1860\n",
      "   macro avg       0.83      0.82      0.82      1860\n",
      "weighted avg       0.83      0.82      0.82      1860\n",
      "\n",
      "AUC Score\n",
      "0.9083293250886825\n",
      "Accuracy Score\n",
      "0.8236559139784946\n"
     ]
    }
   ],
   "source": [
    "# Train a Random Forest Classifier, display the performance metrics and save accuracy score in a variable\n",
    "rfc_bow_unigram=fit_predict_evaluate(X_train, X_test, y_train, y_test, RandomForestClassifier(n_estimators=1000, random_state=0))   \n",
    "best_so_far=rfc_bow_unigram"
   ]
  },
  {
   "cell_type": "markdown",
   "metadata": {},
   "source": [
    "### Analyze the Results for the Bag-Of-Words Model\n",
    "\n",
    "Since an accuracy score alone is not always the best metric to look at in isolation, we also look at the confusion matrix, along with the AUC (Area Under the ROC Curve), precision, recall and f1-scores. This gives us a broader picture of the performance of the model. We will use both accuracy and AUC to compare model performance.  \n",
    "\n",
    "In terms of this model, using a simple bag-of-words representation with single word tokens, we seem to have achieved an overall accuracy rate of about 82% to 84%. Which means that about 83% of the time, our Random Forest Classifier would correctly predict that a tweet was coming from a democrat or republican."
   ]
  },
  {
   "cell_type": "markdown",
   "metadata": {},
   "source": [
    "### Word Frequencies with TfidfVectorizer\n",
    "\n",
    "An alternative to the Bag-Of-Words model is TF-IDF, or Term Frequency-Inverse Document Frequency. Instead of just counting the number of times a token appears in a document (tweet) we can use a different metric that takes into consideration the term frequency in relation to not only the current document, but also how often the term appears in all documents (corpus). TF-IDF are word frequency scores that try to highlight words that are more interesting. \n",
    "\n",
    "We will build a model using this alternative vectorizer, keeping all other parameters the same, and compare the results to the Bag-Of-Words model. "
   ]
  },
  {
   "cell_type": "code",
   "execution_count": 55,
   "metadata": {},
   "outputs": [
    {
     "name": "stdout",
     "output_type": "stream",
     "text": [
      "Confusion Matrix\n",
      "[[729 197]\n",
      " [141 793]]\n",
      "              precision    recall  f1-score   support\n",
      "\n",
      "       False       0.84      0.79      0.81       926\n",
      "        True       0.80      0.85      0.82       934\n",
      "\n",
      "   micro avg       0.82      0.82      0.82      1860\n",
      "   macro avg       0.82      0.82      0.82      1860\n",
      "weighted avg       0.82      0.82      0.82      1860\n",
      "\n",
      "AUC Score\n",
      "0.9091485100892143\n",
      "Accuracy Score\n",
      "0.8182795698924731\n"
     ]
    }
   ],
   "source": [
    "# Create a tfidf Vectorizer and transform the data\n",
    "tfidfconverter = TfidfVectorizer(max_features=2000, min_df=5, max_df=0.7,ngram_range=(1, 1), stop_words=stopwords.words('english'))\n",
    "X  = tfidfconverter.fit_transform(df.clean_tweet).toarray()\n",
    "\n",
    "X_train, X_test, y_train, y_test = train_test_split(X, y, test_size=0.2, random_state=22)\n",
    "\n",
    "# Train a Random Forest Classifier, display the performance metrics and save accuracy score in a variable\n",
    "rfc_tfidf_unigram=fit_predict_evaluate(X_train, X_test, y_train, y_test, RandomForestClassifier(n_estimators=1000, random_state=0))  \n",
    "\n",
    "if rfc_tfidf_unigram>best_so_far:\n",
    "    best_so_far=rfc_tfidf_unigram"
   ]
  },
  {
   "cell_type": "markdown",
   "metadata": {},
   "source": [
    "### Analyze the Results for the TfidfVectorizer Model\n",
    "\n",
    "Changing to a TF-IDF representation with single word tokens surprisingly decreased the overall accuracy rate just a little bit.  Because of this decrease in performance, we will switch back to using the BoW model to compare single word tokens to bigrams and trigrams. "
   ]
  },
  {
   "cell_type": "markdown",
   "metadata": {},
   "source": [
    "### Introducing bigrams and trigrams\n",
    "\n",
    "#### Bigrams with stop words removed\n",
    "\n",
    "Next, we change the ngram_range parameter of our TfidfVectorizer so that we can include bigrams or trigrams in our vector feature set. For each new model, we will compare the difference between including or not including stop words. \n",
    "\n",
    "This first one does have <b>stop words removed</b> during the vectorization process.\n"
   ]
  },
  {
   "cell_type": "code",
   "execution_count": 56,
   "metadata": {},
   "outputs": [
    {
     "name": "stdout",
     "output_type": "stream",
     "text": [
      "Confusion Matrix\n",
      "[[737 189]\n",
      " [128 806]]\n",
      "              precision    recall  f1-score   support\n",
      "\n",
      "       False       0.85      0.80      0.82       926\n",
      "        True       0.81      0.86      0.84       934\n",
      "\n",
      "   micro avg       0.83      0.83      0.83      1860\n",
      "   macro avg       0.83      0.83      0.83      1860\n",
      "weighted avg       0.83      0.83      0.83      1860\n",
      "\n",
      "AUC Score\n",
      "0.9105527446455246\n",
      "Accuracy Score\n",
      "0.8295698924731183\n"
     ]
    }
   ],
   "source": [
    "# Create a BoW Vectorizer using bigrams (without stopwords) and transform the data \n",
    "vectorizer = CountVectorizer(max_features=2000, min_df=5, max_df=0.7,ngram_range=(1,2), stop_words=stopwords.words('english'))\n",
    "X = vectorizer.fit_transform(df.clean_tweet).toarray()\n",
    "X_train, X_test, y_train, y_test = train_test_split(X, y, test_size=0.2, random_state=22)\n",
    "\n",
    "# Train a Random Forest Classifier, display the performance metrics and save accuracy score in a variable \n",
    "rfc_bow_bigram=fit_predict_evaluate(X_train, X_test, y_train, y_test, RandomForestClassifier(n_estimators=1000, random_state=0))  \n",
    "if rfc_bow_bigram>best_so_far:\n",
    "    best_so_far=rfc_bow_bigram"
   ]
  },
  {
   "cell_type": "markdown",
   "metadata": {},
   "source": [
    "We can see that using bigram tokens instead of single word tokens did not necessarily change the accuracy much."
   ]
  },
  {
   "cell_type": "markdown",
   "metadata": {},
   "source": [
    "#### Bigrams with stop words <u>NOT</u> removed\n",
    "\n",
    "This second one  <b>does <u>not</u> have stop words removed</b> during the vectorization process."
   ]
  },
  {
   "cell_type": "code",
   "execution_count": 57,
   "metadata": {},
   "outputs": [
    {
     "name": "stdout",
     "output_type": "stream",
     "text": [
      "Confusion Matrix\n",
      "[[745 181]\n",
      " [122 812]]\n",
      "              precision    recall  f1-score   support\n",
      "\n",
      "       False       0.86      0.80      0.83       926\n",
      "        True       0.82      0.87      0.84       934\n",
      "\n",
      "   micro avg       0.84      0.84      0.84      1860\n",
      "   macro avg       0.84      0.84      0.84      1860\n",
      "weighted avg       0.84      0.84      0.84      1860\n",
      "\n",
      "AUC Score\n",
      "0.9112869471512943\n",
      "Accuracy Score\n",
      "0.8370967741935483\n"
     ]
    }
   ],
   "source": [
    "# Create a BoW Vectorizer using bigrams and transform the data \n",
    "vectorizer = CountVectorizer(max_features=2000, min_df=5, max_df=0.7,ngram_range=(1,2), stop_words=None)\n",
    "X = vectorizer.fit_transform(df.clean_tweet).toarray()\n",
    "X_train, X_test, y_train, y_test = train_test_split(X, y, test_size=0.2, random_state=22)\n",
    "\n",
    "# Train a Random Forest Classifier, display the performance metrics and save accuracy score in a variable\n",
    "rfc_bow_bigram_all_words=fit_predict_evaluate(X_train, X_test, y_train, y_test, RandomForestClassifier(n_estimators=1000, random_state=0))  \n",
    "\n",
    "if rfc_bow_bigram_all_words>best_so_far:\n",
    "    best_so_far=rfc_bow_bigram_all_words"
   ]
  },
  {
   "cell_type": "markdown",
   "metadata": {},
   "source": [
    "#### Trigrams with stop words removed\n",
    "\n",
    "Next, we will try <b>trigrams</b> with stop words removed."
   ]
  },
  {
   "cell_type": "code",
   "execution_count": 58,
   "metadata": {},
   "outputs": [
    {
     "name": "stdout",
     "output_type": "stream",
     "text": [
      "Confusion Matrix\n",
      "[[737 189]\n",
      " [127 807]]\n",
      "              precision    recall  f1-score   support\n",
      "\n",
      "       False       0.85      0.80      0.82       926\n",
      "        True       0.81      0.86      0.84       934\n",
      "\n",
      "   micro avg       0.83      0.83      0.83      1860\n",
      "   macro avg       0.83      0.83      0.83      1860\n",
      "weighted avg       0.83      0.83      0.83      1860\n",
      "\n",
      "AUC Score\n",
      "0.9098312606083591\n",
      "Accuracy Score\n",
      "0.8301075268817204\n"
     ]
    }
   ],
   "source": [
    "# Create a BoW Vectorizer using trigrams  (without stopwords)  and transform the data \n",
    "vectorizer = CountVectorizer(max_features=2000, min_df=5, max_df=0.7,ngram_range=(1,3), stop_words=stopwords.words('english'))\n",
    "X = vectorizer.fit_transform(df.clean_tweet).toarray()\n",
    "X_train, X_test, y_train, y_test = train_test_split(X, y, test_size=0.2, random_state=22)\n",
    "\n",
    "# Train a Random Forest Classifier, display the performance metrics and save accuracy score in a variable\n",
    "rfc_bow_trigram=fit_predict_evaluate(X_train, X_test, y_train, y_test, RandomForestClassifier(n_estimators=1000, random_state=0))  \n",
    "\n",
    "if rfc_bow_trigram>best_so_far:\n",
    "    best_so_far=rfc_bow_trigram"
   ]
  },
  {
   "cell_type": "markdown",
   "metadata": {},
   "source": [
    "#### Trigrams with stop words <u>NOT</u> removed\n",
    "\n",
    "And finally, we try <b>trigrams</b> without removing stop words."
   ]
  },
  {
   "cell_type": "code",
   "execution_count": 59,
   "metadata": {},
   "outputs": [
    {
     "name": "stdout",
     "output_type": "stream",
     "text": [
      "Confusion Matrix\n",
      "[[741 185]\n",
      " [123 811]]\n",
      "              precision    recall  f1-score   support\n",
      "\n",
      "       False       0.86      0.80      0.83       926\n",
      "        True       0.81      0.87      0.84       934\n",
      "\n",
      "   micro avg       0.83      0.83      0.83      1860\n",
      "   macro avg       0.84      0.83      0.83      1860\n",
      "weighted avg       0.84      0.83      0.83      1860\n",
      "\n",
      "AUC Score\n",
      "0.9110834516536321\n",
      "Accuracy Score\n",
      "0.8344086021505376\n"
     ]
    }
   ],
   "source": [
    "# Create a BoW Vectorizer using trigrams   and transform the data \n",
    "vectorizer = CountVectorizer(max_features=2000, min_df=5, max_df=0.7,ngram_range=(1,3), stop_words=None)\n",
    "X = vectorizer.fit_transform(df.clean_tweet).toarray()\n",
    "X_train, X_test, y_train, y_test = train_test_split(X, y, test_size=0.2, random_state=22)\n",
    "\n",
    "# Train a Random Forest Classifier, display the performance metrics and save accuracy score in a variable\n",
    "rfc_bow_trigram_all_words=fit_predict_evaluate(X_train, X_test, y_train, y_test, RandomForestClassifier(n_estimators=1000, random_state=0))  \n",
    "\n",
    "if rfc_bow_trigram_all_words>best_so_far:\n",
    "    best_so_far=rfc_bow_trigram_all_words"
   ]
  },
  {
   "cell_type": "markdown",
   "metadata": {},
   "source": [
    "### Build a Variety of Classification Models\n",
    "\n",
    "So far, we have had the best results with a BoW model, using bigrams tokens and <b><u>NOT</u></b> having stop words removed. Next, we will try out a few different machine learning algorithms to see if we can achieve better results. First, we will save our random forest classifier accuracy to a dictionary so that we can compare with other models. \n",
    "\n",
    "Please Note: The following ML models were built using different parameters for the vectorizer. The combination that provided the highest accuracy were kept."
   ]
  },
  {
   "cell_type": "code",
   "execution_count": 60,
   "metadata": {},
   "outputs": [],
   "source": [
    "ml_results={}\n",
    "ml_results[\"RFC\"]=best_so_far"
   ]
  },
  {
   "cell_type": "code",
   "execution_count": 101,
   "metadata": {},
   "outputs": [
    {
     "name": "stdout",
     "output_type": "stream",
     "text": [
      "Confusion Matrix\n",
      "[[744 182]\n",
      " [160 774]]\n",
      "              precision    recall  f1-score   support\n",
      "\n",
      "       False       0.82      0.80      0.81       926\n",
      "        True       0.81      0.83      0.82       934\n",
      "\n",
      "   micro avg       0.82      0.82      0.82      1860\n",
      "   macro avg       0.82      0.82      0.82      1860\n",
      "weighted avg       0.82      0.82      0.82      1860\n",
      "\n",
      "AUC Score\n",
      "0.9013977596995666\n",
      "Accuracy Score\n",
      "0.8161290322580645\n"
     ]
    }
   ],
   "source": [
    "from sklearn.naive_bayes import MultinomialNB\n",
    "vectorizer = CountVectorizer(max_features=2000, min_df=5, max_df=0.7,ngram_range=(1,3), stop_words=stopwords.words('english'))\n",
    "X = vectorizer.fit_transform(df.clean_tweet).toarray()\n",
    "X_train, X_test, y_train, y_test = train_test_split(X, y, test_size=0.2, random_state=22)\n",
    "\n",
    "# Train a Naive Bayes model, display the performance metrics and save accuracy score in our dictionary object\n",
    "ml_results[\"NB\"]=fit_predict_evaluate(X_train, X_test, y_train, y_test, MultinomialNB()) "
   ]
  },
  {
   "cell_type": "code",
   "execution_count": 87,
   "metadata": {},
   "outputs": [
    {
     "name": "stdout",
     "output_type": "stream",
     "text": [
      "Confusion Matrix\n",
      "[[795 131]\n",
      " [258 676]]\n",
      "              precision    recall  f1-score   support\n",
      "\n",
      "       False       0.75      0.86      0.80       926\n",
      "        True       0.84      0.72      0.78       934\n",
      "\n",
      "   micro avg       0.79      0.79      0.79      1860\n",
      "   macro avg       0.80      0.79      0.79      1860\n",
      "weighted avg       0.80      0.79      0.79      1860\n",
      "\n",
      "AUC Score\n",
      "0.8828467170163858\n",
      "Accuracy Score\n",
      "0.7908602150537635\n"
     ]
    }
   ],
   "source": [
    "from sklearn.linear_model import SGDClassifier\n",
    "ml_results[\"SGD\"]=fit_predict_evaluate(X_train, X_test, y_train, y_test, SGDClassifier(loss='log', penalty='l1',alpha=1e-3, random_state=42, max_iter=15, tol=1e-3))"
   ]
  },
  {
   "cell_type": "code",
   "execution_count": 103,
   "metadata": {},
   "outputs": [
    {
     "name": "stdout",
     "output_type": "stream",
     "text": [
      "Confusion Matrix\n",
      "[[674 252]\n",
      " [206 728]]\n",
      "              precision    recall  f1-score   support\n",
      "\n",
      "       False       0.77      0.73      0.75       926\n",
      "        True       0.74      0.78      0.76       934\n",
      "\n",
      "   micro avg       0.75      0.75      0.75      1860\n",
      "   macro avg       0.75      0.75      0.75      1860\n",
      "weighted avg       0.75      0.75      0.75      1860\n",
      "\n",
      "AUC Score\n",
      "0.7957674092710699\n",
      "Accuracy Score\n",
      "0.7537634408602151\n"
     ]
    }
   ],
   "source": [
    "from sklearn.linear_model import LogisticRegression\n",
    "ml_results[\"LG\"]=fit_predict_evaluate(X_train, X_test, y_train, y_test, LogisticRegression(n_jobs=1, C=1e5, solver='lbfgs',max_iter=5000)) "
   ]
  },
  {
   "cell_type": "code",
   "execution_count": 66,
   "metadata": {},
   "outputs": [
    {
     "name": "stdout",
     "output_type": "stream",
     "text": [
      "Confusion Matrix\n",
      "[[787 139]\n",
      " [153 781]]\n",
      "              precision    recall  f1-score   support\n",
      "\n",
      "       False       0.84      0.85      0.84       926\n",
      "        True       0.85      0.84      0.84       934\n",
      "\n",
      "   micro avg       0.84      0.84      0.84      1860\n",
      "   macro avg       0.84      0.84      0.84      1860\n",
      "weighted avg       0.84      0.84      0.84      1860\n",
      "\n",
      "AUC Score\n",
      "0.9192527552827894\n",
      "Accuracy Score\n",
      "0.843010752688172\n"
     ]
    }
   ],
   "source": [
    "from sklearn import svm\n",
    "ml_results[\"SVC\"]=fit_predict_evaluate(X_train, X_test, y_train, y_test, svm.SVC(gamma='scale', kernel='rbf', C=.9, probability=True)) "
   ]
  },
  {
   "cell_type": "code",
   "execution_count": 117,
   "metadata": {},
   "outputs": [
    {
     "name": "stdout",
     "output_type": "stream",
     "text": [
      "Confusion Matrix\n",
      "[[765 161]\n",
      " [170 764]]\n",
      "              precision    recall  f1-score   support\n",
      "\n",
      "       False       0.82      0.83      0.82       926\n",
      "        True       0.83      0.82      0.82       934\n",
      "\n",
      "   micro avg       0.82      0.82      0.82      1860\n",
      "   macro avg       0.82      0.82      0.82      1860\n",
      "weighted avg       0.82      0.82      0.82      1860\n",
      "\n",
      "AUC Score\n",
      "0.8974157228021331\n",
      "Accuracy Score\n",
      "0.8220430107526882\n"
     ]
    }
   ],
   "source": [
    "from sklearn.ensemble  import AdaBoostClassifier\n",
    "from sklearn.tree import DecisionTreeClassifier\n",
    "classifier = AdaBoostClassifier(\n",
    "    DecisionTreeClassifier(max_depth=1),\n",
    "    n_estimators=1000\n",
    ")\n",
    "ml_results[\"AB\"]=fit_predict_evaluate(X_train, X_test, y_train, y_test, classifier) "
   ]
  },
  {
   "cell_type": "code",
   "execution_count": 128,
   "metadata": {},
   "outputs": [
    {
     "name": "stdout",
     "output_type": "stream",
     "text": [
      "Confusion Matrix\n",
      "[[790 136]\n",
      " [159 775]]\n",
      "              precision    recall  f1-score   support\n",
      "\n",
      "       False       0.83      0.85      0.84       926\n",
      "        True       0.85      0.83      0.84       934\n",
      "\n",
      "   micro avg       0.84      0.84      0.84      1860\n",
      "   macro avg       0.84      0.84      0.84      1860\n",
      "weighted avg       0.84      0.84      0.84      1860\n",
      "\n",
      "AUC Score\n",
      "0.9255981148917081\n",
      "Accuracy Score\n",
      "0.8413978494623656\n"
     ]
    }
   ],
   "source": [
    "from xgboost.sklearn import XGBClassifier\n",
    "\n",
    "classifier = XGBClassifier(max_depth=5,learning_rate=0.1,n_estimators=1000, objective='binary:logistic',random_state=123,n_jobs=4)\n",
    "ml_results[\"XGB\"]=fit_predict_evaluate(X_train, X_test, y_train, y_test, classifier) "
   ]
  },
  {
   "cell_type": "markdown",
   "metadata": {},
   "source": [
    "### Compare Results of ML models using BoW with trigrams"
   ]
  },
  {
   "cell_type": "code",
   "execution_count": 131,
   "metadata": {},
   "outputs": [
    {
     "data": {
      "image/png": "[encoded data removed]",
      "text/plain": [
       "<Figure size 720x288 with 1 Axes>"
      ]
     },
     "metadata": {
      "needs_background": "light"
     },
     "output_type": "display_data"
    }
   ],
   "source": [
    "my_colors = 'rgbymck'\n",
    "f, ax = plt.subplots(figsize=(10,4))\n",
    "plt.bar(range(len(ml_results)), list(ml_results.values()), align='center', width = .8, color=my_colors)\n",
    "plt.ylim(.4, 1)\n",
    "plt.ylabel('Accuracy')\n",
    "plt.xlabel('ML Model')\n",
    "plt.title('Accuracy by Machine Learning Model')\n",
    "plt.xticks(range(len(ml_results)), list(ml_results.keys()))\n",
    "\n",
    "x_val=-.2\n",
    "for value in ml_results.values():\n",
    "    plt.text(x = x_val , y = value+.02, s = str(round(value, 3)) , size = 12)\n",
    "    x_val=x_val+1\n",
    "#plt.text(x=)\n",
    "plt.show()"
   ]
  },
  {
   "cell_type": "markdown",
   "metadata": {},
   "source": [
    "### ML Winner\n",
    "\n",
    "####  Depending on the specific group of tweets used to train the various models, XGBoost and SVC generally seem to perform better than the other models, but this was done before performing any kind of  hyperparameter optimization.\n",
    "\n",
    "Just for fun, let's go ahead and use a Grid Search on one or more of these models, to see if hyperparameter tuning can make  much difference? For example, can we improve the SGD classifier to be better than the best accuracy so far? \n",
    "\n",
    "####  SGDClassifier model with GridSearchCV  \n",
    "\n",
    "PLEASE NOTE: IDEALLY WE WOULD DO GRID SEARCH AND HYPERPARAMETER TUNING ON ALL ML MODELS BEFORE SELECTING THE 'BEST' LEARNER, BUT GIVEN THE FACT THAT THIS IS A LEARNING PROJECT, AND BUILDING A MODEL WITH GRID SEARCH TAKES A LONG TIME, I AM LIMITING MYSELF TO JUST ONE EXAMPLE, SHOWN BELOW:"
   ]
  },
  {
   "cell_type": "code",
   "execution_count": 95,
   "metadata": {},
   "outputs": [
    {
     "name": "stdout",
     "output_type": "stream",
     "text": [
      "Confusion Matrix\n",
      "[[806 120]\n",
      " [174 760]]\n",
      "              precision    recall  f1-score   support\n",
      "\n",
      "       False       0.82      0.87      0.85       926\n",
      "        True       0.86      0.81      0.84       934\n",
      "\n",
      "   micro avg       0.84      0.84      0.84      1860\n",
      "   macro avg       0.84      0.84      0.84      1860\n",
      "weighted avg       0.84      0.84      0.84      1860\n",
      "\n",
      "AUC Score\n",
      "0.9227948487889706\n",
      "Accuracy Score\n",
      "0.8419354838709677\n"
     ]
    }
   ],
   "source": [
    "from sklearn.model_selection import GridSearchCV\n",
    "sgd = SGDClassifier( random_state=42, max_iter=1000, tol=1e-3)\n",
    "\n",
    "param_grid = {\n",
    "    'loss': ['log'],\n",
    "    'penalty': ['l2','l1','none'],\n",
    "    'alpha':  [ 0.001, 0.01, 0.1],\n",
    "    'l1_ratio': [0, 0.05, 0.1, 0.2, 0.5],\n",
    "}\n",
    "\n",
    "ml_results[\"SGD_optimized\"]=fit_predict_evaluate(X_train, X_test, y_train, y_test, GridSearchCV(sgd, param_grid, scoring = 'accuracy', cv=5)) \n",
    "\n"
   ]
  },
  {
   "cell_type": "markdown",
   "metadata": {},
   "source": [
    "Again, based on the underlying data, we were able to improve upon our accuracy rate by 0-4 percentage points. Next, we will try our luck with a neural network model using keras.\n",
    "\n",
    "### Neural Network using a Sequential Keras Model\n",
    "\n",
    "The first NN model we train will use our existing BoW representation of our tweet text. Our X and y variables can be used, unchanged, in training this sequential model with two dense layers. After running the following code several times and using the graphs of the history (which show accuracy and loss for train/test at each epoch) to the learning progress, I have settled on 3 epochs to minimize overfitting."
   ]
  },
  {
   "cell_type": "code",
   "execution_count": 69,
   "metadata": {},
   "outputs": [
    {
     "name": "stdout",
     "output_type": "stream",
     "text": [
      "WARNING:tensorflow:From C:\\Users\\rebec\\Anaconda3\\envs\\uwdatasci420\\lib\\site-packages\\tensorflow\\python\\ops\\init_ops.py:1251: calling VarianceScaling.__init__ (from tensorflow.python.ops.init_ops) with dtype is deprecated and will be removed in a future version.\n",
      "Instructions for updating:\n",
      "Call initializer instance with the dtype argument instead of passing it to the constructor\n",
      "WARNING:tensorflow:From C:\\Users\\rebec\\Anaconda3\\envs\\uwdatasci420\\lib\\site-packages\\tensorflow\\python\\ops\\nn_impl.py:180: add_dispatch_support.<locals>.wrapper (from tensorflow.python.ops.array_ops) is deprecated and will be removed in a future version.\n",
      "Instructions for updating:\n",
      "Use tf.where in 2.0, which has the same broadcast rule as np.where\n",
      "1860/1860 [==============================] - ETA: 0s - loss: 0.2460 - acc: 0.937 - ETA: 0s - loss: 0.3358 - acc: 0.851 - 0s 35us/sample - loss: 0.3374 - acc: 0.8516\n"
     ]
    }
   ],
   "source": [
    "epochs = 3\n",
    "batch_size = 16\n",
    "input_size=2000\n",
    "\n",
    "X_train, X_test, y_train, y_test = train_test_split(X, y, test_size=0.2, random_state=22)\n",
    "\n",
    "if len(X_train[1])<input_size:\n",
    "    input_size=len(X_train[1])\n",
    "\n",
    "model = Sequential()\n",
    "model.add(layers.Dense(10, input_dim=input_size, activation='relu'))\n",
    "model.add(layers.Dense(1, activation='sigmoid'))\n",
    "model.compile(loss='binary_crossentropy', optimizer='adam', metrics=['accuracy'])\n",
    "\n",
    "\n",
    "    \n",
    "history = model.fit(X_train, y_train,\n",
    "                     epochs=epochs,\n",
    "                     verbose=False,\n",
    "                     validation_data=(X_test, y_test),\n",
    "                     batch_size=batch_size)\n",
    "score = model.evaluate(X_test, y_test, batch_size=batch_size, verbose=1)"
   ]
  },
  {
   "cell_type": "markdown",
   "metadata": {},
   "source": [
    "### Plotting the history allows us to decide on number of epochs\n",
    "\n",
    "Neural networks differ from traditional machine learning models in that we must specify how long they train for. This is specified by the number of epochs. One epoch is one forward pass and one backward pass of all training examples. The more epochs we use in training, the more the model fits to the training data. Choosing number of epochs is important and made easier by visualizing accuracy and loss for training/testing data at each epoch. The idea is that we want to use just enough epochs to train without overfitting. "
   ]
  },
  {
   "cell_type": "code",
   "execution_count": 70,
   "metadata": {},
   "outputs": [
    {
     "data": {
      "image/png": "[encoded data removed]",
      "text/plain": [
       "<Figure size 864x360 with 2 Axes>"
      ]
     },
     "metadata": {
      "needs_background": "light"
     },
     "output_type": "display_data"
    }
   ],
   "source": [
    "plot_history(history)"
   ]
  },
  {
   "cell_type": "code",
   "execution_count": 71,
   "metadata": {},
   "outputs": [
    {
     "name": "stdout",
     "output_type": "stream",
     "text": [
      "Test loss: 0.3373899399593312\n",
      "Test accuracy: 0.8516129\n"
     ]
    }
   ],
   "source": [
    "print('Test loss:', score[0])\n",
    "print('Test accuracy:', score[1])\n",
    "ml_results[\"ANN_BOW\"]=score[1]"
   ]
  },
  {
   "cell_type": "markdown",
   "metadata": {},
   "source": [
    "### Slight improvement detected over most of our traditional ML models\n",
    "\n",
    "Our accuracy on test data using a sequential neural network model with two dense layers, run for just 3 epohcs, shows it performed slightly better than the traditional machine learning models.\n",
    "\n",
    "### Word Embeddings vs. BoW\n",
    "\n",
    "Next, we will look to see if using word embeddings (dense word vectors) instead of BoW vectors can improve importance. The motivation to switching to word embeddings is because word embeddings can capture relationships between words in a way that BoW cannot. It is not clear if political affiliation classification can be improved when switching to this type of word vectorization. Generally, switching to embedding will improve a model, but BoW is sometimes more effective if the dataset is small and content is domain specific. \n",
    "\n",
    "We will try two different types of word embeddings, those that are learned based on our tweet corpus, and those that are pre-trained (GloVe/word2vec). We will also train a couple different types of Neural Networks, a simple feed forward Neural Network and a Recurrent Neural Network. Adding an LSTM (Long Short Term Memory) layer may be able to take advantage of text representation that preserves order, which is one of the benefits of word embeddings over bag-of-word vectors. \n",
    "\n",
    "We will not use our old X, y data, since that has been tokenized into bigrams. Instead, we will retokenize our data (after removing stop words) using our saved clean_tweet data."
   ]
  },
  {
   "cell_type": "markdown",
   "metadata": {},
   "source": [
    "### Stop words - Include or Remove?\n",
    "\n",
    "Again, we will build models both ways, with stop words in and stop words removed"
   ]
  },
  {
   "cell_type": "code",
   "execution_count": 73,
   "metadata": {},
   "outputs": [],
   "source": [
    "# Since our clean_tweet function does not remove stop words, let's remove them now with our remove_stop_words function\n",
    "remove_stop_words_for_embeddings = True\n",
    "df = df[pd.notnull(df['clean_tweet'])]    \n",
    "if remove_stop_words_for_embeddings:\n",
    "    tweets = df[\"clean_tweet\"].apply(remove_stop_words).values\n",
    "else:\n",
    "    tweets =  df.clean_tweet.values"
   ]
  },
  {
   "cell_type": "code",
   "execution_count": 74,
   "metadata": {},
   "outputs": [],
   "source": [
    "y = df.Democrat\n",
    "tweets_train, tweets_test, y_train, y_test = train_test_split(tweets, y,  test_size=0.2, random_state=22)\n",
    "\n",
    "# Tokenize the entire data using Tokenizer object from keras\n",
    "tokenizer = Tokenizer(num_words=2000)\n",
    "tokenizer.fit_on_texts(tweets_train)\n",
    "\n",
    "X_train = tokenizer.texts_to_sequences(tweets_train)\n",
    "X_test = tokenizer.texts_to_sequences(tweets_test)\n",
    "\n",
    "# Need to add one to take into consideration a zero based index\n",
    "vocab_size = len(tokenizer.word_index) + 1\n",
    "\n",
    "max_tweet_length = 280\n",
    "\n",
    "# Add padding to the sequences to make them of a uniform length\n",
    "X_train = keras.preprocessing.sequence.pad_sequences(X_train, maxlen=max_tweet_length)\n",
    "X_test = keras.preprocessing.sequence.pad_sequences(X_test, maxlen=max_tweet_length)"
   ]
  },
  {
   "cell_type": "markdown",
   "metadata": {},
   "source": [
    "### Switch from BoW to Word Embedding\n",
    "\n",
    "Now that we have re-tokenized our tweets using keras, calculated the size of our corpus, and padded our sequences so that they are all the same time, we are ready to build and train our NN with a different representation of our tweet data. The Embedding layer takes the previously calculated integers and maps them to a dense vector of the embedding, which is learned during the training of the model."
   ]
  },
  {
   "cell_type": "code",
   "execution_count": 75,
   "metadata": {},
   "outputs": [
    {
     "name": "stdout",
     "output_type": "stream",
     "text": [
      "WARNING:tensorflow:From C:\\Users\\rebec\\Anaconda3\\envs\\uwdatasci420\\lib\\site-packages\\tensorflow\\python\\keras\\initializers.py:119: calling RandomUniform.__init__ (from tensorflow.python.ops.init_ops) with dtype is deprecated and will be removed in a future version.\n",
      "Instructions for updating:\n",
      "Call initializer instance with the dtype argument instead of passing it to the constructor\n",
      "Model: \"sequential_1\"\n",
      "_________________________________________________________________\n",
      "Layer (type)                 Output Shape              Param #   \n",
      "=================================================================\n",
      "embedding (Embedding)        (None, 280, 32)           312448    \n",
      "_________________________________________________________________\n",
      "flatten (Flatten)            (None, 8960)              0         \n",
      "_________________________________________________________________\n",
      "dense_2 (Dense)              (None, 10)                89610     \n",
      "_________________________________________________________________\n",
      "dense_3 (Dense)              (None, 1)                 11        \n",
      "=================================================================\n",
      "Total params: 402,069\n",
      "Trainable params: 402,069\n",
      "Non-trainable params: 0\n",
      "_________________________________________________________________\n",
      "Training Accuracy: 0.9883\n",
      "Testing Accuracy:  0.8204\n"
     ]
    },
    {
     "data": {
      "image/png": "[encoded data removed]",
      "text/plain": [
       "<Figure size 864x360 with 2 Axes>"
      ]
     },
     "metadata": {
      "needs_background": "light"
     },
     "output_type": "display_data"
    }
   ],
   "source": [
    "num_neurons=10\n",
    "embedding_vecor_length = 32\n",
    "batch_size=16\n",
    "epochs=5\n",
    "\n",
    "model = Sequential()\n",
    "model.add(Embedding(input_dim=vocab_size, output_dim=embedding_vecor_length, input_length=max_tweet_length))\n",
    "model.add(layers.Flatten())\n",
    "model.add(layers.Dense(10, activation='relu'))\n",
    "model.add(layers.Dense(1, activation='sigmoid'))\n",
    "model.compile(loss='binary_crossentropy', optimizer='adam', metrics=['accuracy'])\n",
    "model.summary()\n",
    "history = model.fit(X_train, y_train,\n",
    "                    epochs=epochs,\n",
    "                    verbose=False,\n",
    "                    batch_size=batch_size,\n",
    "                    validation_data=(X_test, y_test))\n",
    "loss, accuracy = model.evaluate(X_train, y_train, verbose=False)\n",
    "print(\"Training Accuracy: {:.4f}\".format(accuracy))\n",
    "loss, accuracy = model.evaluate(X_test, y_test, verbose=False)\n",
    "print(\"Testing Accuracy:  {:.4f}\".format(accuracy))\n",
    "plot_history(history)\n",
    "ml_results[\"ANN_EMB\"]=accuracy"
   ]
  },
  {
   "cell_type": "markdown",
   "metadata": {},
   "source": [
    "Unfortunately, our accuracy didn't improve. But not all is lost. Maybe our model will perform better if it is a recurrent neural network.\n",
    "\n",
    "### Ready for an RNN model using LSTM architecture \n",
    "\n",
    "Next, we build and train an RNN with the addition of an LSTM layer. The Embedding layer feeds our vectorized data to LSTM layer, which has the added benefit of being able to take the sequence of words into consideration when building the model. It's unclear if this will help in our use case."
   ]
  },
  {
   "cell_type": "code",
   "execution_count": 76,
   "metadata": {},
   "outputs": [
    {
     "name": "stdout",
     "output_type": "stream",
     "text": [
      "Model: \"sequential_2\"\n",
      "_________________________________________________________________\n",
      "Layer (type)                 Output Shape              Param #   \n",
      "=================================================================\n",
      "embedding_1 (Embedding)      (None, 280, 32)           312448    \n",
      "_________________________________________________________________\n",
      "lstm (LSTM)                  (None, 10)                1720      \n",
      "_________________________________________________________________\n",
      "dense_4 (Dense)              (None, 10)                110       \n",
      "_________________________________________________________________\n",
      "dense_5 (Dense)              (None, 1)                 11        \n",
      "=================================================================\n",
      "Total params: 314,289\n",
      "Trainable params: 314,289\n",
      "Non-trainable params: 0\n",
      "_________________________________________________________________\n",
      "Training Accuracy: 0.9421\n",
      "Testing Accuracy:  0.8333\n"
     ]
    },
    {
     "data": {
      "image/png": "[encoded data removed]",
      "text/plain": [
       "<Figure size 864x360 with 2 Axes>"
      ]
     },
     "metadata": {
      "needs_background": "light"
     },
     "output_type": "display_data"
    }
   ],
   "source": [
    "num_neurons=10\n",
    "embedding_vecor_length = 32\n",
    "batch_size=16\n",
    "epochs=5\n",
    "\n",
    "model = Sequential()\n",
    "model.add(Embedding(input_dim=vocab_size, output_dim=embedding_vecor_length, input_length=max_tweet_length))\n",
    "model.add(LSTM(num_neurons))\n",
    "model.add(layers.Dense(10, activation='relu'))\n",
    "model.add(layers.Dense(1, activation='sigmoid'))\n",
    "model.compile(loss='binary_crossentropy', optimizer='adam', metrics=['accuracy'])\n",
    "model.summary()\n",
    "\n",
    "history = model.fit(X_train, y_train,\n",
    "                    epochs=3,\n",
    "                    verbose=False,\n",
    "                    batch_size=batch_size,\n",
    "                    validation_data=(X_test, y_test))\n",
    "loss, accuracy = model.evaluate(X_train, y_train, verbose=False)\n",
    "print(\"Training Accuracy: {:.4f}\".format(accuracy))\n",
    "loss, accuracy = model.evaluate(X_test, y_test, verbose=False)\n",
    "print(\"Testing Accuracy:  {:.4f}\".format(accuracy))\n",
    "ml_results[\"RNN_EMB\"]=accuracy\n",
    "plot_history(history)\n",
    "\n"
   ]
  },
  {
   "cell_type": "markdown",
   "metadata": {},
   "source": [
    "### Will adding a dropout layer improve the model?\n",
    "\n",
    "The motivation behind adding a dropout layer is to help prevent overfitting. If we can decrease overfitting, maybe we can train for more epochs?"
   ]
  },
  {
   "cell_type": "code",
   "execution_count": 77,
   "metadata": {},
   "outputs": [
    {
     "name": "stdout",
     "output_type": "stream",
     "text": [
      "Training Accuracy: 0.9642\n",
      "Testing Accuracy:  0.8199\n"
     ]
    },
    {
     "data": {
      "image/png": "[encoded data removed]",
      "text/plain": [
       "<Figure size 864x360 with 2 Axes>"
      ]
     },
     "metadata": {
      "needs_background": "light"
     },
     "output_type": "display_data"
    }
   ],
   "source": [
    "num_neurons=10\n",
    "embedding_vecor_length = 32\n",
    "dropout_pcnt=.2\n",
    "batch_size=16\n",
    "epochs=5\n",
    "\n",
    "model = Sequential()\n",
    "model.add(Embedding(input_dim=vocab_size, output_dim=embedding_vecor_length, input_length=max_tweet_length))\n",
    "model.add(LSTM(num_neurons))\n",
    "model.add(Dropout(dropout_pcnt))\n",
    "model.add(layers.Dense(10, activation='relu'))\n",
    "model.add(layers.Dense(1, activation='sigmoid'))\n",
    "model.compile(loss='binary_crossentropy', optimizer='adam', metrics=['accuracy'])\n",
    "history = model.fit(X_train, y_train,\n",
    "                    epochs=epochs,\n",
    "                    verbose=False,\n",
    "                    batch_size=batch_size,\n",
    "                    validation_data=(X_test, y_test))\n",
    "loss, accuracy = model.evaluate(X_train, y_train, verbose=False)\n",
    "print(\"Training Accuracy: {:.4f}\".format(accuracy))\n",
    "loss, accuracy = model.evaluate(X_test, y_test, verbose=False)\n",
    "print(\"Testing Accuracy:  {:.4f}\".format(accuracy))\n",
    "ml_results[\"RNN_DROP\"]=accuracy\n",
    "plot_history(history)"
   ]
  },
  {
   "cell_type": "markdown",
   "metadata": {},
   "source": [
    "Accuracy didn't improve and the visualizations show that our rate of learning has not changed much. Perhaps this technique would make more sense with a larger dataset.  \n",
    "\n",
    "### Using Pretrained Word Embeddings with LSTM\n",
    "\n",
    "Finally, we will try one last NLP technique. Instead of training our own word embeddings, we will use one that has been pre-trained. The following code uses GloVe (another option would be Word2Vec) with the parameter 'trainable' set to true, which means the embedding will be updated during training. I tried this parameter both ways and found that setting this to true produced better results. Because we are using a dropout layer, overfitting is slightly less of an issue, which lets us train for more epochs than the previous models."
   ]
  },
  {
   "cell_type": "code",
   "execution_count": 78,
   "metadata": {},
   "outputs": [],
   "source": [
    "embedding_vecor_length=32\n",
    "emb_matrix = create_emb_matrix('data/glove.6B.200d.txt',tokenizer.word_index, embedding_vecor_length)"
   ]
  },
  {
   "cell_type": "code",
   "execution_count": 79,
   "metadata": {},
   "outputs": [
    {
     "name": "stdout",
     "output_type": "stream",
     "text": [
      "Training Accuracy: 0.9239\n",
      "Testing Accuracy:  0.8306\n"
     ]
    },
    {
     "data": {
      "image/png": "[encoded data removed]",
      "text/plain": [
       "<Figure size 864x360 with 2 Axes>"
      ]
     },
     "metadata": {
      "needs_background": "light"
     },
     "output_type": "display_data"
    }
   ],
   "source": [
    "num_neurons=10\n",
    "dropout_pcnt=.2\n",
    "batch_size=16\n",
    "epochs=5\n",
    "\n",
    "model = Sequential()\n",
    "model.add(Embedding(input_dim=vocab_size, output_dim=embedding_vecor_length, weights=[emb_matrix], input_length=max_tweet_length, trainable=True))\n",
    "         \n",
    "model.add(LSTM(num_neurons))\n",
    "model.add(Dropout(dropout_pcnt))\n",
    "model.add(layers.Dense(10, activation='relu'))\n",
    "model.add(layers.Dense(1, activation='sigmoid'))\n",
    "model.compile(loss='binary_crossentropy', optimizer='adam', metrics=['accuracy'])\n",
    "history = model.fit(X_train, y_train,\n",
    "                    epochs=epochs,\n",
    "                    verbose=False,\n",
    "                    validation_data=(X_test, y_test))\n",
    "loss, accuracy = model.evaluate(X_train, y_train, verbose=False)\n",
    "print(\"Training Accuracy: {:.4f}\".format(accuracy))\n",
    "loss, accuracy = model.evaluate(X_test, y_test, verbose=False)\n",
    "print(\"Testing Accuracy:  {:.4f}\".format(accuracy))\n",
    "ml_results[\"RNN_GLOVE\"]=accuracy\n",
    "plot_history(history)"
   ]
  },
  {
   "cell_type": "markdown",
   "metadata": {},
   "source": [
    "### Convolutional Neural Network (CNN)\n",
    "\n",
    "Next, we will try a CNN model to see how that compares to our RNN. Since we are working with text data (which is 1 dimensional sequence) instead of image data (which is 2 dimensional), we will use just one dimension for our convolution and max pooling layers. I ran the following code using 2, 3, and 4 for our kernel size (size of the convolutional window) and found that a value of 3 produced the best result. I stuck with the default stride size of 1.  "
   ]
  },
  {
   "cell_type": "code",
   "execution_count": 80,
   "metadata": {},
   "outputs": [
    {
     "name": "stdout",
     "output_type": "stream",
     "text": [
      "Training Accuracy: 0.9718\n",
      "Testing Accuracy:  0.8210\n"
     ]
    },
    {
     "data": {
      "image/png": "[encoded data removed]",
      "text/plain": [
       "<Figure size 864x360 with 2 Axes>"
      ]
     },
     "metadata": {
      "needs_background": "light"
     },
     "output_type": "display_data"
    }
   ],
   "source": [
    "num_neurons=10\n",
    "dropout_pcnt=.2\n",
    "batch_size=16\n",
    "epochs=7\n",
    "embedding_vecor_length=32 # or embedding dimension\n",
    "max_tweet_length = 280\n",
    "kernel =3  \n",
    "    \n",
    "model = Sequential()\n",
    "model.add(Embedding(input_dim=vocab_size, output_dim=embedding_vecor_length, weights=[emb_matrix], input_length=max_tweet_length, trainable=True))\n",
    "model.add(Conv1D (filters=embedding_vecor_length,  kernel_size=kernel, padding='same', activation='relu'))\n",
    "model.add(MaxPooling1D(pool_size=3, padding='same'))\n",
    "model.add(Flatten())\n",
    "model.add(Dropout(dropout_pcnt))\n",
    "model.add(Dense(10, activation='relu'))\n",
    "model.add(Dense(1, activation='sigmoid'))\n",
    "model.compile(loss='binary_crossentropy', optimizer='adam', metrics=['accuracy'])\n",
    "history = model.fit(X_train, y_train,\n",
    "                    epochs=epochs,\n",
    "                    verbose=False,\n",
    "                    validation_data=(X_test, y_test))\n",
    "loss, accuracy = model.evaluate(X_train, y_train, verbose=False)\n",
    "print(\"Training Accuracy: {:.4f}\".format(accuracy))\n",
    "loss, accuracy = model.evaluate(X_test, y_test, verbose=False)\n",
    "print(\"Testing Accuracy:  {:.4f}\".format(accuracy))\n",
    "ml_results[\"CNN_GLOVE\"]=accuracy\n",
    "plot_history(history)"
   ]
  },
  {
   "cell_type": "markdown",
   "metadata": {},
   "source": [
    "Although our CNN model didn't perform quite as good as our RNN, which leveraged Long Short Term Memory, the code certainly runs much faster. This is due to the way the convolutional layer and max pooling layers shrink the dimensions of the data before being fed to the dense layers of the network."
   ]
  },
  {
   "cell_type": "code",
   "execution_count": 81,
   "metadata": {},
   "outputs": [
    {
     "name": "stderr",
     "output_type": "stream",
     "text": [
      "C:\\Users\\rebec\\Anaconda3\\envs\\uwdatasci420\\lib\\site-packages\\ipykernel_launcher.py:16: UserWarning: Matplotlib is currently using module://ipykernel.pylab.backend_inline, which is a non-GUI backend, so cannot show the figure.\n",
      "  app.launch_new_instance()\n"
     ]
    },
    {
     "data": {
      "image/png": "[encoded data removed]",
      "text/plain": [
       "<Figure size 1152x288 with 1 Axes>"
      ]
     },
     "metadata": {
      "needs_background": "light"
     },
     "output_type": "display_data"
    }
   ],
   "source": [
    "fig = plt.figure(figsize=(16,4)) # Define plot area\n",
    "ax1 = fig.add_subplot(111)\n",
    "my_colors = 'rgbymckrgbymck'\n",
    "\n",
    "ax1.bar(ml_results.keys(), ml_results.values(), width = .6,color=my_colors)\n",
    "ax1.set_xticks(range(len(ml_results)), list(ml_results.keys()))\n",
    "plt.ylim(.4, 1)\n",
    "plt.ylabel('Accuracy')\n",
    "plt.xlabel('Model')\n",
    "plt.title('Accuracy by ML/NN Model')\n",
    "\n",
    "x_val=-.24\n",
    "for value in ml_results.values():\n",
    "    plt.text(x = x_val , y = value+.02, s = str(round(value, 4)) , size = 12)\n",
    "    x_val=x_val+1\n",
    "fig.show()"
   ]
  },
  {
   "cell_type": "markdown",
   "metadata": {},
   "source": [
    "### Summary\n",
    "\n",
    "By keeping our dataset fairly small, to only about 8000 tweets, we were able to exercise many NLP techniques in a timely manner. \n",
    "\n",
    "After using our custom made twitter objects to pull data from the Tweepy API, and manually preprocessing the text, we were able to push this data through several machine learning models to perform supervised learning for a binary classification problem. \n",
    "\n",
    "Most models performed fairly well, within a 75% – 85% accuracy rate, when used to predict the political affiliation of the politicians behind the tweets. Although the Random Forest Classifier and SVC models performed almost as well as our neural networks, I suspect that as the size of our dataset increased, our neural networks would improve faster than the more traditional machine learning models, since their strength is more apparent when dealing with big data. \n",
    "\n",
    "The interesting question is, would CNNs or RNNs eventually win out as the stronger model as the size of the dataset increased? When working with word embeddings, as opposed to BOW or TF-IDF, additional complexity is available to the neural networks. Instead of just occurrence or frequency of words, these word vectors preserve the order that the words, as well as a form of semantic meaning for each word. Both CNN and RNN models can take advantage of this more complex representation of text, but in different ways. Recurrent Neural Networks, which are designed to make use of sequential data, are able to utilize the order of words to build a more complex model, whereas Convolutional Neural Networks are able to use convolutions and pooling operations to recognize patterns in embedding word vectors that would not be possible for simple BOW representations.\n",
    "\n",
    "Much thanks to the following articles that helped me clean up my code and better explain many of the NLP techniques used in this project:\n",
    "\n",
    "<a href=\"https://kavita-ganesan.com/text-preprocessing-tutorial/?relatedposts_hit=1&relatedposts_origin=1659&relatedposts_position=1#.XbdeQJpKiUk\">All you need to know about Text Preprocessing for Machine Learning & NLP</a> By Kavita Ganesan\n",
    "    \n",
    "<a href=\"https://realpython.com/python-keras-text-classification/\">Practical Text Classification With Python and Keras</a>, by by Nikolai Janakiev\n",
    "\n",
    "<a href=\"https://machinelearningmastery.com/use-word-embedding-layers-deep-learning-keras/#targetText=Keras%20Embedding%20Layer,represented%20by%20a%20unique%20integer\">How to Use Word Embedding Layers for Deep Learning with Keras</a>, by Jason Brownlee\n",
    "\n",
    "<a href=\"https://towardsdatascience.com/text-classification-rnns-or-cnn-s-98c86a0dd361\">Text Classification — RNN’s or CNN’s?</a> by Shreya Ghelani\n",
    "\n",
    "<a href=\"http://debajyotidatta.github.io/nlp/deep/learning/word-embeddings/2016/11/27/Understanding-Convolutions-In-Text/\">Understanding Convolutions in Text</a> by Debajyoti Datta\n",
    "\n",
    "<a href=\"https://missinglink.ai/guides/keras/keras-conv1d-working-1d-convolutional-neural-networks-keras/\">Keras Conv1D: Working with 1D Convolutional Neural Networks in Keras</a> by missinglink.ai\n",
    "\n",
    "<a href=\"https://www.youtube.com/channel/UCFxcvyt2Ucq5IL0_1Njzqlg\">Various videos put togeather</a> by LucidProgramming"
   ]
  },
  {
   "cell_type": "code",
   "execution_count": null,
   "metadata": {},
   "outputs": [],
   "source": []
  }
 ],
 "metadata": {
  "anaconda-cloud": {},
  "kernelspec": {
   "display_name": "Python 3",
   "language": "python",
   "name": "python3"
  },
  "language_info": {
   "codemirror_mode": {
    "name": "ipython",
    "version": 3
   },
   "file_extension": ".py",
   "mimetype": "text/x-python",
   "name": "python",
   "nbconvert_exporter": "python",
   "pygments_lexer": "ipython3",
   "version": "3.6.8"
  }
 },
 "nbformat": 4,
 "nbformat_minor": 1
}
