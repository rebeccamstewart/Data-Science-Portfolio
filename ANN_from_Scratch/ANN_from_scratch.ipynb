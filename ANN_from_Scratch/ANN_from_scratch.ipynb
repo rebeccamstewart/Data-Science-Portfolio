{
    "metadata": {
        "kernelspec": {
            "name": "python3",
            "display_name": "Python 3"
        },
        "language_info": {
            "name": "python",
            "version": "3.7.1",
            "mimetype": "text/x-python",
            "codemirror_mode": {
                "name": "ipython",
                "version": 3
            },
            "pygments_lexer": "ipython3",
            "nbconvert_exporter": "python",
            "file_extension": ".py"
        }
    },
    "nbformat_minor": 2,
    "nbformat": 4,
    "cells": [
        {
            "cell_type": "markdown",
            "source": [
                "# Artificial Neural Network Implemented From Scratch\n",
                "\n",
                "## Rebecca Stewart\n",
                ""
            ],
            "metadata": {
                "azdata_cell_guid": "7ba27f89-ed03-48ca-81a4-918a60776fec"
            }
        },
        {
            "cell_type": "markdown",
            "source": [
                "\n",
                "Objective; \n",
                "* Build a multi-layer feed-forward/backpropagation neural network classifier without the help of deep learning libraries. \n",
                "* One must be able to adjust the following parameters:\n",
                "    1. Learning Rate\n",
                "    2. Number of epochs\n",
                "    3. Depth of architecture—number of hidden layers between the input and output layers\n",
                "    4. Number of nodes in a hidden layer—width of the hidden layers  \n",
                "* Test the classifier using all the features in the Red/White Wine dataset (RedWhiteWine.csv) allowing the classifier to decide how to build the internal weighting system. Attributes can be reviewed in the WineQuality.pdf.  \n",
                "* Determine what the best neural network structure and hyperparameter settings results in the best predictive capability.\n",
                ""
            ],
            "metadata": {
                "azdata_cell_guid": "d42e551e-6b55-448a-accb-19966e527f73"
            }
        },
        {
            "cell_type": "code",
            "source": [
                "import numpy as np\n",
                "import pandas as pd\n",
                "import matplotlib.pyplot as plt\n",
                "from sklearn.preprocessing import MinMaxScaler"
            ],
            "metadata": {
                "azdata_cell_guid": "edcf9178-1da5-4512-ad15-c4989417507c"
            },
            "outputs": [],
            "execution_count": 1
        },
        {
            "cell_type": "code",
            "source": [
                "# Read in the data\n",
                "file = \"https://library.startlearninglabs.uw.edu/DATASCI420/2019/Datasets/RedWhiteWine.csv\"\n",
                "#We know we have some blank rows, so, skip_blank_lines=True will help clean up the dataset\n",
                "data = pd.read_csv(file, sep=\",\", header=0, skip_blank_lines=True )\n",
                "data.head()"
            ],
            "metadata": {
                "azdata_cell_guid": "0bd2afc5-0fc8-46c2-a83e-cbcca94d7f82"
            },
            "outputs": [
                {
                    "output_type": "execute_result",
                    "execution_count": 2,
                    "data": {
                        "text/html": "<div>\n<style scoped>\n    .dataframe tbody tr th:only-of-type {\n        vertical-align: middle;\n    }\n\n    .dataframe tbody tr th {\n        vertical-align: top;\n    }\n\n    .dataframe thead th {\n        text-align: right;\n    }\n</style>\n<table border=\"1\" class=\"dataframe\">\n  <thead>\n    <tr style=\"text-align: right;\">\n      <th></th>\n      <th>fixed acidity</th>\n      <th>volatile acidity</th>\n      <th>citric acid</th>\n      <th>residual sugar</th>\n      <th>chlorides</th>\n      <th>free sulfur dioxide</th>\n      <th>total sulfur dioxide</th>\n      <th>density</th>\n      <th>pH</th>\n      <th>sulphates</th>\n      <th>alcohol</th>\n      <th>quality</th>\n      <th>Class</th>\n    </tr>\n  </thead>\n  <tbody>\n    <tr>\n      <th>0</th>\n      <td>7.4</td>\n      <td>0.70</td>\n      <td>0.00</td>\n      <td>1.9</td>\n      <td>0.076</td>\n      <td>11.0</td>\n      <td>34.0</td>\n      <td>0.9978</td>\n      <td>3.51</td>\n      <td>0.56</td>\n      <td>9.4</td>\n      <td>5</td>\n      <td>1</td>\n    </tr>\n    <tr>\n      <th>1</th>\n      <td>7.8</td>\n      <td>0.88</td>\n      <td>0.00</td>\n      <td>2.6</td>\n      <td>0.098</td>\n      <td>25.0</td>\n      <td>67.0</td>\n      <td>0.9968</td>\n      <td>3.20</td>\n      <td>0.68</td>\n      <td>9.8</td>\n      <td>5</td>\n      <td>1</td>\n    </tr>\n    <tr>\n      <th>2</th>\n      <td>7.8</td>\n      <td>0.76</td>\n      <td>0.04</td>\n      <td>2.3</td>\n      <td>0.092</td>\n      <td>15.0</td>\n      <td>54.0</td>\n      <td>0.9970</td>\n      <td>3.26</td>\n      <td>0.65</td>\n      <td>9.8</td>\n      <td>5</td>\n      <td>1</td>\n    </tr>\n    <tr>\n      <th>3</th>\n      <td>11.2</td>\n      <td>0.28</td>\n      <td>0.56</td>\n      <td>1.9</td>\n      <td>0.075</td>\n      <td>17.0</td>\n      <td>60.0</td>\n      <td>0.9980</td>\n      <td>3.16</td>\n      <td>0.58</td>\n      <td>9.8</td>\n      <td>6</td>\n      <td>1</td>\n    </tr>\n    <tr>\n      <th>4</th>\n      <td>7.4</td>\n      <td>0.70</td>\n      <td>0.00</td>\n      <td>1.9</td>\n      <td>0.076</td>\n      <td>11.0</td>\n      <td>34.0</td>\n      <td>0.9978</td>\n      <td>3.51</td>\n      <td>0.56</td>\n      <td>9.4</td>\n      <td>5</td>\n      <td>1</td>\n    </tr>\n  </tbody>\n</table>\n</div>",
                        "text/plain": "   fixed acidity  volatile acidity  citric acid  residual sugar  chlorides  \\\n0            7.4              0.70         0.00             1.9      0.076   \n1            7.8              0.88         0.00             2.6      0.098   \n2            7.8              0.76         0.04             2.3      0.092   \n3           11.2              0.28         0.56             1.9      0.075   \n4            7.4              0.70         0.00             1.9      0.076   \n\n   free sulfur dioxide  total sulfur dioxide  density    pH  sulphates  \\\n0                 11.0                  34.0   0.9978  3.51       0.56   \n1                 25.0                  67.0   0.9968  3.20       0.68   \n2                 15.0                  54.0   0.9970  3.26       0.65   \n3                 17.0                  60.0   0.9980  3.16       0.58   \n4                 11.0                  34.0   0.9978  3.51       0.56   \n\n   alcohol  quality  Class  \n0      9.4        5      1  \n1      9.8        5      1  \n2      9.8        5      1  \n3      9.8        6      1  \n4      9.4        5      1  "
                    },
                    "metadata": {}
                }
            ],
            "execution_count": 2
        },
        {
            "cell_type": "code",
            "source": [
                "# What kind of data types are included?\n",
                "data.dtypes"
            ],
            "metadata": {
                "azdata_cell_guid": "a0485d03-690f-4616-98e3-53923928c576"
            },
            "outputs": [
                {
                    "output_type": "execute_result",
                    "execution_count": 3,
                    "data": {
                        "text/plain": "fixed acidity           float64\nvolatile acidity        float64\ncitric acid             float64\nresidual sugar          float64\nchlorides               float64\nfree sulfur dioxide     float64\ntotal sulfur dioxide    float64\ndensity                 float64\npH                      float64\nsulphates               float64\nalcohol                 float64\nquality                   int64\nClass                     int64\ndtype: object"
                    },
                    "metadata": {}
                }
            ],
            "execution_count": 3
        },
        {
            "cell_type": "code",
            "source": [
                "data.shape"
            ],
            "metadata": {
                "azdata_cell_guid": "674d6203-5c5d-4d90-94aa-1f25d6e3eb61"
            },
            "outputs": [
                {
                    "output_type": "execute_result",
                    "execution_count": 4,
                    "data": {
                        "text/plain": "(6497, 13)"
                    },
                    "metadata": {}
                }
            ],
            "execution_count": 4
        },
        {
            "cell_type": "code",
            "source": [
                "data.describe()"
            ],
            "metadata": {
                "azdata_cell_guid": "91965269-7c79-45b2-bc79-cfbea5281058"
            },
            "outputs": [
                {
                    "output_type": "execute_result",
                    "execution_count": 5,
                    "data": {
                        "text/html": "<div>\n<style scoped>\n    .dataframe tbody tr th:only-of-type {\n        vertical-align: middle;\n    }\n\n    .dataframe tbody tr th {\n        vertical-align: top;\n    }\n\n    .dataframe thead th {\n        text-align: right;\n    }\n</style>\n<table border=\"1\" class=\"dataframe\">\n  <thead>\n    <tr style=\"text-align: right;\">\n      <th></th>\n      <th>fixed acidity</th>\n      <th>volatile acidity</th>\n      <th>citric acid</th>\n      <th>residual sugar</th>\n      <th>chlorides</th>\n      <th>free sulfur dioxide</th>\n      <th>total sulfur dioxide</th>\n      <th>density</th>\n      <th>pH</th>\n      <th>sulphates</th>\n      <th>alcohol</th>\n      <th>quality</th>\n      <th>Class</th>\n    </tr>\n  </thead>\n  <tbody>\n    <tr>\n      <th>count</th>\n      <td>6497.000000</td>\n      <td>6497.000000</td>\n      <td>6497.000000</td>\n      <td>6497.000000</td>\n      <td>6497.000000</td>\n      <td>6497.000000</td>\n      <td>6497.000000</td>\n      <td>6497.000000</td>\n      <td>6497.000000</td>\n      <td>6497.000000</td>\n      <td>6497.000000</td>\n      <td>6497.000000</td>\n      <td>6497.000000</td>\n    </tr>\n    <tr>\n      <th>mean</th>\n      <td>7.215307</td>\n      <td>0.339666</td>\n      <td>0.318633</td>\n      <td>5.443235</td>\n      <td>0.056034</td>\n      <td>30.525319</td>\n      <td>115.744574</td>\n      <td>0.994697</td>\n      <td>3.218501</td>\n      <td>0.531268</td>\n      <td>10.491801</td>\n      <td>5.818378</td>\n      <td>0.246114</td>\n    </tr>\n    <tr>\n      <th>std</th>\n      <td>1.296434</td>\n      <td>0.164636</td>\n      <td>0.145318</td>\n      <td>4.757804</td>\n      <td>0.035034</td>\n      <td>17.749400</td>\n      <td>56.521855</td>\n      <td>0.002999</td>\n      <td>0.160787</td>\n      <td>0.148806</td>\n      <td>1.192712</td>\n      <td>0.873255</td>\n      <td>0.430779</td>\n    </tr>\n    <tr>\n      <th>min</th>\n      <td>3.800000</td>\n      <td>0.080000</td>\n      <td>0.000000</td>\n      <td>0.600000</td>\n      <td>0.009000</td>\n      <td>1.000000</td>\n      <td>6.000000</td>\n      <td>0.987110</td>\n      <td>2.720000</td>\n      <td>0.220000</td>\n      <td>8.000000</td>\n      <td>3.000000</td>\n      <td>0.000000</td>\n    </tr>\n    <tr>\n      <th>25%</th>\n      <td>6.400000</td>\n      <td>0.230000</td>\n      <td>0.250000</td>\n      <td>1.800000</td>\n      <td>0.038000</td>\n      <td>17.000000</td>\n      <td>77.000000</td>\n      <td>0.992340</td>\n      <td>3.110000</td>\n      <td>0.430000</td>\n      <td>9.500000</td>\n      <td>5.000000</td>\n      <td>0.000000</td>\n    </tr>\n    <tr>\n      <th>50%</th>\n      <td>7.000000</td>\n      <td>0.290000</td>\n      <td>0.310000</td>\n      <td>3.000000</td>\n      <td>0.047000</td>\n      <td>29.000000</td>\n      <td>118.000000</td>\n      <td>0.994890</td>\n      <td>3.210000</td>\n      <td>0.510000</td>\n      <td>10.300000</td>\n      <td>6.000000</td>\n      <td>0.000000</td>\n    </tr>\n    <tr>\n      <th>75%</th>\n      <td>7.700000</td>\n      <td>0.400000</td>\n      <td>0.390000</td>\n      <td>8.100000</td>\n      <td>0.065000</td>\n      <td>41.000000</td>\n      <td>156.000000</td>\n      <td>0.996990</td>\n      <td>3.320000</td>\n      <td>0.600000</td>\n      <td>11.300000</td>\n      <td>6.000000</td>\n      <td>0.000000</td>\n    </tr>\n    <tr>\n      <th>max</th>\n      <td>15.900000</td>\n      <td>1.580000</td>\n      <td>1.660000</td>\n      <td>65.800000</td>\n      <td>0.611000</td>\n      <td>289.000000</td>\n      <td>440.000000</td>\n      <td>1.038980</td>\n      <td>4.010000</td>\n      <td>2.000000</td>\n      <td>14.900000</td>\n      <td>9.000000</td>\n      <td>1.000000</td>\n    </tr>\n  </tbody>\n</table>\n</div>",
                        "text/plain": "       fixed acidity  volatile acidity  citric acid  residual sugar  \\\ncount    6497.000000       6497.000000  6497.000000     6497.000000   \nmean        7.215307          0.339666     0.318633        5.443235   \nstd         1.296434          0.164636     0.145318        4.757804   \nmin         3.800000          0.080000     0.000000        0.600000   \n25%         6.400000          0.230000     0.250000        1.800000   \n50%         7.000000          0.290000     0.310000        3.000000   \n75%         7.700000          0.400000     0.390000        8.100000   \nmax        15.900000          1.580000     1.660000       65.800000   \n\n         chlorides  free sulfur dioxide  total sulfur dioxide      density  \\\ncount  6497.000000          6497.000000           6497.000000  6497.000000   \nmean      0.056034            30.525319            115.744574     0.994697   \nstd       0.035034            17.749400             56.521855     0.002999   \nmin       0.009000             1.000000              6.000000     0.987110   \n25%       0.038000            17.000000             77.000000     0.992340   \n50%       0.047000            29.000000            118.000000     0.994890   \n75%       0.065000            41.000000            156.000000     0.996990   \nmax       0.611000           289.000000            440.000000     1.038980   \n\n                pH    sulphates      alcohol      quality        Class  \ncount  6497.000000  6497.000000  6497.000000  6497.000000  6497.000000  \nmean      3.218501     0.531268    10.491801     5.818378     0.246114  \nstd       0.160787     0.148806     1.192712     0.873255     0.430779  \nmin       2.720000     0.220000     8.000000     3.000000     0.000000  \n25%       3.110000     0.430000     9.500000     5.000000     0.000000  \n50%       3.210000     0.510000    10.300000     6.000000     0.000000  \n75%       3.320000     0.600000    11.300000     6.000000     0.000000  \nmax       4.010000     2.000000    14.900000     9.000000     1.000000  "
                    },
                    "metadata": {}
                }
            ],
            "execution_count": 5
        },
        {
            "cell_type": "code",
            "source": [
                "# Check for Class Imbalance Problem. According to Seth, unless one class is less than 5% of the other, we are ok\n",
                "data['Class'].value_counts().sort_index()"
            ],
            "metadata": {
                "azdata_cell_guid": "298d72bc-054b-4f1e-97dc-bdb8afdb4985"
            },
            "outputs": [
                {
                    "output_type": "execute_result",
                    "execution_count": 6,
                    "data": {
                        "text/plain": "0    4898\n1    1599\nName: Class, dtype: int64"
                    },
                    "metadata": {}
                }
            ],
            "execution_count": 6
        },
        {
            "cell_type": "code",
            "source": [
                "# Make sure that these really are numeric and any values that are not will be coded consistently as NaN\n",
                "data = data.apply(pd.to_numeric, errors='coerce')\n",
                "\n",
                "# Confirm that there are no missing values\n",
                "print(data.isnull().sum(axis = 0))"
            ],
            "metadata": {
                "azdata_cell_guid": "df72724f-dec5-41dd-adf8-86def7a24b19"
            },
            "outputs": [
                {
                    "output_type": "stream",
                    "name": "stdout",
                    "text": "fixed acidity           0\nvolatile acidity        0\ncitric acid             0\nresidual sugar          0\nchlorides               0\nfree sulfur dioxide     0\ntotal sulfur dioxide    0\ndensity                 0\npH                      0\nsulphates               0\nalcohol                 0\nquality                 0\nClass                   0\ndtype: int64\n"
                }
            ],
            "execution_count": 7
        },
        {
            "cell_type": "code",
            "source": [
                "# Scale the columns - this will only affect those that are not alredy 0/1 values\n",
                "scaler = MinMaxScaler()\n",
                "data[data.columns] = scaler.fit_transform(data[data.columns])\n",
                "data.head()\n"
            ],
            "metadata": {
                "azdata_cell_guid": "46afa4d2-9f6c-4afc-855b-17050b741f74"
            },
            "outputs": [
                {
                    "output_type": "execute_result",
                    "execution_count": 8,
                    "data": {
                        "text/html": "<div>\n<style scoped>\n    .dataframe tbody tr th:only-of-type {\n        vertical-align: middle;\n    }\n\n    .dataframe tbody tr th {\n        vertical-align: top;\n    }\n\n    .dataframe thead th {\n        text-align: right;\n    }\n</style>\n<table border=\"1\" class=\"dataframe\">\n  <thead>\n    <tr style=\"text-align: right;\">\n      <th></th>\n      <th>fixed acidity</th>\n      <th>volatile acidity</th>\n      <th>citric acid</th>\n      <th>residual sugar</th>\n      <th>chlorides</th>\n      <th>free sulfur dioxide</th>\n      <th>total sulfur dioxide</th>\n      <th>density</th>\n      <th>pH</th>\n      <th>sulphates</th>\n      <th>alcohol</th>\n      <th>quality</th>\n      <th>Class</th>\n    </tr>\n  </thead>\n  <tbody>\n    <tr>\n      <th>0</th>\n      <td>0.297521</td>\n      <td>0.413333</td>\n      <td>0.000000</td>\n      <td>0.019939</td>\n      <td>0.111296</td>\n      <td>0.034722</td>\n      <td>0.064516</td>\n      <td>0.206092</td>\n      <td>0.612403</td>\n      <td>0.191011</td>\n      <td>0.202899</td>\n      <td>0.333333</td>\n      <td>1.0</td>\n    </tr>\n    <tr>\n      <th>1</th>\n      <td>0.330579</td>\n      <td>0.533333</td>\n      <td>0.000000</td>\n      <td>0.030675</td>\n      <td>0.147841</td>\n      <td>0.083333</td>\n      <td>0.140553</td>\n      <td>0.186813</td>\n      <td>0.372093</td>\n      <td>0.258427</td>\n      <td>0.260870</td>\n      <td>0.333333</td>\n      <td>1.0</td>\n    </tr>\n    <tr>\n      <th>2</th>\n      <td>0.330579</td>\n      <td>0.453333</td>\n      <td>0.024096</td>\n      <td>0.026074</td>\n      <td>0.137874</td>\n      <td>0.048611</td>\n      <td>0.110599</td>\n      <td>0.190669</td>\n      <td>0.418605</td>\n      <td>0.241573</td>\n      <td>0.260870</td>\n      <td>0.333333</td>\n      <td>1.0</td>\n    </tr>\n    <tr>\n      <th>3</th>\n      <td>0.611570</td>\n      <td>0.133333</td>\n      <td>0.337349</td>\n      <td>0.019939</td>\n      <td>0.109635</td>\n      <td>0.055556</td>\n      <td>0.124424</td>\n      <td>0.209948</td>\n      <td>0.341085</td>\n      <td>0.202247</td>\n      <td>0.260870</td>\n      <td>0.500000</td>\n      <td>1.0</td>\n    </tr>\n    <tr>\n      <th>4</th>\n      <td>0.297521</td>\n      <td>0.413333</td>\n      <td>0.000000</td>\n      <td>0.019939</td>\n      <td>0.111296</td>\n      <td>0.034722</td>\n      <td>0.064516</td>\n      <td>0.206092</td>\n      <td>0.612403</td>\n      <td>0.191011</td>\n      <td>0.202899</td>\n      <td>0.333333</td>\n      <td>1.0</td>\n    </tr>\n  </tbody>\n</table>\n</div>",
                        "text/plain": "   fixed acidity  volatile acidity  citric acid  residual sugar  chlorides  \\\n0       0.297521          0.413333     0.000000        0.019939   0.111296   \n1       0.330579          0.533333     0.000000        0.030675   0.147841   \n2       0.330579          0.453333     0.024096        0.026074   0.137874   \n3       0.611570          0.133333     0.337349        0.019939   0.109635   \n4       0.297521          0.413333     0.000000        0.019939   0.111296   \n\n   free sulfur dioxide  total sulfur dioxide   density        pH  sulphates  \\\n0             0.034722              0.064516  0.206092  0.612403   0.191011   \n1             0.083333              0.140553  0.186813  0.372093   0.258427   \n2             0.048611              0.110599  0.190669  0.418605   0.241573   \n3             0.055556              0.124424  0.209948  0.341085   0.202247   \n4             0.034722              0.064516  0.206092  0.612403   0.191011   \n\n    alcohol   quality  Class  \n0  0.202899  0.333333    1.0  \n1  0.260870  0.333333    1.0  \n2  0.260870  0.333333    1.0  \n3  0.260870  0.500000    1.0  \n4  0.202899  0.333333    1.0  "
                    },
                    "metadata": {}
                }
            ],
            "execution_count": 8
        },
        {
            "cell_type": "markdown",
            "source": [
                "### Prepare  Y and X for ANN functions"
            ],
            "metadata": {
                "azdata_cell_guid": "7d858a25-2bda-4ad6-b402-8a2a7962172a"
            }
        },
        {
            "cell_type": "code",
            "source": [
                "Y = data[\"Class\"]\n",
                "X = data.iloc[:,0:-1] \n",
                "X = X.T # This is necessary so that we feed the gradient decent function X as # Dimension by # Datapoints\n",
                "Y = np.array(Y) # This is necessary so that we pass Y as a vector instead of a series\n",
                "Y = Y.reshape((1, len(Y)))"
            ],
            "metadata": {
                "azdata_cell_guid": "a5ac279a-636f-4e0d-aad1-7936a489ef25"
            },
            "outputs": [],
            "execution_count": 9
        },
        {
            "cell_type": "markdown",
            "source": [
                "### Logistic (Sigmoid) Function"
            ],
            "metadata": {
                "azdata_cell_guid": "a4a8ab24-2640-46bc-8263-63e3f842d63d"
            }
        },
        {
            "cell_type": "code",
            "source": [
                "# This function does something similar to sklearn.linear_model.LogisticRegressionCV()\n",
                "# Creating a numerically stable logistic s-shaped definition to call\n",
                "def sigmoid(x, Derivative=False):\n",
                "    x = np.clip(x, -500, 500)  # limit the values of the signal between -500 and 500\n",
                "    if x.any()>=0:\n",
                "        return 1/(1 + np.exp(-x))\n",
                "    else:\n",
                "        return np.exp(x)/(1 + np.exp(x))"
            ],
            "metadata": {
                "azdata_cell_guid": "3d181743-ef00-4705-ba14-4830ab656b0a"
            },
            "outputs": [],
            "execution_count": 10
        },
        {
            "cell_type": "markdown",
            "source": [
                "### TanH Activation Function"
            ],
            "metadata": {
                "azdata_cell_guid": "1c4b457f-e73c-4f47-970b-dbea0a80b30d"
            }
        },
        {
            "cell_type": "code",
            "source": [
                "\n",
                "# An alternate activation function\n",
                "def tanh(x):\n",
                "    x = np.clip(x, -500, 500)  # limit the values of the signal between -500 and 500\n",
                "    return np.tanh(x) "
            ],
            "metadata": {
                "azdata_cell_guid": "739af7b3-fcab-4009-b683-65c3780407a6"
            },
            "outputs": [],
            "execution_count": 11
        },
        {
            "cell_type": "markdown",
            "source": [
                "### Loss Function\n",
                "\n",
                "Because we are dealing with a binary classification problem, we will use  cross-entropy for our loss function, this is also sometimes referred to as logarithmic loss. \n",
                "\n",
                "Cross Entropy loss for a single datapoint = $\\sum_{i=1}^{c} y_i*log (\\hat y_i) $\n",
                "For binary classification: $y_i*log (\\hat y_i) + (1-y_i)*log(1-\\hat y_i) $"
            ],
            "metadata": {
                "azdata_cell_guid": "c1db33ca-8000-4e9d-bf46-f32b6ee0e90c"
            }
        },
        {
            "cell_type": "code",
            "source": [
                "\n",
                "def loss(m, Y, A ):\n",
                "    # Cross entropy loss function\n",
                "    cost = (-1/m)*np.sum(Y*np.log(A) + (1-Y)*np.log(1-A)) # cost of error\n",
                "    return cost"
            ],
            "metadata": {
                "azdata_cell_guid": "e52b2e8c-dc8b-47c2-ad80-1231e2b20ce7"
            },
            "outputs": [],
            "execution_count": 12
        },
        {
            "cell_type": "markdown",
            "source": [
                "### Initialize Parameters\n",
                "This function will initialize a vector or matrix of random numbers. It will be used when we initially create our weights and biases.  "
            ],
            "metadata": {
                "azdata_cell_guid": "6137a9b2-b6cb-47c5-9f14-96bdf617e3f7"
            }
        },
        {
            "cell_type": "code",
            "source": [
                "# define the dimentions and set the weights to random numbers\n",
                "\n",
                "def init_parameters(dim1, dim2,std=1e-1, random = True):\n",
                "    if(random):\n",
                "        return(np.random.random([dim1,dim2])*std)\n",
                "    else:\n",
                "        return(np.zeros([dim1,dim2]))"
            ],
            "metadata": {
                "azdata_cell_guid": "0629e725-df96-4f29-999c-b48806412c4f"
            },
            "outputs": [],
            "execution_count": 13
        },
        {
            "cell_type": "markdown",
            "source": [
                "### Forward Propagation\n",
                "The purpose of the forward propagation function is to modify the data as it moves from layer to layer using weights and biases. \n",
                "\n",
                "The calc_out_vec function does two things; First, it calculates the dot product of our data (either from the input layer or from a previous hidden layer) with the weight matrix and adds our biases. Then it uses a sigmoid function (our activation function) to squish the results to a values between zero and one.\n",
                "\n",
                "The fwd_prop function also keeps track of the outputs from the calc_out_vec function and stores them in an  array so it can be passed back to the calling function, so that they can be used in back-propagation."
            ],
            "metadata": {
                "azdata_cell_guid": "b9e7e008-6d7c-4953-b6cc-fc984748c704"
            }
        },
        {
            "cell_type": "code",
            "source": [
                "# Single layer network: Forward Prop\n",
                "# Passed in the weight vectors, bias vector, the input vector and the Y\n",
                "def calc_out_vec(W,b,X):\n",
                "    Z =  np.dot(W, X) + b     # dot product of the weights and X + bias\n",
                "    A = sigmoid(Z)  #    print(Z.shape)\n",
                "    # Uses sigmoid to create a predicted vector\n",
                "    return(A)\n",
                "\n",
                "def fwd_prop(weights,biases,X,Y, input_layers):\n",
                "    A=[]\n",
                "    outputs_vectors=[]\n",
                "    for index in range(input_layers):\n",
                "        if index==0:\n",
                "            A.append(calc_out_vec(weights[index],biases[index], X)) \n",
                "        else:\n",
                "            A.append(calc_out_vec(weights[index], biases[index], A[index-1]) )\n",
                "            \n",
                "        outputs_vectors.append(A[index])\n",
                "    return(outputs_vectors)\n",
                "    "
            ],
            "metadata": {
                "azdata_cell_guid": "28e65a28-31ae-4dbb-8a68-f3acd031d532"
            },
            "outputs": [],
            "execution_count": 14
        },
        {
            "cell_type": "markdown",
            "source": [
                "### Backpropagation\n",
                "This function is used to calculate the gradient so that we can adjust the weights and biases. We start with the last layer and go backwards through the layers, each step calculating the derivatives of the weights and biases, which are then returned to the calling function. "
            ],
            "metadata": {
                "azdata_cell_guid": "7c6ea88e-1e3a-448b-9d3d-6ad13320bb1c"
            }
        },
        {
            "cell_type": "code",
            "source": [
                "\n",
                "def back_prop(A,weights,X,Y, input_layers):\n",
                "    m = np.shape(X)[1] # used the calculate the cost by the number of inputs -1/m\n",
                "    # Initialize these lists with zeros so that we can fill them up with values from each layer\n",
                "    dW=[0] * (input_layers)\n",
                "    db=[0] * (input_layers)\n",
                "    dZ=[0] * (input_layers)\n",
                "    for index in reversed(range(input_layers)):\n",
                "        # If this is the last layer/output layer, then compare to the target values, and use this to calculate derivitives\n",
                "        if index == input_layers-1:\n",
                "            dZ[index] = A[index] - Y\n",
                "            dW[index] = np.dot(dZ[index], A[index-1].T)/m\n",
                "            db[index] = np.sum(dZ[index], axis=1, keepdims=True)/m\n",
                "               \n",
                "        # If this is not the output layer, but a hidden layer, then we calculate the derivitives using information from the  last layer\n",
                "        else:\n",
                "            dZ[index] = np.multiply(np.dot(weights[index+1].T, dZ[index+1]), 1-np.power(A[index], 2))\n",
                "            if index==0:\n",
                "                dW[index] = np.dot(dZ[index], X.T)/m # here we use the original dataset dimensions\n",
                "            else:\n",
                "                dW[index] = np.dot(dZ[index], A[index-1].T)/m\n",
                "            db[index] = np.sum(dZ[index], axis=1, keepdims=True)/m\n",
                "           \n",
                "           \n",
                "    return(dW, db)"
            ],
            "metadata": {
                "azdata_cell_guid": "be005983-a688-49b9-9657-d7cd0f474b54"
            },
            "outputs": [],
            "execution_count": 15
        },
        {
            "cell_type": "markdown",
            "source": [
                "### Initialize the size of the hidden layers\n",
                "This function uses the size of the dataset (number of features), along with number of hidden layers, number of nodes in the output layer and number of nodes in the hidden layers to initialize an array, which just keeps track of the size of each layer. "
            ],
            "metadata": {
                "azdata_cell_guid": "a33a6e10-d29f-4a66-864b-7159a51e5cd4"
            }
        },
        {
            "cell_type": "code",
            "source": [
                "def initialize_array_of_node_sizes(num_feature,num_hidden_layers, hl_nodes, num_out_nodes ):\n",
                "    # Create an array that keeps track of number of nodes in each layer\n",
                "    \n",
                "    # Initial list variable\n",
                "    array_num_Nodes = list()\n",
                "\n",
                "    # First layer is our input layer, the number of nodes is going to be the number of features of our dataset\n",
                "    array_num_Nodes.append(num_feature)\n",
                "\n",
                "    # For each hidden layer, add number of nodes for that hidden layer (which is specified by hl_nodes)\n",
                "    for layer in range(num_hidden_layers):\n",
                "        array_num_Nodes.append(hl_nodes)\n",
                "    \n",
                "    # Finally, add the number of nodes for our output layer. If output is binary, then this will be just a single node\n",
                "    array_num_Nodes.append(num_out_nodes)\n",
                "    return array_num_Nodes"
            ],
            "metadata": {
                "azdata_cell_guid": "39e359db-46cd-4ea1-8dbe-d60c5fb4b4ba"
            },
            "outputs": [],
            "execution_count": 16
        },
        {
            "cell_type": "markdown",
            "source": [
                "### Gradient Descent\n",
                "This function performs a simple gradient descent. After completing a round of forward propagation and backward propagation, the weights are updated based on the learning rate and gradient. The loss for that iteration is recorded in the loss_array. The function returns the final weight and bias parameters and the loss array after running for given number of iterations.\n"
            ],
            "metadata": {
                "azdata_cell_guid": "a612292c-4d2f-42a1-9d26-5f166702e974"
            }
        },
        {
            "cell_type": "code",
            "source": [
                "def run_grad_desc(num_epochs,learning_rate,X,Y,num_out_nodes, num_hidden_layers, hl_nodes, num_feature, num_samples ):\n",
                "    # Create an array that keeps track of number of nodes in each layer\n",
                "    array_num_Nodes=initialize_array_of_node_sizes(num_feature, num_hidden_layers, hl_nodes, num_out_nodes )\n",
                "    m = np.shape(X)[1] # used the calculate the cost by the number of inputs -1/m\n",
                "    loss_array = np.ones([num_epochs])*np.nan # resets the loss_array to NaNs\n",
                "    weights = []\n",
                "    biases=[]\n",
                "    x=0\n",
                "    \n",
                "    # This loop create lists for the weights and biases\n",
                "    while x+2 <=len(array_num_Nodes):\n",
                "        level_1, level_2 = array_num_Nodes[x:x+2] #This will let us select 1st and 2nd values, 2nd and 3rd, 3rd and 4th, etch\n",
                "        curr_weights= init_parameters(level_2, level_1,  True)\n",
                "        weights.append(curr_weights) \n",
                "        biases.append(init_parameters(level_2, 1,  True)) \n",
                "        x += 1\n",
                "        \n",
                "    # for each epoch, run forward prop, backward prop and update the weights & biases\n",
                "    for i in np.arange(num_epochs):\n",
                "        A = fwd_prop(weights,biases,X,Y, num_hidden_layers+1)\n",
                "        derivitave_Weight,derivitave_Bias  = back_prop(A, weights,X,Y, num_hidden_layers +1)    # get gradient and the cost from BP \n",
                "        index = num_hidden_layers \n",
                "        while index >=0:   \n",
                "            weights[index] = weights[index] - learning_rate*derivitave_Weight[index]    # update weight\n",
                "            biases[index] = biases[index] - learning_rate*derivitave_Bias[index]    # update bias\n",
                "            index = index-1\n",
                "        cost =loss(m, Y, A[num_hidden_layers])\n",
                "        \n",
                "        loss_array[i] = cost    # loss array tracks cost values\n",
                "        parameter = {\"W\":weights,\"B\":biases}           # assign \n",
                "        \n",
                "    return(parameter,loss_array)"
            ],
            "metadata": {
                "azdata_cell_guid": "3bfffcde-12ff-471a-ab06-50699178dcb2"
            },
            "outputs": [],
            "execution_count": 17
        },
        {
            "cell_type": "markdown",
            "source": [
                "### Running the code - calling the gradient descent function\n",
                "Now that all of the helper functions are created we can run gradient descent on the wine dataset."
            ],
            "metadata": {
                "azdata_cell_guid": "77f2db80-dfff-4549-900a-b2b986b0d8b9"
            }
        },
        {
            "cell_type": "code",
            "source": [
                "# Number of features and rows of dataset is set here\n",
                "num_feature, num_samples = np.shape(X)\n",
                "num_out_nodes= 1        # Number of ouput nodes"
            ],
            "metadata": {
                "azdata_cell_guid": "a44a93f4-60a6-4dc0-ad7c-6b5e4067f354"
            },
            "outputs": [],
            "execution_count": 21
        },
        {
            "cell_type": "code",
            "source": [
                "#Initialize Variables\n",
                "np.random.seed(0)\n",
                "num_epochs = 1000        #Number of epochs: 100 500 1000 10000   \n",
                "learning_rate = 0.005    #Learning Rate: .2 .1 .05 .01\n",
                "num_hidden_layers=2     # Number of hidden layers\n",
                "hl_nodes=6              # Number of nodes in our hidden layers\n",
                "\n",
                "params, loss_array = run_grad_desc(num_epochs,learning_rate,X,Y,num_out_nodes, num_hidden_layers , hl_nodes, num_feature, num_samples )\n",
                "#print(loss_array[num_epochs-1])"
            ],
            "metadata": {
                "azdata_cell_guid": "15d401e9-4887-4e10-b070-4532ccde165a"
            },
            "outputs": [],
            "execution_count": 28
        },
        {
            "cell_type": "markdown",
            "source": [
                "### Plot of the loss array\n",
                "We can use the following to get a sense of how quickly the loss goes down for number of epochs.  I ran the above with different values for the num_epochs and learning rates and found that 1000 seems to be about right for this dataset if the learning rate isn't less than .005."
            ],
            "metadata": {
                "azdata_cell_guid": "ba6a73bd-faaa-4a84-9865-dcb7dcd0802b"
            }
        },
        {
            "cell_type": "code",
            "source": [
                "import matplotlib.pyplot as plt\n",
                "plt.rcParams['figure.figsize'] = (8.0, 6.0) #Set default plot sizes\n",
                "plt.rcParams['image.interpolation'] = 'nearest' #Use nearest neighbor for rendering"
            ],
            "metadata": {
                "azdata_cell_guid": "d06a2393-bc16-4a4e-8296-8ef4aa80fe9b"
            },
            "outputs": [],
            "execution_count": 29
        },
        {
            "cell_type": "code",
            "source": [
                "plt.plot(loss_array)"
            ],
            "metadata": {
                "azdata_cell_guid": "e19f2dff-0e63-4b4b-843a-9a32db94676d"
            },
            "outputs": [
                {
                    "output_type": "execute_result",
                    "execution_count": 30,
                    "data": {
                        "text/plain": "[<matplotlib.lines.Line2D at 0x1835947bf28>]"
                    },
                    "metadata": {}
                },
                {
                    "output_type": "display_data",
                    "data": {
                        "image/png": "[encoded data removed]",
                        "text/plain": "<Figure size 576x432 with 1 Axes>"
                    },
                    "metadata": {
                        "needs_background": "light"
                    }
                }
            ],
            "execution_count": 30
        },
        {
            "cell_type": "markdown",
            "source": [
                "\n"
            ],
            "metadata": {
                "azdata_cell_guid": "abb8b5be-e8ec-4264-98ce-23032c41aa60"
            }
        },
        {
            "cell_type": "markdown",
            "source": [
                "### The following code will allow us to adjust these four hyperparameters\n",
                "<ul>\n",
                "<li>Learning Rate\n",
                "<li>Number of epochs\n",
                "<li>Depth of architecture—number of hidden layers between the input and output layers\n",
                "<li>Number of nodes in a hidden layer—width of the hidden layers (optional) Momentum\n",
                "</ul>\n",
                "We can compare the final loss values for different sets of parameters."
            ],
            "metadata": {
                "azdata_cell_guid": "3b282e8d-0727-444b-acdb-eb1a3c100117"
            }
        },
        {
            "cell_type": "code",
            "source": [
                "np.random.seed(0)\n",
                "num_epochs = 1000            #Number of epochs: 100 500 1000 10000         \n",
                "learning_rate = 0.02         #Learning Rate: .2 .1 .05 .01     \n",
                "num_hidden_layers=2          #Depth of architecture 1 2 4 6\n",
                "hl_nodes=6                  #Number of nodes in a hidden layer: 4, 6, 8, 10\n",
                "\n",
                "params, loss_array = run_grad_desc(num_epochs,learning_rate,X,Y,num_out_nodes, num_hidden_layers , hl_nodes, num_feature, num_samples )\n",
                "print(str(min(loss_array))  + \" for a neural network with a learning rate of \" + str(learning_rate) +\", with \" + str(num_hidden_layers) + \" hidden layers, and \" + str(hl_nodes) + \" nodes in the hidden layers.\" )\n"
            ],
            "metadata": {
                "azdata_cell_guid": "906c1fc1-cae4-4125-ae63-1fb173bc9107"
            },
            "outputs": [
                {
                    "output_type": "stream",
                    "name": "stdout",
                    "text": "0.5580519461855119 for a neural network with a learning rate of 0.02, with 2 hidden layers, and 6 nodes in the hidden layers.\n"
                }
            ],
            "execution_count": 31
        },
        {
            "cell_type": "code",
            "source": [
                "np.random.seed(0)\n",
                "num_epochs = 1000           #Number of epochs: 100 500 1000 5000         \n",
                "learning_rate = 0.05        #Learning Rate: .2 .1 .05 .01     \n",
                "num_hidden_layers=4         #Depth of architecture 1 2 4 6\n",
                "hl_nodes=8                  #Number of nodes in a hidden layer: 4, 6, 8, 10\n",
                "\n",
                "params, loss_array = run_grad_desc(num_epochs,learning_rate,X,Y,num_out_nodes, num_hidden_layers , hl_nodes, num_feature, num_samples )\n",
                "print(str(min(loss_array))  + \" for a neural network with a learning rate of \" + str(learning_rate) +\", with \" + str(num_hidden_layers) + \" hidden layers, and \" + str(hl_nodes) + \" nodes in the hidden layers.\" )"
            ],
            "metadata": {
                "azdata_cell_guid": "6f226112-d814-4686-90c4-2a261f69da55"
            },
            "outputs": [
                {
                    "output_type": "stream",
                    "name": "stdout",
                    "text": "0.5580255313127026 for a neural network with a learning rate of 0.05, with 4 hidden layers, and 8 nodes in the hidden layers.\n"
                }
            ],
            "execution_count": 32
        },
        {
            "cell_type": "code",
            "source": [
                "np.random.seed(0)\n",
                "num_epochs = 500             #Number of epochs: 100 500 1000 10000         \n",
                "learning_rate = 0.01         #Learning Rate: .2 .1 .05 .01     \n",
                "num_hidden_layers=1          #Depth of architecture 1 2 4 6\n",
                "hl_nodes=10                 #Number of nodes in a hidden layer: 4, 6, 8, 10\n",
                "\n",
                "params, loss_array = run_grad_desc(num_epochs,learning_rate,X,Y,num_out_nodes, num_hidden_layers , hl_nodes, num_feature, num_samples )\n",
                "print(str(min(loss_array))  + \" for a neural network with a learning rate of \" + str(learning_rate) +\", with \" + str(num_hidden_layers) + \" hidden layers, and \" + str(hl_nodes) + \" nodes in the hidden layers.\" )\n"
            ],
            "metadata": {
                "azdata_cell_guid": "2cdbb8a7-e2eb-479a-8f76-a9c006c4e881"
            },
            "outputs": [
                {
                    "output_type": "stream",
                    "name": "stdout",
                    "text": "0.5600854668871793 for a neural network with a learning rate of 0.01, with 1 hidden layers, and 10 nodes in the hidden layers.\n"
                }
            ],
            "execution_count": 35
        },
        {
            "cell_type": "code",
            "source": [
                "np.random.seed(0)\n",
                "num_epochs = 5000             #Number of epochs: 100 500 1000 10000         \n",
                "learning_rate = 0.02         #Learning Rate: .2 .1 .05 .01     \n",
                "num_hidden_layers=1          #Depth of architecture 1 2 4 6\n",
                "hl_nodes=2                   #Number of nodes in a hidden layer: 4, 6, 8, 10\n",
                "\n",
                "params, loss_array = run_grad_desc(num_epochs,learning_rate,X,Y,num_out_nodes, num_hidden_layers , hl_nodes, num_feature, num_samples )\n",
                "print(str(min(loss_array))  + \" for a neural network with a learning rate of \" + str(learning_rate) +\", with \" + str(num_hidden_layers) + \" hidden layers, and \" + str(hl_nodes) + \" nodes in the hidden layers.\" )\n"
            ],
            "metadata": {
                "azdata_cell_guid": "73be210a-121e-499f-b048-b6478c8aa2ff"
            },
            "outputs": [
                {
                    "output_type": "stream",
                    "name": "stdout",
                    "text": "0.5542685340509332 for a neural network with a learning rate of 0.02, with 1 hidden layers, and 2 nodes in the hidden layers.\n"
                }
            ],
            "execution_count": 364
        },
        {
            "cell_type": "code",
            "source": [
                "#Initialize Variables\n",
                "np.random.seed(0)\n",
                "num_epochs = 1000            #Number of epochs: 100 500 1000 10000         \n",
                "learning_rate = 0.05         #Learning Rate: .2 .1 .05 .01     \n",
                "num_hidden_layers=0          #Depth of architecture 1 2 4 6\n",
                "hl_nodes=0                   #Number of nodes in a hidden layer: 4, 6, 8, 10\n",
                "\n",
                "params, loss_array = run_grad_desc(num_epochs,learning_rate,X,Y,num_out_nodes, num_hidden_layers , hl_nodes, num_feature, num_samples )\n",
                "print(str(min(loss_array))  + \" for a neural network with a learning rate of \" + str(learning_rate) +\", with \" + str(num_hidden_layers) + \" hidden layers, and \" + str(hl_nodes) + \" nodes in the hidden layers.\" )"
            ],
            "metadata": {
                "azdata_cell_guid": "1edec8a3-b3ff-40db-8f68-0bab3e370e6a"
            },
            "outputs": [
                {
                    "output_type": "stream",
                    "name": "stdout",
                    "text": "0.5508187169424116 for a neural network with a learning rate of 0.05, with 0 hidden layers, and 0 nodes in the hidden layers.\n"
                }
            ],
            "execution_count": 363
        },
        {
            "cell_type": "markdown",
            "source": [
                "## Results/Summary \n",
                "<b>What structure and hyperparameter settings results in the best predictive capability?</b>\n",
                "    \n",
                "Surprisingly, a simpler structure with no hidden layers gives us a smaller error, or better predictive model, than one with more hidden layers. \n"
            ],
            "metadata": {
                "azdata_cell_guid": "03b5dfb3-d21b-4795-b4b7-3297bc4e4bd0"
            }
        }
    ]
}